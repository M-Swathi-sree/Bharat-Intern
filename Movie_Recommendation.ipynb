{
  "nbformat": 4,
  "nbformat_minor": 0,
  "metadata": {
    "colab": {
      "provenance": [],
      "authorship_tag": "ABX9TyNN146Bt947pJ4m7G4M1AUf",
      "include_colab_link": true
    },
    "kernelspec": {
      "name": "python3",
      "display_name": "Python 3"
    },
    "language_info": {
      "name": "python"
    }
  },
  "cells": [
    {
      "cell_type": "markdown",
      "metadata": {
        "id": "view-in-github",
        "colab_type": "text"
      },
      "source": [
        "<a href=\"https://colab.research.google.com/github/M-Swathi-sree/Bharat-Intern/blob/main/Movie_Recommendation.ipynb\" target=\"_parent\"><img src=\"https://colab.research.google.com/assets/colab-badge.svg\" alt=\"Open In Colab\"/></a>"
      ]
    },
    {
      "cell_type": "markdown",
      "source": [
        "# Movie Recommendation System"
      ],
      "metadata": {
        "id": "dpD2qzBrLpnJ"
      }
    },
    {
      "cell_type": "markdown",
      "source": [
        "# Import Library"
      ],
      "metadata": {
        "id": "BiULAjRDMZmU"
      }
    },
    {
      "cell_type": "code",
      "execution_count": 1,
      "metadata": {
        "id": "czcrhQ1KLeDz"
      },
      "outputs": [],
      "source": [
        "import pandas as pd"
      ]
    },
    {
      "cell_type": "code",
      "source": [
        "import numpy as np"
      ],
      "metadata": {
        "id": "4_x3nGFVMlfx"
      },
      "execution_count": 2,
      "outputs": []
    },
    {
      "cell_type": "code",
      "source": [
        "df=pd.read_csv('https://github.com/YBI-Foundation/Dataset/raw/main/Movies%20Recommendation.csv')"
      ],
      "metadata": {
        "id": "iay82GOvMy0I"
      },
      "execution_count": 3,
      "outputs": []
    },
    {
      "cell_type": "code",
      "source": [
        "df.head()"
      ],
      "metadata": {
        "colab": {
          "base_uri": "https://localhost:8080/",
          "height": 672
        },
        "id": "H0rhmPJDPiST",
        "outputId": "51ec2427-38f9-478b-e4a3-171c6a8f4224"
      },
      "execution_count": 4,
      "outputs": [
        {
          "output_type": "execute_result",
          "data": {
            "text/plain": [
              "   Movie_ID      Movie_Title                       Movie_Genre Movie_Language  \\\n",
              "0         1       Four Rooms                      Crime Comedy             en   \n",
              "1         2        Star Wars  Adventure Action Science Fiction             en   \n",
              "2         3     Finding Nemo                  Animation Family             en   \n",
              "3         4     Forrest Gump              Comedy Drama Romance             en   \n",
              "4         5  American Beauty                             Drama             en   \n",
              "\n",
              "   Movie_Budget  Movie_Popularity Movie_Release_Date  Movie_Revenue  \\\n",
              "0       4000000         22.876230         09-12-1995        4300000   \n",
              "1      11000000        126.393695         25-05-1977      775398007   \n",
              "2      94000000         85.688789         30-05-2003      940335536   \n",
              "3      55000000        138.133331         06-07-1994      677945399   \n",
              "4      15000000         80.878605         15-09-1999      356296601   \n",
              "\n",
              "   Movie_Runtime  Movie_Vote  ...  \\\n",
              "0           98.0         6.5  ...   \n",
              "1          121.0         8.1  ...   \n",
              "2          100.0         7.6  ...   \n",
              "3          142.0         8.2  ...   \n",
              "4          122.0         7.9  ...   \n",
              "\n",
              "                                      Movie_Homepage  \\\n",
              "0                                                NaN   \n",
              "1  http://www.starwars.com/films/star-wars-episod...   \n",
              "2              http://movies.disney.com/finding-nemo   \n",
              "3                                                NaN   \n",
              "4                      http://www.dreamworks.com/ab/   \n",
              "\n",
              "                                      Movie_Keywords  \\\n",
              "0          hotel new year's eve witch bet hotel room   \n",
              "1        android galaxy hermit death star lightsaber   \n",
              "2  father son relationship harbor underwater fish...   \n",
              "3  vietnam veteran hippie mentally disabled runni...   \n",
              "4  male nudity female nudity adultery midlife cri...   \n",
              "\n",
              "                                      Movie_Overview  \\\n",
              "0  It's Ted the Bellhop's first night on the job....   \n",
              "1  Princess Leia is captured and held hostage by ...   \n",
              "2  Nemo, an adventurous young clownfish, is unexp...   \n",
              "3  A man with a low IQ has accomplished great thi...   \n",
              "4  Lester Burnham, a depressed suburban father in...   \n",
              "\n",
              "                              Movie_Production_House  \\\n",
              "0  [{\"name\": \"Miramax Films\", \"id\": 14}, {\"name\":...   \n",
              "1  [{\"name\": \"Lucasfilm\", \"id\": 1}, {\"name\": \"Twe...   \n",
              "2     [{\"name\": \"Pixar Animation Studios\", \"id\": 3}]   \n",
              "3          [{\"name\": \"Paramount Pictures\", \"id\": 4}]   \n",
              "4  [{\"name\": \"DreamWorks SKG\", \"id\": 27}, {\"name\"...   \n",
              "\n",
              "                            Movie_Production_Country  \\\n",
              "0  [{\"iso_3166_1\": \"US\", \"name\": \"United States o...   \n",
              "1  [{\"iso_3166_1\": \"US\", \"name\": \"United States o...   \n",
              "2  [{\"iso_3166_1\": \"US\", \"name\": \"United States o...   \n",
              "3  [{\"iso_3166_1\": \"US\", \"name\": \"United States o...   \n",
              "4  [{\"iso_3166_1\": \"US\", \"name\": \"United States o...   \n",
              "\n",
              "                      Movie_Spoken_Language  \\\n",
              "0  [{\"iso_639_1\": \"en\", \"name\": \"English\"}]   \n",
              "1  [{\"iso_639_1\": \"en\", \"name\": \"English\"}]   \n",
              "2  [{\"iso_639_1\": \"en\", \"name\": \"English\"}]   \n",
              "3  [{\"iso_639_1\": \"en\", \"name\": \"English\"}]   \n",
              "4  [{\"iso_639_1\": \"en\", \"name\": \"English\"}]   \n",
              "\n",
              "                                       Movie_Tagline  \\\n",
              "0  Twelve outrageous guests. Four scandalous requ...   \n",
              "1       A long time ago in a galaxy far, far away...   \n",
              "2  There are 3.7 trillion fish in the ocean, they...   \n",
              "3  The world will never be the same, once you've ...   \n",
              "4                                       Look closer.   \n",
              "\n",
              "                                          Movie_Cast  \\\n",
              "0  Tim Roth Antonio Banderas Jennifer Beals Madon...   \n",
              "1  Mark Hamill Harrison Ford Carrie Fisher Peter ...   \n",
              "2  Albert Brooks Ellen DeGeneres Alexander Gould ...   \n",
              "3  Tom Hanks Robin Wright Gary Sinise Mykelti Wil...   \n",
              "4  Kevin Spacey Annette Bening Thora Birch Wes Be...   \n",
              "\n",
              "                                          Movie_Crew   Movie_Director  \n",
              "0  [{'name': 'Allison Anders', 'gender': 1, 'depa...   Allison Anders  \n",
              "1  [{'name': 'George Lucas', 'gender': 2, 'depart...     George Lucas  \n",
              "2  [{'name': 'Andrew Stanton', 'gender': 2, 'depa...   Andrew Stanton  \n",
              "3  [{'name': 'Alan Silvestri', 'gender': 2, 'depa...  Robert Zemeckis  \n",
              "4  [{'name': 'Thomas Newman', 'gender': 2, 'depar...       Sam Mendes  \n",
              "\n",
              "[5 rows x 21 columns]"
            ],
            "text/html": [
              "\n",
              "  <div id=\"df-d18b19f5-77af-4304-8827-0e7a9037bb2b\" class=\"colab-df-container\">\n",
              "    <div>\n",
              "<style scoped>\n",
              "    .dataframe tbody tr th:only-of-type {\n",
              "        vertical-align: middle;\n",
              "    }\n",
              "\n",
              "    .dataframe tbody tr th {\n",
              "        vertical-align: top;\n",
              "    }\n",
              "\n",
              "    .dataframe thead th {\n",
              "        text-align: right;\n",
              "    }\n",
              "</style>\n",
              "<table border=\"1\" class=\"dataframe\">\n",
              "  <thead>\n",
              "    <tr style=\"text-align: right;\">\n",
              "      <th></th>\n",
              "      <th>Movie_ID</th>\n",
              "      <th>Movie_Title</th>\n",
              "      <th>Movie_Genre</th>\n",
              "      <th>Movie_Language</th>\n",
              "      <th>Movie_Budget</th>\n",
              "      <th>Movie_Popularity</th>\n",
              "      <th>Movie_Release_Date</th>\n",
              "      <th>Movie_Revenue</th>\n",
              "      <th>Movie_Runtime</th>\n",
              "      <th>Movie_Vote</th>\n",
              "      <th>...</th>\n",
              "      <th>Movie_Homepage</th>\n",
              "      <th>Movie_Keywords</th>\n",
              "      <th>Movie_Overview</th>\n",
              "      <th>Movie_Production_House</th>\n",
              "      <th>Movie_Production_Country</th>\n",
              "      <th>Movie_Spoken_Language</th>\n",
              "      <th>Movie_Tagline</th>\n",
              "      <th>Movie_Cast</th>\n",
              "      <th>Movie_Crew</th>\n",
              "      <th>Movie_Director</th>\n",
              "    </tr>\n",
              "  </thead>\n",
              "  <tbody>\n",
              "    <tr>\n",
              "      <th>0</th>\n",
              "      <td>1</td>\n",
              "      <td>Four Rooms</td>\n",
              "      <td>Crime Comedy</td>\n",
              "      <td>en</td>\n",
              "      <td>4000000</td>\n",
              "      <td>22.876230</td>\n",
              "      <td>09-12-1995</td>\n",
              "      <td>4300000</td>\n",
              "      <td>98.0</td>\n",
              "      <td>6.5</td>\n",
              "      <td>...</td>\n",
              "      <td>NaN</td>\n",
              "      <td>hotel new year's eve witch bet hotel room</td>\n",
              "      <td>It's Ted the Bellhop's first night on the job....</td>\n",
              "      <td>[{\"name\": \"Miramax Films\", \"id\": 14}, {\"name\":...</td>\n",
              "      <td>[{\"iso_3166_1\": \"US\", \"name\": \"United States o...</td>\n",
              "      <td>[{\"iso_639_1\": \"en\", \"name\": \"English\"}]</td>\n",
              "      <td>Twelve outrageous guests. Four scandalous requ...</td>\n",
              "      <td>Tim Roth Antonio Banderas Jennifer Beals Madon...</td>\n",
              "      <td>[{'name': 'Allison Anders', 'gender': 1, 'depa...</td>\n",
              "      <td>Allison Anders</td>\n",
              "    </tr>\n",
              "    <tr>\n",
              "      <th>1</th>\n",
              "      <td>2</td>\n",
              "      <td>Star Wars</td>\n",
              "      <td>Adventure Action Science Fiction</td>\n",
              "      <td>en</td>\n",
              "      <td>11000000</td>\n",
              "      <td>126.393695</td>\n",
              "      <td>25-05-1977</td>\n",
              "      <td>775398007</td>\n",
              "      <td>121.0</td>\n",
              "      <td>8.1</td>\n",
              "      <td>...</td>\n",
              "      <td>http://www.starwars.com/films/star-wars-episod...</td>\n",
              "      <td>android galaxy hermit death star lightsaber</td>\n",
              "      <td>Princess Leia is captured and held hostage by ...</td>\n",
              "      <td>[{\"name\": \"Lucasfilm\", \"id\": 1}, {\"name\": \"Twe...</td>\n",
              "      <td>[{\"iso_3166_1\": \"US\", \"name\": \"United States o...</td>\n",
              "      <td>[{\"iso_639_1\": \"en\", \"name\": \"English\"}]</td>\n",
              "      <td>A long time ago in a galaxy far, far away...</td>\n",
              "      <td>Mark Hamill Harrison Ford Carrie Fisher Peter ...</td>\n",
              "      <td>[{'name': 'George Lucas', 'gender': 2, 'depart...</td>\n",
              "      <td>George Lucas</td>\n",
              "    </tr>\n",
              "    <tr>\n",
              "      <th>2</th>\n",
              "      <td>3</td>\n",
              "      <td>Finding Nemo</td>\n",
              "      <td>Animation Family</td>\n",
              "      <td>en</td>\n",
              "      <td>94000000</td>\n",
              "      <td>85.688789</td>\n",
              "      <td>30-05-2003</td>\n",
              "      <td>940335536</td>\n",
              "      <td>100.0</td>\n",
              "      <td>7.6</td>\n",
              "      <td>...</td>\n",
              "      <td>http://movies.disney.com/finding-nemo</td>\n",
              "      <td>father son relationship harbor underwater fish...</td>\n",
              "      <td>Nemo, an adventurous young clownfish, is unexp...</td>\n",
              "      <td>[{\"name\": \"Pixar Animation Studios\", \"id\": 3}]</td>\n",
              "      <td>[{\"iso_3166_1\": \"US\", \"name\": \"United States o...</td>\n",
              "      <td>[{\"iso_639_1\": \"en\", \"name\": \"English\"}]</td>\n",
              "      <td>There are 3.7 trillion fish in the ocean, they...</td>\n",
              "      <td>Albert Brooks Ellen DeGeneres Alexander Gould ...</td>\n",
              "      <td>[{'name': 'Andrew Stanton', 'gender': 2, 'depa...</td>\n",
              "      <td>Andrew Stanton</td>\n",
              "    </tr>\n",
              "    <tr>\n",
              "      <th>3</th>\n",
              "      <td>4</td>\n",
              "      <td>Forrest Gump</td>\n",
              "      <td>Comedy Drama Romance</td>\n",
              "      <td>en</td>\n",
              "      <td>55000000</td>\n",
              "      <td>138.133331</td>\n",
              "      <td>06-07-1994</td>\n",
              "      <td>677945399</td>\n",
              "      <td>142.0</td>\n",
              "      <td>8.2</td>\n",
              "      <td>...</td>\n",
              "      <td>NaN</td>\n",
              "      <td>vietnam veteran hippie mentally disabled runni...</td>\n",
              "      <td>A man with a low IQ has accomplished great thi...</td>\n",
              "      <td>[{\"name\": \"Paramount Pictures\", \"id\": 4}]</td>\n",
              "      <td>[{\"iso_3166_1\": \"US\", \"name\": \"United States o...</td>\n",
              "      <td>[{\"iso_639_1\": \"en\", \"name\": \"English\"}]</td>\n",
              "      <td>The world will never be the same, once you've ...</td>\n",
              "      <td>Tom Hanks Robin Wright Gary Sinise Mykelti Wil...</td>\n",
              "      <td>[{'name': 'Alan Silvestri', 'gender': 2, 'depa...</td>\n",
              "      <td>Robert Zemeckis</td>\n",
              "    </tr>\n",
              "    <tr>\n",
              "      <th>4</th>\n",
              "      <td>5</td>\n",
              "      <td>American Beauty</td>\n",
              "      <td>Drama</td>\n",
              "      <td>en</td>\n",
              "      <td>15000000</td>\n",
              "      <td>80.878605</td>\n",
              "      <td>15-09-1999</td>\n",
              "      <td>356296601</td>\n",
              "      <td>122.0</td>\n",
              "      <td>7.9</td>\n",
              "      <td>...</td>\n",
              "      <td>http://www.dreamworks.com/ab/</td>\n",
              "      <td>male nudity female nudity adultery midlife cri...</td>\n",
              "      <td>Lester Burnham, a depressed suburban father in...</td>\n",
              "      <td>[{\"name\": \"DreamWorks SKG\", \"id\": 27}, {\"name\"...</td>\n",
              "      <td>[{\"iso_3166_1\": \"US\", \"name\": \"United States o...</td>\n",
              "      <td>[{\"iso_639_1\": \"en\", \"name\": \"English\"}]</td>\n",
              "      <td>Look closer.</td>\n",
              "      <td>Kevin Spacey Annette Bening Thora Birch Wes Be...</td>\n",
              "      <td>[{'name': 'Thomas Newman', 'gender': 2, 'depar...</td>\n",
              "      <td>Sam Mendes</td>\n",
              "    </tr>\n",
              "  </tbody>\n",
              "</table>\n",
              "<p>5 rows × 21 columns</p>\n",
              "</div>\n",
              "    <div class=\"colab-df-buttons\">\n",
              "\n",
              "  <div class=\"colab-df-container\">\n",
              "    <button class=\"colab-df-convert\" onclick=\"convertToInteractive('df-d18b19f5-77af-4304-8827-0e7a9037bb2b')\"\n",
              "            title=\"Convert this dataframe to an interactive table.\"\n",
              "            style=\"display:none;\">\n",
              "\n",
              "  <svg xmlns=\"http://www.w3.org/2000/svg\" height=\"24px\" viewBox=\"0 -960 960 960\">\n",
              "    <path d=\"M120-120v-720h720v720H120Zm60-500h600v-160H180v160Zm220 220h160v-160H400v160Zm0 220h160v-160H400v160ZM180-400h160v-160H180v160Zm440 0h160v-160H620v160ZM180-180h160v-160H180v160Zm440 0h160v-160H620v160Z\"/>\n",
              "  </svg>\n",
              "    </button>\n",
              "\n",
              "  <style>\n",
              "    .colab-df-container {\n",
              "      display:flex;\n",
              "      gap: 12px;\n",
              "    }\n",
              "\n",
              "    .colab-df-convert {\n",
              "      background-color: #E8F0FE;\n",
              "      border: none;\n",
              "      border-radius: 50%;\n",
              "      cursor: pointer;\n",
              "      display: none;\n",
              "      fill: #1967D2;\n",
              "      height: 32px;\n",
              "      padding: 0 0 0 0;\n",
              "      width: 32px;\n",
              "    }\n",
              "\n",
              "    .colab-df-convert:hover {\n",
              "      background-color: #E2EBFA;\n",
              "      box-shadow: 0px 1px 2px rgba(60, 64, 67, 0.3), 0px 1px 3px 1px rgba(60, 64, 67, 0.15);\n",
              "      fill: #174EA6;\n",
              "    }\n",
              "\n",
              "    .colab-df-buttons div {\n",
              "      margin-bottom: 4px;\n",
              "    }\n",
              "\n",
              "    [theme=dark] .colab-df-convert {\n",
              "      background-color: #3B4455;\n",
              "      fill: #D2E3FC;\n",
              "    }\n",
              "\n",
              "    [theme=dark] .colab-df-convert:hover {\n",
              "      background-color: #434B5C;\n",
              "      box-shadow: 0px 1px 3px 1px rgba(0, 0, 0, 0.15);\n",
              "      filter: drop-shadow(0px 1px 2px rgba(0, 0, 0, 0.3));\n",
              "      fill: #FFFFFF;\n",
              "    }\n",
              "  </style>\n",
              "\n",
              "    <script>\n",
              "      const buttonEl =\n",
              "        document.querySelector('#df-d18b19f5-77af-4304-8827-0e7a9037bb2b button.colab-df-convert');\n",
              "      buttonEl.style.display =\n",
              "        google.colab.kernel.accessAllowed ? 'block' : 'none';\n",
              "\n",
              "      async function convertToInteractive(key) {\n",
              "        const element = document.querySelector('#df-d18b19f5-77af-4304-8827-0e7a9037bb2b');\n",
              "        const dataTable =\n",
              "          await google.colab.kernel.invokeFunction('convertToInteractive',\n",
              "                                                    [key], {});\n",
              "        if (!dataTable) return;\n",
              "\n",
              "        const docLinkHtml = 'Like what you see? Visit the ' +\n",
              "          '<a target=\"_blank\" href=https://colab.research.google.com/notebooks/data_table.ipynb>data table notebook</a>'\n",
              "          + ' to learn more about interactive tables.';\n",
              "        element.innerHTML = '';\n",
              "        dataTable['output_type'] = 'display_data';\n",
              "        await google.colab.output.renderOutput(dataTable, element);\n",
              "        const docLink = document.createElement('div');\n",
              "        docLink.innerHTML = docLinkHtml;\n",
              "        element.appendChild(docLink);\n",
              "      }\n",
              "    </script>\n",
              "  </div>\n",
              "\n",
              "\n",
              "<div id=\"df-a4a6aecb-3ea4-4719-8ab4-f05a36df2808\">\n",
              "  <button class=\"colab-df-quickchart\" onclick=\"quickchart('df-a4a6aecb-3ea4-4719-8ab4-f05a36df2808')\"\n",
              "            title=\"Suggest charts\"\n",
              "            style=\"display:none;\">\n",
              "\n",
              "<svg xmlns=\"http://www.w3.org/2000/svg\" height=\"24px\"viewBox=\"0 0 24 24\"\n",
              "     width=\"24px\">\n",
              "    <g>\n",
              "        <path d=\"M19 3H5c-1.1 0-2 .9-2 2v14c0 1.1.9 2 2 2h14c1.1 0 2-.9 2-2V5c0-1.1-.9-2-2-2zM9 17H7v-7h2v7zm4 0h-2V7h2v10zm4 0h-2v-4h2v4z\"/>\n",
              "    </g>\n",
              "</svg>\n",
              "  </button>\n",
              "\n",
              "<style>\n",
              "  .colab-df-quickchart {\n",
              "      --bg-color: #E8F0FE;\n",
              "      --fill-color: #1967D2;\n",
              "      --hover-bg-color: #E2EBFA;\n",
              "      --hover-fill-color: #174EA6;\n",
              "      --disabled-fill-color: #AAA;\n",
              "      --disabled-bg-color: #DDD;\n",
              "  }\n",
              "\n",
              "  [theme=dark] .colab-df-quickchart {\n",
              "      --bg-color: #3B4455;\n",
              "      --fill-color: #D2E3FC;\n",
              "      --hover-bg-color: #434B5C;\n",
              "      --hover-fill-color: #FFFFFF;\n",
              "      --disabled-bg-color: #3B4455;\n",
              "      --disabled-fill-color: #666;\n",
              "  }\n",
              "\n",
              "  .colab-df-quickchart {\n",
              "    background-color: var(--bg-color);\n",
              "    border: none;\n",
              "    border-radius: 50%;\n",
              "    cursor: pointer;\n",
              "    display: none;\n",
              "    fill: var(--fill-color);\n",
              "    height: 32px;\n",
              "    padding: 0;\n",
              "    width: 32px;\n",
              "  }\n",
              "\n",
              "  .colab-df-quickchart:hover {\n",
              "    background-color: var(--hover-bg-color);\n",
              "    box-shadow: 0 1px 2px rgba(60, 64, 67, 0.3), 0 1px 3px 1px rgba(60, 64, 67, 0.15);\n",
              "    fill: var(--button-hover-fill-color);\n",
              "  }\n",
              "\n",
              "  .colab-df-quickchart-complete:disabled,\n",
              "  .colab-df-quickchart-complete:disabled:hover {\n",
              "    background-color: var(--disabled-bg-color);\n",
              "    fill: var(--disabled-fill-color);\n",
              "    box-shadow: none;\n",
              "  }\n",
              "\n",
              "  .colab-df-spinner {\n",
              "    border: 2px solid var(--fill-color);\n",
              "    border-color: transparent;\n",
              "    border-bottom-color: var(--fill-color);\n",
              "    animation:\n",
              "      spin 1s steps(1) infinite;\n",
              "  }\n",
              "\n",
              "  @keyframes spin {\n",
              "    0% {\n",
              "      border-color: transparent;\n",
              "      border-bottom-color: var(--fill-color);\n",
              "      border-left-color: var(--fill-color);\n",
              "    }\n",
              "    20% {\n",
              "      border-color: transparent;\n",
              "      border-left-color: var(--fill-color);\n",
              "      border-top-color: var(--fill-color);\n",
              "    }\n",
              "    30% {\n",
              "      border-color: transparent;\n",
              "      border-left-color: var(--fill-color);\n",
              "      border-top-color: var(--fill-color);\n",
              "      border-right-color: var(--fill-color);\n",
              "    }\n",
              "    40% {\n",
              "      border-color: transparent;\n",
              "      border-right-color: var(--fill-color);\n",
              "      border-top-color: var(--fill-color);\n",
              "    }\n",
              "    60% {\n",
              "      border-color: transparent;\n",
              "      border-right-color: var(--fill-color);\n",
              "    }\n",
              "    80% {\n",
              "      border-color: transparent;\n",
              "      border-right-color: var(--fill-color);\n",
              "      border-bottom-color: var(--fill-color);\n",
              "    }\n",
              "    90% {\n",
              "      border-color: transparent;\n",
              "      border-bottom-color: var(--fill-color);\n",
              "    }\n",
              "  }\n",
              "</style>\n",
              "\n",
              "  <script>\n",
              "    async function quickchart(key) {\n",
              "      const quickchartButtonEl =\n",
              "        document.querySelector('#' + key + ' button');\n",
              "      quickchartButtonEl.disabled = true;  // To prevent multiple clicks.\n",
              "      quickchartButtonEl.classList.add('colab-df-spinner');\n",
              "      try {\n",
              "        const charts = await google.colab.kernel.invokeFunction(\n",
              "            'suggestCharts', [key], {});\n",
              "      } catch (error) {\n",
              "        console.error('Error during call to suggestCharts:', error);\n",
              "      }\n",
              "      quickchartButtonEl.classList.remove('colab-df-spinner');\n",
              "      quickchartButtonEl.classList.add('colab-df-quickchart-complete');\n",
              "    }\n",
              "    (() => {\n",
              "      let quickchartButtonEl =\n",
              "        document.querySelector('#df-a4a6aecb-3ea4-4719-8ab4-f05a36df2808 button');\n",
              "      quickchartButtonEl.style.display =\n",
              "        google.colab.kernel.accessAllowed ? 'block' : 'none';\n",
              "    })();\n",
              "  </script>\n",
              "</div>\n",
              "\n",
              "    </div>\n",
              "  </div>\n"
            ],
            "application/vnd.google.colaboratory.intrinsic+json": {
              "type": "dataframe",
              "variable_name": "df"
            }
          },
          "metadata": {},
          "execution_count": 4
        }
      ]
    },
    {
      "cell_type": "code",
      "source": [
        "df.info()"
      ],
      "metadata": {
        "colab": {
          "base_uri": "https://localhost:8080/"
        },
        "id": "zHtpwpzKPqvd",
        "outputId": "e8ad8394-d656-4031-e022-d3fb8a696065"
      },
      "execution_count": 5,
      "outputs": [
        {
          "output_type": "stream",
          "name": "stdout",
          "text": [
            "<class 'pandas.core.frame.DataFrame'>\n",
            "RangeIndex: 4760 entries, 0 to 4759\n",
            "Data columns (total 21 columns):\n",
            " #   Column                    Non-Null Count  Dtype  \n",
            "---  ------                    --------------  -----  \n",
            " 0   Movie_ID                  4760 non-null   int64  \n",
            " 1   Movie_Title               4760 non-null   object \n",
            " 2   Movie_Genre               4760 non-null   object \n",
            " 3   Movie_Language            4760 non-null   object \n",
            " 4   Movie_Budget              4760 non-null   int64  \n",
            " 5   Movie_Popularity          4760 non-null   float64\n",
            " 6   Movie_Release_Date        4760 non-null   object \n",
            " 7   Movie_Revenue             4760 non-null   int64  \n",
            " 8   Movie_Runtime             4758 non-null   float64\n",
            " 9   Movie_Vote                4760 non-null   float64\n",
            " 10  Movie_Vote_Count          4760 non-null   int64  \n",
            " 11  Movie_Homepage            1699 non-null   object \n",
            " 12  Movie_Keywords            4373 non-null   object \n",
            " 13  Movie_Overview            4757 non-null   object \n",
            " 14  Movie_Production_House    4760 non-null   object \n",
            " 15  Movie_Production_Country  4760 non-null   object \n",
            " 16  Movie_Spoken_Language     4760 non-null   object \n",
            " 17  Movie_Tagline             3942 non-null   object \n",
            " 18  Movie_Cast                4733 non-null   object \n",
            " 19  Movie_Crew                4760 non-null   object \n",
            " 20  Movie_Director            4738 non-null   object \n",
            "dtypes: float64(3), int64(4), object(14)\n",
            "memory usage: 781.1+ KB\n"
          ]
        }
      ]
    },
    {
      "cell_type": "code",
      "source": [
        "df.shape"
      ],
      "metadata": {
        "colab": {
          "base_uri": "https://localhost:8080/"
        },
        "id": "EFQ681ElPsBT",
        "outputId": "c116f2ee-a413-48af-955a-79b73cf852d9"
      },
      "execution_count": 6,
      "outputs": [
        {
          "output_type": "execute_result",
          "data": {
            "text/plain": [
              "(4760, 21)"
            ]
          },
          "metadata": {},
          "execution_count": 6
        }
      ]
    },
    {
      "cell_type": "code",
      "source": [
        "df.columns"
      ],
      "metadata": {
        "colab": {
          "base_uri": "https://localhost:8080/"
        },
        "id": "wablwBSGPwci",
        "outputId": "19d7c7f9-cb79-4905-d244-57c2e691a3bb"
      },
      "execution_count": 7,
      "outputs": [
        {
          "output_type": "execute_result",
          "data": {
            "text/plain": [
              "Index(['Movie_ID', 'Movie_Title', 'Movie_Genre', 'Movie_Language',\n",
              "       'Movie_Budget', 'Movie_Popularity', 'Movie_Release_Date',\n",
              "       'Movie_Revenue', 'Movie_Runtime', 'Movie_Vote', 'Movie_Vote_Count',\n",
              "       'Movie_Homepage', 'Movie_Keywords', 'Movie_Overview',\n",
              "       'Movie_Production_House', 'Movie_Production_Country',\n",
              "       'Movie_Spoken_Language', 'Movie_Tagline', 'Movie_Cast', 'Movie_Crew',\n",
              "       'Movie_Director'],\n",
              "      dtype='object')"
            ]
          },
          "metadata": {},
          "execution_count": 7
        }
      ]
    },
    {
      "cell_type": "markdown",
      "source": [
        "# Get Feature Selection"
      ],
      "metadata": {
        "id": "ba9XV7tnP1Q0"
      }
    },
    {
      "cell_type": "code",
      "source": [
        "df_features=df[['Movie_Genre', 'Movie_Keywords',\n",
        "       'Movie_Tagline', 'Movie_Cast', 'Movie_Director']].fillna(' ')"
      ],
      "metadata": {
        "id": "hMei2JXzP5LY"
      },
      "execution_count": 8,
      "outputs": []
    },
    {
      "cell_type": "code",
      "source": [
        "df_features.shape"
      ],
      "metadata": {
        "colab": {
          "base_uri": "https://localhost:8080/"
        },
        "id": "IHCdmS5TQGcz",
        "outputId": "e27084e2-9e19-4dce-b330-b9761d43392f"
      },
      "execution_count": 9,
      "outputs": [
        {
          "output_type": "execute_result",
          "data": {
            "text/plain": [
              "(4760, 5)"
            ]
          },
          "metadata": {},
          "execution_count": 9
        }
      ]
    },
    {
      "cell_type": "code",
      "source": [
        "df_features"
      ],
      "metadata": {
        "colab": {
          "base_uri": "https://localhost:8080/",
          "height": 493
        },
        "id": "rU8_M5dsQKKq",
        "outputId": "117aab4a-0f48-4419-c2d9-16fb23d94356"
      },
      "execution_count": 10,
      "outputs": [
        {
          "output_type": "execute_result",
          "data": {
            "text/plain": [
              "                           Movie_Genre  \\\n",
              "0                         Crime Comedy   \n",
              "1     Adventure Action Science Fiction   \n",
              "2                     Animation Family   \n",
              "3                 Comedy Drama Romance   \n",
              "4                                Drama   \n",
              "...                                ...   \n",
              "4755                            Horror   \n",
              "4756               Comedy Family Drama   \n",
              "4757                    Thriller Drama   \n",
              "4758                            Family   \n",
              "4759                       Documentary   \n",
              "\n",
              "                                         Movie_Keywords  \\\n",
              "0             hotel new year's eve witch bet hotel room   \n",
              "1           android galaxy hermit death star lightsaber   \n",
              "2     father son relationship harbor underwater fish...   \n",
              "3     vietnam veteran hippie mentally disabled runni...   \n",
              "4     male nudity female nudity adultery midlife cri...   \n",
              "...                                                 ...   \n",
              "4755                                                      \n",
              "4756                                                      \n",
              "4757                     christian film sex trafficking   \n",
              "4758                                                      \n",
              "4759  music actors legendary perfomer classic hollyw...   \n",
              "\n",
              "                                          Movie_Tagline  \\\n",
              "0     Twelve outrageous guests. Four scandalous requ...   \n",
              "1          A long time ago in a galaxy far, far away...   \n",
              "2     There are 3.7 trillion fish in the ocean, they...   \n",
              "3     The world will never be the same, once you've ...   \n",
              "4                                          Look closer.   \n",
              "...                                                 ...   \n",
              "4755                The hot spot where Satan's waitin'.   \n",
              "4756           It’s better to stand out than to fit in.   \n",
              "4757           She never knew it could happen to her...   \n",
              "4758                                                      \n",
              "4759                                                      \n",
              "\n",
              "                                             Movie_Cast     Movie_Director  \n",
              "0     Tim Roth Antonio Banderas Jennifer Beals Madon...     Allison Anders  \n",
              "1     Mark Hamill Harrison Ford Carrie Fisher Peter ...       George Lucas  \n",
              "2     Albert Brooks Ellen DeGeneres Alexander Gould ...     Andrew Stanton  \n",
              "3     Tom Hanks Robin Wright Gary Sinise Mykelti Wil...    Robert Zemeckis  \n",
              "4     Kevin Spacey Annette Bening Thora Birch Wes Be...         Sam Mendes  \n",
              "...                                                 ...                ...  \n",
              "4755  Lisa Hart Carroll Michael Des Barres Paul Drak...         Pece Dingo  \n",
              "4756  Roni Akurati Brighton Sharbino Jason Lee Anjul...       Frank Lotito  \n",
              "4757  Nicole Smolen Kim Baldwin Ariana Stephens Brys...       Jaco Booyens  \n",
              "4758                                                                        \n",
              "4759                                    Tony Oppedisano  Simon Napier-Bell  \n",
              "\n",
              "[4760 rows x 5 columns]"
            ],
            "text/html": [
              "\n",
              "  <div id=\"df-911eca9c-afb5-4df9-8a0d-66eb4f5c89ef\" class=\"colab-df-container\">\n",
              "    <div>\n",
              "<style scoped>\n",
              "    .dataframe tbody tr th:only-of-type {\n",
              "        vertical-align: middle;\n",
              "    }\n",
              "\n",
              "    .dataframe tbody tr th {\n",
              "        vertical-align: top;\n",
              "    }\n",
              "\n",
              "    .dataframe thead th {\n",
              "        text-align: right;\n",
              "    }\n",
              "</style>\n",
              "<table border=\"1\" class=\"dataframe\">\n",
              "  <thead>\n",
              "    <tr style=\"text-align: right;\">\n",
              "      <th></th>\n",
              "      <th>Movie_Genre</th>\n",
              "      <th>Movie_Keywords</th>\n",
              "      <th>Movie_Tagline</th>\n",
              "      <th>Movie_Cast</th>\n",
              "      <th>Movie_Director</th>\n",
              "    </tr>\n",
              "  </thead>\n",
              "  <tbody>\n",
              "    <tr>\n",
              "      <th>0</th>\n",
              "      <td>Crime Comedy</td>\n",
              "      <td>hotel new year's eve witch bet hotel room</td>\n",
              "      <td>Twelve outrageous guests. Four scandalous requ...</td>\n",
              "      <td>Tim Roth Antonio Banderas Jennifer Beals Madon...</td>\n",
              "      <td>Allison Anders</td>\n",
              "    </tr>\n",
              "    <tr>\n",
              "      <th>1</th>\n",
              "      <td>Adventure Action Science Fiction</td>\n",
              "      <td>android galaxy hermit death star lightsaber</td>\n",
              "      <td>A long time ago in a galaxy far, far away...</td>\n",
              "      <td>Mark Hamill Harrison Ford Carrie Fisher Peter ...</td>\n",
              "      <td>George Lucas</td>\n",
              "    </tr>\n",
              "    <tr>\n",
              "      <th>2</th>\n",
              "      <td>Animation Family</td>\n",
              "      <td>father son relationship harbor underwater fish...</td>\n",
              "      <td>There are 3.7 trillion fish in the ocean, they...</td>\n",
              "      <td>Albert Brooks Ellen DeGeneres Alexander Gould ...</td>\n",
              "      <td>Andrew Stanton</td>\n",
              "    </tr>\n",
              "    <tr>\n",
              "      <th>3</th>\n",
              "      <td>Comedy Drama Romance</td>\n",
              "      <td>vietnam veteran hippie mentally disabled runni...</td>\n",
              "      <td>The world will never be the same, once you've ...</td>\n",
              "      <td>Tom Hanks Robin Wright Gary Sinise Mykelti Wil...</td>\n",
              "      <td>Robert Zemeckis</td>\n",
              "    </tr>\n",
              "    <tr>\n",
              "      <th>4</th>\n",
              "      <td>Drama</td>\n",
              "      <td>male nudity female nudity adultery midlife cri...</td>\n",
              "      <td>Look closer.</td>\n",
              "      <td>Kevin Spacey Annette Bening Thora Birch Wes Be...</td>\n",
              "      <td>Sam Mendes</td>\n",
              "    </tr>\n",
              "    <tr>\n",
              "      <th>...</th>\n",
              "      <td>...</td>\n",
              "      <td>...</td>\n",
              "      <td>...</td>\n",
              "      <td>...</td>\n",
              "      <td>...</td>\n",
              "    </tr>\n",
              "    <tr>\n",
              "      <th>4755</th>\n",
              "      <td>Horror</td>\n",
              "      <td></td>\n",
              "      <td>The hot spot where Satan's waitin'.</td>\n",
              "      <td>Lisa Hart Carroll Michael Des Barres Paul Drak...</td>\n",
              "      <td>Pece Dingo</td>\n",
              "    </tr>\n",
              "    <tr>\n",
              "      <th>4756</th>\n",
              "      <td>Comedy Family Drama</td>\n",
              "      <td></td>\n",
              "      <td>It’s better to stand out than to fit in.</td>\n",
              "      <td>Roni Akurati Brighton Sharbino Jason Lee Anjul...</td>\n",
              "      <td>Frank Lotito</td>\n",
              "    </tr>\n",
              "    <tr>\n",
              "      <th>4757</th>\n",
              "      <td>Thriller Drama</td>\n",
              "      <td>christian film sex trafficking</td>\n",
              "      <td>She never knew it could happen to her...</td>\n",
              "      <td>Nicole Smolen Kim Baldwin Ariana Stephens Brys...</td>\n",
              "      <td>Jaco Booyens</td>\n",
              "    </tr>\n",
              "    <tr>\n",
              "      <th>4758</th>\n",
              "      <td>Family</td>\n",
              "      <td></td>\n",
              "      <td></td>\n",
              "      <td></td>\n",
              "      <td></td>\n",
              "    </tr>\n",
              "    <tr>\n",
              "      <th>4759</th>\n",
              "      <td>Documentary</td>\n",
              "      <td>music actors legendary perfomer classic hollyw...</td>\n",
              "      <td></td>\n",
              "      <td>Tony Oppedisano</td>\n",
              "      <td>Simon Napier-Bell</td>\n",
              "    </tr>\n",
              "  </tbody>\n",
              "</table>\n",
              "<p>4760 rows × 5 columns</p>\n",
              "</div>\n",
              "    <div class=\"colab-df-buttons\">\n",
              "\n",
              "  <div class=\"colab-df-container\">\n",
              "    <button class=\"colab-df-convert\" onclick=\"convertToInteractive('df-911eca9c-afb5-4df9-8a0d-66eb4f5c89ef')\"\n",
              "            title=\"Convert this dataframe to an interactive table.\"\n",
              "            style=\"display:none;\">\n",
              "\n",
              "  <svg xmlns=\"http://www.w3.org/2000/svg\" height=\"24px\" viewBox=\"0 -960 960 960\">\n",
              "    <path d=\"M120-120v-720h720v720H120Zm60-500h600v-160H180v160Zm220 220h160v-160H400v160Zm0 220h160v-160H400v160ZM180-400h160v-160H180v160Zm440 0h160v-160H620v160ZM180-180h160v-160H180v160Zm440 0h160v-160H620v160Z\"/>\n",
              "  </svg>\n",
              "    </button>\n",
              "\n",
              "  <style>\n",
              "    .colab-df-container {\n",
              "      display:flex;\n",
              "      gap: 12px;\n",
              "    }\n",
              "\n",
              "    .colab-df-convert {\n",
              "      background-color: #E8F0FE;\n",
              "      border: none;\n",
              "      border-radius: 50%;\n",
              "      cursor: pointer;\n",
              "      display: none;\n",
              "      fill: #1967D2;\n",
              "      height: 32px;\n",
              "      padding: 0 0 0 0;\n",
              "      width: 32px;\n",
              "    }\n",
              "\n",
              "    .colab-df-convert:hover {\n",
              "      background-color: #E2EBFA;\n",
              "      box-shadow: 0px 1px 2px rgba(60, 64, 67, 0.3), 0px 1px 3px 1px rgba(60, 64, 67, 0.15);\n",
              "      fill: #174EA6;\n",
              "    }\n",
              "\n",
              "    .colab-df-buttons div {\n",
              "      margin-bottom: 4px;\n",
              "    }\n",
              "\n",
              "    [theme=dark] .colab-df-convert {\n",
              "      background-color: #3B4455;\n",
              "      fill: #D2E3FC;\n",
              "    }\n",
              "\n",
              "    [theme=dark] .colab-df-convert:hover {\n",
              "      background-color: #434B5C;\n",
              "      box-shadow: 0px 1px 3px 1px rgba(0, 0, 0, 0.15);\n",
              "      filter: drop-shadow(0px 1px 2px rgba(0, 0, 0, 0.3));\n",
              "      fill: #FFFFFF;\n",
              "    }\n",
              "  </style>\n",
              "\n",
              "    <script>\n",
              "      const buttonEl =\n",
              "        document.querySelector('#df-911eca9c-afb5-4df9-8a0d-66eb4f5c89ef button.colab-df-convert');\n",
              "      buttonEl.style.display =\n",
              "        google.colab.kernel.accessAllowed ? 'block' : 'none';\n",
              "\n",
              "      async function convertToInteractive(key) {\n",
              "        const element = document.querySelector('#df-911eca9c-afb5-4df9-8a0d-66eb4f5c89ef');\n",
              "        const dataTable =\n",
              "          await google.colab.kernel.invokeFunction('convertToInteractive',\n",
              "                                                    [key], {});\n",
              "        if (!dataTable) return;\n",
              "\n",
              "        const docLinkHtml = 'Like what you see? Visit the ' +\n",
              "          '<a target=\"_blank\" href=https://colab.research.google.com/notebooks/data_table.ipynb>data table notebook</a>'\n",
              "          + ' to learn more about interactive tables.';\n",
              "        element.innerHTML = '';\n",
              "        dataTable['output_type'] = 'display_data';\n",
              "        await google.colab.output.renderOutput(dataTable, element);\n",
              "        const docLink = document.createElement('div');\n",
              "        docLink.innerHTML = docLinkHtml;\n",
              "        element.appendChild(docLink);\n",
              "      }\n",
              "    </script>\n",
              "  </div>\n",
              "\n",
              "\n",
              "<div id=\"df-b42543fb-68ae-4bfe-a5f8-5d35301ad7f0\">\n",
              "  <button class=\"colab-df-quickchart\" onclick=\"quickchart('df-b42543fb-68ae-4bfe-a5f8-5d35301ad7f0')\"\n",
              "            title=\"Suggest charts\"\n",
              "            style=\"display:none;\">\n",
              "\n",
              "<svg xmlns=\"http://www.w3.org/2000/svg\" height=\"24px\"viewBox=\"0 0 24 24\"\n",
              "     width=\"24px\">\n",
              "    <g>\n",
              "        <path d=\"M19 3H5c-1.1 0-2 .9-2 2v14c0 1.1.9 2 2 2h14c1.1 0 2-.9 2-2V5c0-1.1-.9-2-2-2zM9 17H7v-7h2v7zm4 0h-2V7h2v10zm4 0h-2v-4h2v4z\"/>\n",
              "    </g>\n",
              "</svg>\n",
              "  </button>\n",
              "\n",
              "<style>\n",
              "  .colab-df-quickchart {\n",
              "      --bg-color: #E8F0FE;\n",
              "      --fill-color: #1967D2;\n",
              "      --hover-bg-color: #E2EBFA;\n",
              "      --hover-fill-color: #174EA6;\n",
              "      --disabled-fill-color: #AAA;\n",
              "      --disabled-bg-color: #DDD;\n",
              "  }\n",
              "\n",
              "  [theme=dark] .colab-df-quickchart {\n",
              "      --bg-color: #3B4455;\n",
              "      --fill-color: #D2E3FC;\n",
              "      --hover-bg-color: #434B5C;\n",
              "      --hover-fill-color: #FFFFFF;\n",
              "      --disabled-bg-color: #3B4455;\n",
              "      --disabled-fill-color: #666;\n",
              "  }\n",
              "\n",
              "  .colab-df-quickchart {\n",
              "    background-color: var(--bg-color);\n",
              "    border: none;\n",
              "    border-radius: 50%;\n",
              "    cursor: pointer;\n",
              "    display: none;\n",
              "    fill: var(--fill-color);\n",
              "    height: 32px;\n",
              "    padding: 0;\n",
              "    width: 32px;\n",
              "  }\n",
              "\n",
              "  .colab-df-quickchart:hover {\n",
              "    background-color: var(--hover-bg-color);\n",
              "    box-shadow: 0 1px 2px rgba(60, 64, 67, 0.3), 0 1px 3px 1px rgba(60, 64, 67, 0.15);\n",
              "    fill: var(--button-hover-fill-color);\n",
              "  }\n",
              "\n",
              "  .colab-df-quickchart-complete:disabled,\n",
              "  .colab-df-quickchart-complete:disabled:hover {\n",
              "    background-color: var(--disabled-bg-color);\n",
              "    fill: var(--disabled-fill-color);\n",
              "    box-shadow: none;\n",
              "  }\n",
              "\n",
              "  .colab-df-spinner {\n",
              "    border: 2px solid var(--fill-color);\n",
              "    border-color: transparent;\n",
              "    border-bottom-color: var(--fill-color);\n",
              "    animation:\n",
              "      spin 1s steps(1) infinite;\n",
              "  }\n",
              "\n",
              "  @keyframes spin {\n",
              "    0% {\n",
              "      border-color: transparent;\n",
              "      border-bottom-color: var(--fill-color);\n",
              "      border-left-color: var(--fill-color);\n",
              "    }\n",
              "    20% {\n",
              "      border-color: transparent;\n",
              "      border-left-color: var(--fill-color);\n",
              "      border-top-color: var(--fill-color);\n",
              "    }\n",
              "    30% {\n",
              "      border-color: transparent;\n",
              "      border-left-color: var(--fill-color);\n",
              "      border-top-color: var(--fill-color);\n",
              "      border-right-color: var(--fill-color);\n",
              "    }\n",
              "    40% {\n",
              "      border-color: transparent;\n",
              "      border-right-color: var(--fill-color);\n",
              "      border-top-color: var(--fill-color);\n",
              "    }\n",
              "    60% {\n",
              "      border-color: transparent;\n",
              "      border-right-color: var(--fill-color);\n",
              "    }\n",
              "    80% {\n",
              "      border-color: transparent;\n",
              "      border-right-color: var(--fill-color);\n",
              "      border-bottom-color: var(--fill-color);\n",
              "    }\n",
              "    90% {\n",
              "      border-color: transparent;\n",
              "      border-bottom-color: var(--fill-color);\n",
              "    }\n",
              "  }\n",
              "</style>\n",
              "\n",
              "  <script>\n",
              "    async function quickchart(key) {\n",
              "      const quickchartButtonEl =\n",
              "        document.querySelector('#' + key + ' button');\n",
              "      quickchartButtonEl.disabled = true;  // To prevent multiple clicks.\n",
              "      quickchartButtonEl.classList.add('colab-df-spinner');\n",
              "      try {\n",
              "        const charts = await google.colab.kernel.invokeFunction(\n",
              "            'suggestCharts', [key], {});\n",
              "      } catch (error) {\n",
              "        console.error('Error during call to suggestCharts:', error);\n",
              "      }\n",
              "      quickchartButtonEl.classList.remove('colab-df-spinner');\n",
              "      quickchartButtonEl.classList.add('colab-df-quickchart-complete');\n",
              "    }\n",
              "    (() => {\n",
              "      let quickchartButtonEl =\n",
              "        document.querySelector('#df-b42543fb-68ae-4bfe-a5f8-5d35301ad7f0 button');\n",
              "      quickchartButtonEl.style.display =\n",
              "        google.colab.kernel.accessAllowed ? 'block' : 'none';\n",
              "    })();\n",
              "  </script>\n",
              "</div>\n",
              "\n",
              "  <div id=\"id_23155a79-b1ab-4f98-8059-61c63f8b2b1e\">\n",
              "    <style>\n",
              "      .colab-df-generate {\n",
              "        background-color: #E8F0FE;\n",
              "        border: none;\n",
              "        border-radius: 50%;\n",
              "        cursor: pointer;\n",
              "        display: none;\n",
              "        fill: #1967D2;\n",
              "        height: 32px;\n",
              "        padding: 0 0 0 0;\n",
              "        width: 32px;\n",
              "      }\n",
              "\n",
              "      .colab-df-generate:hover {\n",
              "        background-color: #E2EBFA;\n",
              "        box-shadow: 0px 1px 2px rgba(60, 64, 67, 0.3), 0px 1px 3px 1px rgba(60, 64, 67, 0.15);\n",
              "        fill: #174EA6;\n",
              "      }\n",
              "\n",
              "      [theme=dark] .colab-df-generate {\n",
              "        background-color: #3B4455;\n",
              "        fill: #D2E3FC;\n",
              "      }\n",
              "\n",
              "      [theme=dark] .colab-df-generate:hover {\n",
              "        background-color: #434B5C;\n",
              "        box-shadow: 0px 1px 3px 1px rgba(0, 0, 0, 0.15);\n",
              "        filter: drop-shadow(0px 1px 2px rgba(0, 0, 0, 0.3));\n",
              "        fill: #FFFFFF;\n",
              "      }\n",
              "    </style>\n",
              "    <button class=\"colab-df-generate\" onclick=\"generateWithVariable('df_features')\"\n",
              "            title=\"Generate code using this dataframe.\"\n",
              "            style=\"display:none;\">\n",
              "\n",
              "  <svg xmlns=\"http://www.w3.org/2000/svg\" height=\"24px\"viewBox=\"0 0 24 24\"\n",
              "       width=\"24px\">\n",
              "    <path d=\"M7,19H8.4L18.45,9,17,7.55,7,17.6ZM5,21V16.75L18.45,3.32a2,2,0,0,1,2.83,0l1.4,1.43a1.91,1.91,0,0,1,.58,1.4,1.91,1.91,0,0,1-.58,1.4L9.25,21ZM18.45,9,17,7.55Zm-12,3A5.31,5.31,0,0,0,4.9,8.1,5.31,5.31,0,0,0,1,6.5,5.31,5.31,0,0,0,4.9,4.9,5.31,5.31,0,0,0,6.5,1,5.31,5.31,0,0,0,8.1,4.9,5.31,5.31,0,0,0,12,6.5,5.46,5.46,0,0,0,6.5,12Z\"/>\n",
              "  </svg>\n",
              "    </button>\n",
              "    <script>\n",
              "      (() => {\n",
              "      const buttonEl =\n",
              "        document.querySelector('#id_23155a79-b1ab-4f98-8059-61c63f8b2b1e button.colab-df-generate');\n",
              "      buttonEl.style.display =\n",
              "        google.colab.kernel.accessAllowed ? 'block' : 'none';\n",
              "\n",
              "      buttonEl.onclick = () => {\n",
              "        google.colab.notebook.generateWithVariable('df_features');\n",
              "      }\n",
              "      })();\n",
              "    </script>\n",
              "  </div>\n",
              "\n",
              "    </div>\n",
              "  </div>\n"
            ],
            "application/vnd.google.colaboratory.intrinsic+json": {
              "type": "dataframe",
              "variable_name": "df_features",
              "summary": "{\n  \"name\": \"df_features\",\n  \"rows\": 4760,\n  \"fields\": [\n    {\n      \"column\": \"Movie_Genre\",\n      \"properties\": {\n        \"dtype\": \"category\",\n        \"num_unique_values\": 1164,\n        \"samples\": [\n          \"Family Animation Adventure\",\n          \"Adventure Science Fiction Action\",\n          \"Action Crime Drama Romance Thriller\"\n        ],\n        \"semantic_type\": \"\",\n        \"description\": \"\"\n      }\n    },\n    {\n      \"column\": \"Movie_Keywords\",\n      \"properties\": {\n        \"dtype\": \"string\",\n        \"num_unique_values\": 4203,\n        \"samples\": [\n          \"canada nazis sequel spin off ancient evil\",\n          \"sex professor wedding woman director columbia university\",\n          \"prophecy sea beach gold small town\"\n        ],\n        \"semantic_type\": \"\",\n        \"description\": \"\"\n      }\n    },\n    {\n      \"column\": \"Movie_Tagline\",\n      \"properties\": {\n        \"dtype\": \"string\",\n        \"num_unique_values\": 3928,\n        \"samples\": [\n          \"The messenger must be silenced.\",\n          \"It's not the house that's haunted.\",\n          \"The final hunt begins.\"\n        ],\n        \"semantic_type\": \"\",\n        \"description\": \"\"\n      }\n    },\n    {\n      \"column\": \"Movie_Cast\",\n      \"properties\": {\n        \"dtype\": \"string\",\n        \"num_unique_values\": 4715,\n        \"samples\": [\n          \"Robin Tunney Fairuza Balk Neve Campbell Rachel True Skeet Ulrich\",\n          \"Peter Sellers Christopher Plummer Herbert Lom Catherine Schell Peter Arne\",\n          \"John Wayne Laraine Day Cedric Hardwicke Judith Anderson Anthony Quinn\"\n        ],\n        \"semantic_type\": \"\",\n        \"description\": \"\"\n      }\n    },\n    {\n      \"column\": \"Movie_Director\",\n      \"properties\": {\n        \"dtype\": \"category\",\n        \"num_unique_values\": 2332,\n        \"samples\": [\n          \"Rob McKittrick\",\n          \"Terron R. Parsons\",\n          \"Cyrus Nowrasteh\"\n        ],\n        \"semantic_type\": \"\",\n        \"description\": \"\"\n      }\n    }\n  ]\n}"
            }
          },
          "metadata": {},
          "execution_count": 10
        }
      ]
    },
    {
      "cell_type": "code",
      "source": [
        "x=df_features['Movie_Genre']+' '+df_features['Movie_Keywords']+' '+df_features['Movie_Tagline']+' '+ df_features['Movie_Cast'] +' '+df_features['Movie_Director']"
      ],
      "metadata": {
        "id": "TWVv1n3CQUZ0"
      },
      "execution_count": 11,
      "outputs": []
    },
    {
      "cell_type": "code",
      "source": [
        "x"
      ],
      "metadata": {
        "colab": {
          "base_uri": "https://localhost:8080/"
        },
        "id": "vlbnawWQSRWx",
        "outputId": "efb66c40-60cb-4592-9965-274b7af41421"
      },
      "execution_count": 12,
      "outputs": [
        {
          "output_type": "execute_result",
          "data": {
            "text/plain": [
              "0       Crime Comedy hotel new year's eve witch bet ho...\n",
              "1       Adventure Action Science Fiction android galax...\n",
              "2       Animation Family father son relationship harbo...\n",
              "3       Comedy Drama Romance vietnam veteran hippie me...\n",
              "4       Drama male nudity female nudity adultery midli...\n",
              "                              ...                        \n",
              "4755    Horror   The hot spot where Satan's waitin'. L...\n",
              "4756    Comedy Family Drama   It’s better to stand out...\n",
              "4757    Thriller Drama christian film sex trafficking ...\n",
              "4758                                       Family        \n",
              "4759    Documentary music actors legendary perfomer cl...\n",
              "Length: 4760, dtype: object"
            ]
          },
          "metadata": {},
          "execution_count": 12
        }
      ]
    },
    {
      "cell_type": "code",
      "source": [
        "x.shape"
      ],
      "metadata": {
        "colab": {
          "base_uri": "https://localhost:8080/"
        },
        "id": "riOv_vxaSX8-",
        "outputId": "2451e6fb-7dd5-40f7-8684-13f4f3c0639c"
      },
      "execution_count": 13,
      "outputs": [
        {
          "output_type": "execute_result",
          "data": {
            "text/plain": [
              "(4760,)"
            ]
          },
          "metadata": {},
          "execution_count": 13
        }
      ]
    },
    {
      "cell_type": "markdown",
      "source": [
        "# Get Feature Text Conversion to TOkens"
      ],
      "metadata": {
        "id": "TNiaZaHYSZf7"
      }
    },
    {
      "cell_type": "code",
      "source": [
        "from sklearn.feature_extraction.text import TfidfVectorizer"
      ],
      "metadata": {
        "id": "78x561ANSe6x"
      },
      "execution_count": 14,
      "outputs": []
    },
    {
      "cell_type": "code",
      "source": [
        "tfidf=TfidfVectorizer()"
      ],
      "metadata": {
        "id": "uKA2KoLdSnyY"
      },
      "execution_count": 15,
      "outputs": []
    },
    {
      "cell_type": "code",
      "source": [
        "x=tfidf.fit_transform(x)"
      ],
      "metadata": {
        "id": "HsHqc3ZTSrjE"
      },
      "execution_count": 16,
      "outputs": []
    },
    {
      "cell_type": "code",
      "source": [
        "x.shape"
      ],
      "metadata": {
        "colab": {
          "base_uri": "https://localhost:8080/"
        },
        "id": "44LGCH42SwJt",
        "outputId": "7aba6063-172a-4171-a551-6ec5e13bc601"
      },
      "execution_count": 17,
      "outputs": [
        {
          "output_type": "execute_result",
          "data": {
            "text/plain": [
              "(4760, 17258)"
            ]
          },
          "metadata": {},
          "execution_count": 17
        }
      ]
    },
    {
      "cell_type": "code",
      "source": [
        "print(x)"
      ],
      "metadata": {
        "colab": {
          "base_uri": "https://localhost:8080/"
        },
        "id": "_nxj_IQOS7hb",
        "outputId": "6ea8f73d-750c-4b3a-dd87-0c28fcd4e541"
      },
      "execution_count": 18,
      "outputs": [
        {
          "output_type": "stream",
          "name": "stdout",
          "text": [
            "  (0, 617)\t0.1633382144407513\n",
            "  (0, 492)\t0.1432591540388685\n",
            "  (0, 15413)\t0.1465525095337543\n",
            "  (0, 9675)\t0.14226057295252661\n",
            "  (0, 9465)\t0.1659841367820977\n",
            "  (0, 1390)\t0.16898383612799558\n",
            "  (0, 7825)\t0.09799561597509843\n",
            "  (0, 1214)\t0.13865857545144072\n",
            "  (0, 729)\t0.13415063359531618\n",
            "  (0, 13093)\t0.1432591540388685\n",
            "  (0, 15355)\t0.10477815972666779\n",
            "  (0, 9048)\t0.0866842116160778\n",
            "  (0, 11161)\t0.06250380151644369\n",
            "  (0, 16773)\t0.17654247479915475\n",
            "  (0, 5612)\t0.08603537588547631\n",
            "  (0, 16735)\t0.10690083751525419\n",
            "  (0, 7904)\t0.13348000542112332\n",
            "  (0, 15219)\t0.09800472886453934\n",
            "  (0, 11242)\t0.07277788238484746\n",
            "  (0, 3878)\t0.11998399582562203\n",
            "  (0, 5499)\t0.11454057510303811\n",
            "  (0, 7071)\t0.19822417598406614\n",
            "  (0, 7454)\t0.14745635785412262\n",
            "  (0, 1495)\t0.19712637387361423\n",
            "  (0, 9206)\t0.15186283580984414\n",
            "  :\t:\n",
            "  (4757, 5455)\t0.12491480594769522\n",
            "  (4757, 2967)\t0.16273475835631626\n",
            "  (4757, 8464)\t0.23522565554066333\n",
            "  (4757, 6938)\t0.17088173678136628\n",
            "  (4757, 8379)\t0.17480603856721913\n",
            "  (4757, 15303)\t0.07654356007668191\n",
            "  (4757, 15384)\t0.09754322497537371\n",
            "  (4757, 7649)\t0.11479421494340192\n",
            "  (4757, 10896)\t0.14546473055066447\n",
            "  (4757, 4494)\t0.05675298448720501\n",
            "  (4758, 5238)\t1.0\n",
            "  (4759, 11264)\t0.33947721804318337\n",
            "  (4759, 11708)\t0.33947721804318337\n",
            "  (4759, 205)\t0.3237911628497312\n",
            "  (4759, 8902)\t0.3040290704566037\n",
            "  (4759, 14062)\t0.3237911628497312\n",
            "  (4759, 3058)\t0.2812896191863103\n",
            "  (4759, 7130)\t0.26419662449963793\n",
            "  (4759, 10761)\t0.3126617295732147\n",
            "  (4759, 4358)\t0.18306542312175342\n",
            "  (4759, 14051)\t0.20084315377640435\n",
            "  (4759, 5690)\t0.19534291014627303\n",
            "  (4759, 15431)\t0.19628653185946862\n",
            "  (4759, 1490)\t0.21197258705292082\n",
            "  (4759, 10666)\t0.15888268987343043\n"
          ]
        }
      ]
    },
    {
      "cell_type": "markdown",
      "source": [
        "# Get similarity Score using Cosine Similarity"
      ],
      "metadata": {
        "id": "pqqS67nATEvi"
      }
    },
    {
      "cell_type": "markdown",
      "source": [
        "Cosine_similairty computes the L2-normalised dot product of vectors.Euclidean(L2)normalisation projects the vectors onto the unit sphere and their dot product is then the cosine of the angle between the points denoted by the vectors"
      ],
      "metadata": {
        "id": "DRaCbnlWTLf3"
      }
    },
    {
      "cell_type": "code",
      "source": [
        "from sklearn.metrics.pairwise import cosine_similarity"
      ],
      "metadata": {
        "id": "L1H8P4nRTDxr"
      },
      "execution_count": 19,
      "outputs": []
    },
    {
      "cell_type": "code",
      "source": [
        "similarity_score=cosine_similarity(x)"
      ],
      "metadata": {
        "id": "ELron2y0TxZ5"
      },
      "execution_count": 20,
      "outputs": []
    },
    {
      "cell_type": "code",
      "source": [
        "similarity_score"
      ],
      "metadata": {
        "colab": {
          "base_uri": "https://localhost:8080/"
        },
        "id": "-8TjKUYYT6at",
        "outputId": "b81d9f35-f6eb-497d-ae25-87c353613d75"
      },
      "execution_count": 21,
      "outputs": [
        {
          "output_type": "execute_result",
          "data": {
            "text/plain": [
              "array([[1.        , 0.01351235, 0.03570468, ..., 0.        , 0.        ,\n",
              "        0.        ],\n",
              "       [0.01351235, 1.        , 0.00806674, ..., 0.        , 0.        ,\n",
              "        0.        ],\n",
              "       [0.03570468, 0.00806674, 1.        , ..., 0.        , 0.08014876,\n",
              "        0.        ],\n",
              "       ...,\n",
              "       [0.        , 0.        , 0.        , ..., 1.        , 0.        ,\n",
              "        0.        ],\n",
              "       [0.        , 0.        , 0.08014876, ..., 0.        , 1.        ,\n",
              "        0.        ],\n",
              "       [0.        , 0.        , 0.        , ..., 0.        , 0.        ,\n",
              "        1.        ]])"
            ]
          },
          "metadata": {},
          "execution_count": 21
        }
      ]
    },
    {
      "cell_type": "code",
      "source": [
        "similarity_score.shape"
      ],
      "metadata": {
        "colab": {
          "base_uri": "https://localhost:8080/"
        },
        "id": "uQSmkSHKT-C1",
        "outputId": "2997c26f-54aa-4293-d3c7-5f46dae5144d"
      },
      "execution_count": 22,
      "outputs": [
        {
          "output_type": "execute_result",
          "data": {
            "text/plain": [
              "(4760, 4760)"
            ]
          },
          "metadata": {},
          "execution_count": 22
        }
      ]
    },
    {
      "cell_type": "markdown",
      "source": [
        "# Get Movie Name as input from user and validate for closest spelling"
      ],
      "metadata": {
        "id": "fZu-b-ERUCKV"
      }
    },
    {
      "cell_type": "code",
      "source": [
        "Favourite_movie_name=input('Enter your favourite movie name')"
      ],
      "metadata": {
        "colab": {
          "base_uri": "https://localhost:8080/"
        },
        "id": "XiJhFH3DULJ7",
        "outputId": "777f4e0a-5460-4858-f710-ed5acd941bbf"
      },
      "execution_count": 23,
      "outputs": [
        {
          "name": "stdout",
          "output_type": "stream",
          "text": [
            "Enter your favourite movie nameCaptain America\n"
          ]
        }
      ]
    },
    {
      "cell_type": "code",
      "source": [
        "All_movies_title_list=df['Movie_Title'].tolist()"
      ],
      "metadata": {
        "id": "qk91H3WkUXRq"
      },
      "execution_count": 24,
      "outputs": []
    },
    {
      "cell_type": "code",
      "source": [
        "import difflib"
      ],
      "metadata": {
        "id": "51_Tr4h5UgYm"
      },
      "execution_count": 25,
      "outputs": []
    },
    {
      "cell_type": "code",
      "source": [
        "Movie_recommendation=difflib.get_close_matches(Favourite_movie_name,All_movies_title_list)\n",
        "print(Movie_recommendation)"
      ],
      "metadata": {
        "colab": {
          "base_uri": "https://localhost:8080/"
        },
        "id": "NC1OzE-dUjFe",
        "outputId": "8d6e357c-67fd-4774-8a22-8822660fd081"
      },
      "execution_count": 26,
      "outputs": [
        {
          "output_type": "stream",
          "name": "stdout",
          "text": [
            "['Captain America: Civil War', 'Mi America', 'Captain America: The First Avenger']\n"
          ]
        }
      ]
    },
    {
      "cell_type": "code",
      "source": [
        "Close_Match=Movie_recommendation[0]\n",
        "print(Close_Match)"
      ],
      "metadata": {
        "colab": {
          "base_uri": "https://localhost:8080/"
        },
        "id": "Lc81OeSJVVDT",
        "outputId": "aedd7bcd-0056-42ff-bbec-4a9e55b80efe"
      },
      "execution_count": 27,
      "outputs": [
        {
          "output_type": "stream",
          "name": "stdout",
          "text": [
            "Captain America: Civil War\n"
          ]
        }
      ]
    },
    {
      "cell_type": "code",
      "source": [
        "Index_of_close_match_movie=df[df.Movie_Title==Close_Match]['Movie_ID'].values[0]\n",
        "print(Index_of_close_match_movie)"
      ],
      "metadata": {
        "colab": {
          "base_uri": "https://localhost:8080/"
        },
        "id": "QsKAW1iiVl2n",
        "outputId": "d3b3ac42-5acf-445e-9047-49933d33b673"
      },
      "execution_count": 28,
      "outputs": [
        {
          "output_type": "stream",
          "name": "stdout",
          "text": [
            "4505\n"
          ]
        }
      ]
    },
    {
      "cell_type": "code",
      "source": [
        "#getting a list of similar movies\n",
        "Recommendation_score=list(enumerate(similarity_score[Index_of_close_match_movie]))\n",
        "print(Recommendation_score)"
      ],
      "metadata": {
        "colab": {
          "base_uri": "https://localhost:8080/"
        },
        "id": "6gQHofWGV6dA",
        "outputId": "b7a1fd38-9567-46c6-bbba-f2bcbe9aaec6"
      },
      "execution_count": 29,
      "outputs": [
        {
          "output_type": "stream",
          "name": "stdout",
          "text": [
            "[(0, 0.0), (1, 0.0), (2, 0.0), (3, 0.0027177533036265686), (4, 0.003261880147118737), (5, 0.003100686650150398), (6, 0.0), (7, 0.002220808473667497), (8, 0.0033574058583984647), (9, 0.0), (10, 0.0), (11, 0.0032013595924451346), (12, 0.0033013422735725813), (13, 0.0), (14, 0.0), (15, 0.0028514843756544017), (16, 0.0025767170107444796), (17, 0.0), (18, 0.0029643907605969365), (19, 0.0029827448415482194), (20, 0.003233588835341503), (21, 0.0033059932237228984), (22, 0.023524783629985443), (23, 0.0032215944817856213), (24, 0.0020191342150680733), (25, 0.002557275996925401), (26, 0.003024858635490068), (27, 0.0), (28, 0.0), (29, 0.0029439837163933165), (30, 0.0), (31, 0.0029074554247518463), (32, 0.0027110500373510736), (33, 0.002732087184002245), (34, 0.003216906749146294), (35, 0.05501715961724642), (36, 0.04095710894794352), (37, 0.035144470830380824), (38, 0.0), (39, 0.0), (40, 0.0), (41, 0.0034399628136419125), (42, 0.02160931318165722), (43, 0.0028376018233427585), (44, 0.0025734419700259034), (45, 0.0), (46, 0.0), (47, 0.018751845726057318), (48, 0.0034063569950648414), (49, 0.0), (50, 0.0), (51, 0.11427328969645502), (52, 0.0029559102730904877), (53, 0.0), (54, 0.0), (55, 0.0), (56, 0.0), (57, 0.0), (58, 0.0), (59, 0.0), (60, 0.0026445431831431544), (61, 0.0030521697616055416), (62, 0.0034131734916653554), (63, 0.0024604125073423816), (64, 0.0), (65, 0.0), (66, 0.003085457942248514), (67, 0.0), (68, 0.00327868205770671), (69, 0.0), (70, 0.0), (71, 0.0031671265132213002), (72, 0.02048890645223792), (73, 0.0282630393132854), (74, 0.0032879104581238056), (75, 0.0), (76, 0.0), (77, 0.0800519046102667), (78, 0.0), (79, 0.003081848527699547), (80, 0.0), (81, 0.0), (82, 0.002345986203768519), (83, 0.0), (84, 0.0), (85, 0.0029740482956056888), (86, 0.0), (87, 0.0029843607533454174), (88, 0.0), (89, 0.0), (90, 0.02316822121797723), (91, 0.0), (92, 0.0027206299702394092), (93, 0.0453848983365774), (94, 0.043514812201024315), (95, 0.024371546017636626), (96, 0.0028612487414354307), (97, 0.0027129918062730194), (98, 0.0030271617670128534), (99, 0.0), (100, 0.0), (101, 0.0), (102, 0.0), (103, 0.0026776724745232448), (104, 0.0031110050667025966), (105, 0.003066032698291041), (106, 0.0023797810668328115), (107, 0.0035062543671636184), (108, 0.002199502582611465), (109, 0.003082121680329532), (110, 0.0), (111, 0.002871821159007305), (112, 0.002976281694024342), (113, 0.0025422195678141066), (114, 0.0030944285857626816), (115, 0.00316111361875145), (116, 0.0029177588238387987), (117, 0.0), (118, 0.0), (119, 0.003033030243063055), (120, 0.0031883359676303084), (121, 0.002841338799003224), (122, 0.0), (123, 0.0033823255685852273), (124, 0.024456825448215334), (125, 0.0), (126, 0.0029168403926124278), (127, 0.003010156575239231), (128, 0.0), (129, 0.002158785287727369), (130, 0.0), (131, 0.0), (132, 0.0027408224167610657), (133, 0.0), (134, 0.0), (135, 0.02367214539130484), (136, 0.0028548556507193637), (137, 0.0), (138, 0.0), (139, 0.0), (140, 0.0028958865171763125), (141, 0.0), (142, 0.0025577708920888308), (143, 0.0), (144, 0.0), (145, 0.0), (146, 0.0), (147, 0.0026746381636336756), (148, 0.0), (149, 0.0025529085012701894), (150, 0.0), (151, 0.0), (152, 0.0), (153, 0.0), (154, 0.0029018540565426843), (155, 0.0), (156, 0.002511392000219621), (157, 0.0029443095917568583), (158, 0.002773080930594814), (159, 0.0024195537134657713), (160, 0.0), (161, 0.0027787929113282568), (162, 0.0), (163, 0.0), (164, 0.002941675471912961), (165, 0.002672472317335344), (166, 0.002730263643930517), (167, 0.0029865594584018926), (168, 0.0), (169, 0.0030373697371143503), (170, 0.0), (171, 0.0), (172, 0.003101290966788705), (173, 0.0032400391706828816), (174, 0.0030536164988154623), (175, 0.002610466223540375), (176, 0.00317663227532366), (177, 0.0), (178, 0.003252126633994379), (179, 0.0), (180, 0.022575586071212954), (181, 0.0), (182, 0.0031161398386048947), (183, 0.0028352508063909797), (184, 0.02358555955293158), (185, 0.0), (186, 0.0), (187, 0.0), (188, 0.0), (189, 0.03380586393295518), (190, 0.002638157006175536), (191, 0.0), (192, 0.0033436589942360045), (193, 0.033565496595805565), (194, 0.0024803760204952815), (195, 0.09129246550940188), (196, 0.020341480358972774), (197, 0.002919014611237693), (198, 0.03625950847586521), (199, 0.002818866390303657), (200, 0.002731658327755216), (201, 0.0), (202, 0.0020285495452276397), (203, 0.0029251521741811763), (204, 0.0032297597759695087), (205, 0.0), (206, 0.0032793976241951217), (207, 0.0), (208, 0.0032821186407114337), (209, 0.003119493131775609), (210, 0.003331847935194066), (211, 0.0032313783026013763), (212, 0.03892163213859725), (213, 0.00287731666462364), (214, 0.0), (215, 0.023792156526380018), (216, 0.0032050580192905308), (217, 0.0), (218, 0.0028223858862272454), (219, 0.0), (220, 0.0), (221, 0.002939338702452204), (222, 0.0027210052594716823), (223, 0.0), (224, 0.0023652943434184378), (225, 0.0), (226, 0.003091064470264988), (227, 0.0033039188757005176), (228, 0.002341350139348063), (229, 0.002882173909973308), (230, 0.0), (231, 0.0), (232, 0.0), (233, 0.0), (234, 0.0), (235, 0.03583270458840509), (236, 0.002903883526109943), (237, 0.0), (238, 0.003153099722353318), (239, 0.0), (240, 0.0), (241, 0.0), (242, 0.0026766224402219076), (243, 0.0021765020110360296), (244, 0.0), (245, 0.0), (246, 0.003287718279437252), (247, 0.003056709130609034), (248, 0.0), (249, 0.0027112195903673322), (250, 0.032064950387228425), (251, 0.002649720549002196), (252, 0.002738390300572224), (253, 0.026477799981890374), (254, 0.003407454188764414), (255, 0.0032373011474209415), (256, 0.020009961847374864), (257, 0.0), (258, 0.09721675749856232), (259, 0.0), (260, 0.0), (261, 0.0), (262, 0.0032477029354256574), (263, 0.01999233409293832), (264, 0.021155347549555406), (265, 0.0), (266, 0.0023786909578353763), (267, 0.002619858310311054), (268, 0.0027573037402859424), (269, 0.002652706016367293), (270, 0.003233198411254492), (271, 0.002369252933925977), (272, 0.0), (273, 0.0), (274, 0.06291693258040952), (275, 0.0), (276, 0.0029149296395047726), (277, 0.0), (278, 0.02085787064353276), (279, 0.002894123800164261), (280, 0.0030834052325025077), (281, 0.0034899757169456107), (282, 0.0238582834508804), (283, 0.002262358055266104), (284, 0.0), (285, 0.002799890170195869), (286, 0.002652864610488812), (287, 0.0029008008204582693), (288, 0.0), (289, 0.0), (290, 0.0), (291, 0.0), (292, 0.0029994096903706185), (293, 0.002198131474813089), (294, 0.0), (295, 0.0), (296, 0.0023170044778829963), (297, 0.0), (298, 0.0), (299, 0.0), (300, 0.0), (301, 0.0), (302, 0.0), (303, 0.0), (304, 0.0), (305, 0.0), (306, 0.0), (307, 0.002899800086272318), (308, 0.003457001568694435), (309, 0.002458884335370002), (310, 0.0), (311, 0.0), (312, 0.0), (313, 0.0), (314, 0.0), (315, 0.0), (316, 0.0), (317, 0.002706978771539407), (318, 0.0033784789547906557), (319, 0.0), (320, 0.022147820068962154), (321, 0.037366722030210846), (322, 0.0), (323, 0.0), (324, 0.002849373756046548), (325, 0.002921353824663177), (326, 0.003785996452516677), (327, 0.021253551060788), (328, 0.0), (329, 0.002998983750016831), (330, 0.002136093297524525), (331, 0.0), (332, 0.0), (333, 0.0), (334, 0.0), (335, 0.0), (336, 0.015151488673799998), (337, 0.0), (338, 0.0), (339, 0.0), (340, 0.0), (341, 0.0), (342, 0.0033677450438369893), (343, 0.003114932468075058), (344, 0.0), (345, 0.0), (346, 0.026614335078107933), (347, 0.0), (348, 0.0030603118901637335), (349, 0.0029983526671199133), (350, 0.0033655808992129016), (351, 0.00235861478593184), (352, 0.0), (353, 0.0031397964953027), (354, 0.0), (355, 0.0028506463560497184), (356, 0.0029488348940564495), (357, 0.002667761379648166), (358, 0.003006690360498171), (359, 0.0028370765523739352), (360, 0.0), (361, 0.0), (362, 0.0), (363, 0.0), (364, 0.02731185484591234), (365, 0.05813161399816836), (366, 0.0), (367, 0.0), (368, 0.0), (369, 0.0), (370, 0.03169527988125819), (371, 0.026648974281098647), (372, 0.0028804767884867783), (373, 0.0029298702230998444), (374, 0.0030501435064630546), (375, 0.0), (376, 0.0), (377, 0.06634609830425868), (378, 0.00310472851577998), (379, 0.0), (380, 0.0), (381, 0.0), (382, 0.0), (383, 0.0), (384, 0.0), (385, 0.0), (386, 0.0), (387, 0.002915637836578546), (388, 0.002918425038217228), (389, 0.0), (390, 0.0), (391, 0.0), (392, 0.0), (393, 0.0), (394, 0.0), (395, 0.03834226940163453), (396, 0.002970815105015388), (397, 0.0), (398, 0.0), (399, 0.0028645875872146636), (400, 0.003063103945252673), (401, 0.0), (402, 0.003768711005185843), (403, 0.002620316428371762), (404, 0.0), (405, 0.0), (406, 0.0031541413416482605), (407, 0.0024805066840169164), (408, 0.0029228581943145544), (409, 0.0), (410, 0.02953527607527098), (411, 0.0), (412, 0.002525665545955769), (413, 0.0), (414, 0.0), (415, 0.0), (416, 0.0028329567330236285), (417, 0.0), (418, 0.0), (419, 0.003481829521448269), (420, 0.0), (421, 0.0), (422, 0.0), (423, 0.0), (424, 0.0), (425, 0.0), (426, 0.09869807798068567), (427, 0.0), (428, 0.05073879924559389), (429, 0.003239962952072972), (430, 0.038464809194933426), (431, 0.0036458680894172054), (432, 0.0026299826323306335), (433, 0.002528818596999964), (434, 0.0029247036385679995), (435, 0.0), (436, 0.003458844818867465), (437, 0.0029333976532155436), (438, 0.0), (439, 0.0), (440, 0.0), (441, 0.002554696928837914), (442, 0.0025633784759406635), (443, 0.0035757233530302767), (444, 0.0034445918198261418), (445, 0.002646529088565729), (446, 0.0030157704926197645), (447, 0.003210111030703794), (448, 0.003568340445933916), (449, 0.002795977107020889), (450, 0.04563596826889339), (451, 0.0), (452, 0.0023284114319565645), (453, 0.0023639598050970456), (454, 0.0), (455, 0.002193726297878344), (456, 0.003275389111655151), (457, 0.0028373991927366743), (458, 0.003449500419550142), (459, 0.0), (460, 0.0), (461, 0.0), (462, 0.0), (463, 0.002865101823233851), (464, 0.0030557848120979134), (465, 0.0028223841906218324), (466, 0.003056386931477318), (467, 0.0), (468, 0.0), (469, 0.0), (470, 0.003260543335810893), (471, 0.0028870037559537488), (472, 0.0031826964369136915), (473, 0.0027968946642981333), (474, 0.0), (475, 0.0010807522652922156), (476, 0.0033935471228533133), (477, 0.0), (478, 0.03592915571229395), (479, 0.0030878378536275592), (480, 0.021251032805101506), (481, 0.003362016647752823), (482, 0.003226805220153012), (483, 0.0032640979775981254), (484, 0.0), (485, 0.003312995570178172), (486, 0.0), (487, 0.04832009494900903), (488, 0.0029902464582427742), (489, 0.0602423124566299), (490, 0.0030612866527497573), (491, 0.0), (492, 0.07179010201698015), (493, 0.003282359563431459), (494, 0.0), (495, 0.0027343043643525667), (496, 0.026188711190849503), (497, 0.0), (498, 0.0), (499, 0.003364365407884071), (500, 0.0), (501, 0.0), (502, 0.003236444161814626), (503, 0.027874804642009546), (504, 0.0031101713553619873), (505, 0.0029368541239280783), (506, 0.0), (507, 0.002902820999572776), (508, 0.0035546836119295685), (509, 0.003170382375355441), (510, 0.028566031758211145), (511, 0.025121284925690393), (512, 0.0), (513, 0.029984830430057154), (514, 0.0), (515, 0.02182958191697874), (516, 0.0), (517, 0.0), (518, 0.003624243048153756), (519, 0.002729620489544051), (520, 0.03785991596313223), (521, 0.0), (522, 0.0030009077161134903), (523, 0.0), (524, 0.002836053079281596), (525, 0.0), (526, 0.003887495321494422), (527, 0.002447422608461501), (528, 0.03324049778140751), (529, 0.0), (530, 0.0), (531, 0.0), (532, 0.03574884277799786), (533, 0.0034771471530085016), (534, 0.003053349586124387), (535, 0.0), (536, 0.0), (537, 0.0), (538, 0.017426936566234022), (539, 0.0), (540, 0.0), (541, 0.002990248029139102), (542, 0.021510676074439065), (543, 0.0032198261862995004), (544, 0.003137214324929277), (545, 0.0), (546, 0.0), (547, 0.0026064627041686357), (548, 0.019811040794808468), (549, 0.0), (550, 0.023334990867534097), (551, 0.0032106445773422703), (552, 0.0), (553, 0.0), (554, 0.0), (555, 0.0), (556, 0.0), (557, 0.0), (558, 0.002850716814299408), (559, 0.0), (560, 0.0), (561, 0.0), (562, 0.002345357500197992), (563, 0.0027876599706230976), (564, 0.003238794690411425), (565, 0.0), (566, 0.0025936380123254403), (567, 0.0), (568, 0.0), (569, 0.0), (570, 0.0), (571, 0.0023835855508128607), (572, 0.021657624113287092), (573, 0.0), (574, 0.0), (575, 0.0), (576, 0.0034849883738909053), (577, 0.0), (578, 0.10250811429401009), (579, 0.003133842242345125), (580, 0.02530658066602673), (581, 0.0027859259626788384), (582, 0.0), (583, 0.0), (584, 0.03697795200191057), (585, 0.0), (586, 0.0), (587, 0.0033999627974918662), (588, 0.02516532111049914), (589, 0.0028651021131776717), (590, 0.002849312295420124), (591, 0.0), (592, 0.0), (593, 0.003153219649867861), (594, 0.0027632251351660067), (595, 0.0), (596, 0.0034638619324338293), (597, 0.002779006557383132), (598, 0.002880409016650847), (599, 0.0), (600, 0.0), (601, 0.0), (602, 0.0), (603, 0.0), (604, 0.022272854874533336), (605, 0.002720256207258409), (606, 0.003192343408528379), (607, 0.002382189733785304), (608, 0.002802347388307269), (609, 0.024338557322448415), (610, 0.0), (611, 0.004966922055113103), (612, 0.0032823146032153134), (613, 0.0), (614, 0.003547031674154718), (615, 0.03987973097149136), (616, 0.0025762731128120744), (617, 0.0026101135183074177), (618, 0.0), (619, 0.0), (620, 0.0029692658826600852), (621, 0.0), (622, 0.0032849691234258546), (623, 0.0032834057928889326), (624, 0.0028277033898547626), (625, 0.0), (626, 0.0026198963614523234), (627, 0.004186131760568544), (628, 0.003116907879959581), (629, 0.0), (630, 0.0), (631, 0.11167434623526426), (632, 0.0), (633, 0.0), (634, 0.0), (635, 0.0), (636, 0.003122157184089522), (637, 0.003201371708727793), (638, 0.022320575232865188), (639, 0.0), (640, 0.0), (641, 0.002213809007100239), (642, 0.0026703157224433386), (643, 0.0029957349874890626), (644, 0.0029367815676743622), (645, 0.002524947440111328), (646, 0.002972937479903708), (647, 0.002712475035265123), (648, 0.0), (649, 0.0), (650, 0.0), (651, 0.09620666226883573), (652, 0.0031621179666280488), (653, 0.002689759990481163), (654, 0.0), (655, 0.002886919245668759), (656, 0.0), (657, 0.00274530523699867), (658, 0.0), (659, 0.002879695324846381), (660, 0.003229306675048663), (661, 0.0), (662, 0.0), (663, 0.0), (664, 0.02123775788724443), (665, 0.0), (666, 0.0), (667, 0.0), (668, 0.0), (669, 0.0028445172700056285), (670, 0.0038099084450306264), (671, 0.0), (672, 0.002756683354159658), (673, 0.003373622637136766), (674, 0.0), (675, 0.0033713794028123506), (676, 0.0029971257722959323), (677, 0.0), (678, 0.0), (679, 0.0), (680, 0.0032877449140871953), (681, 0.0), (682, 0.0), (683, 0.0034900631929099435), (684, 0.0022684912488789163), (685, 0.0), (686, 0.0), (687, 0.0), (688, 0.029670529380175753), (689, 0.003074532220311304), (690, 0.0), (691, 0.002498605883946025), (692, 0.0), (693, 0.003008922714456798), (694, 0.03360616187784262), (695, 0.0), (696, 0.003111755590941441), (697, 0.00310441166849522), (698, 0.002924934654582142), (699, 0.0), (700, 0.0), (701, 0.0034509561681806754), (702, 0.0), (703, 0.002746096791424801), (704, 0.0), (705, 0.0027368966130525475), (706, 0.0024554630852702264), (707, 0.00260025555109308), (708, 0.0), (709, 0.023097575618652146), (710, 0.0), (711, 0.0), (712, 0.0027313094635937696), (713, 0.0), (714, 0.0646350126446311), (715, 0.04589397150216295), (716, 0.0032418485714020666), (717, 0.0032239061020121183), (718, 0.0), (719, 0.0024836357307720046), (720, 0.0), (721, 0.0035421893219729516), (722, 0.0027778281210085786), (723, 0.0), (724, 0.0), (725, 0.023464658952312922), (726, 0.0), (727, 0.0030373283941056797), (728, 0.0033343729748041787), (729, 0.003447357917607757), (730, 0.0), (731, 0.0029572334289026197), (732, 0.0027597711617578574), (733, 0.0026748395445098175), (734, 0.0028952691281200356), (735, 0.004221432243562673), (736, 0.028847352784013458), (737, 0.0034868698628373715), (738, 0.0), (739, 0.0035276677769251166), (740, 0.0020738964365498718), (741, 0.0), (742, 0.0029059914094282237), (743, 0.003176786912509099), (744, 0.0028589641371436535), (745, 0.0), (746, 0.0), (747, 0.03639657614709565), (748, 0.0), (749, 0.0030933467108532815), (750, 0.0246724564924636), (751, 0.0), (752, 0.0), (753, 0.0), (754, 0.0), (755, 0.0030043945816881925), (756, 0.0), (757, 0.002469434816842382), (758, 0.0), (759, 0.0028147084787946562), (760, 0.0), (761, 0.00309194741717738), (762, 0.0), (763, 0.0), (764, 0.0), (765, 0.0), (766, 0.0028604761744928965), (767, 0.0029325971570169423), (768, 0.0), (769, 0.0030510175647542733), (770, 0.0), (771, 0.0), (772, 0.0), (773, 0.0), (774, 0.0032032349090934968), (775, 0.0), (776, 0.0), (777, 0.0037156235120549466), (778, 0.0), (779, 0.0), (780, 0.0), (781, 0.0), (782, 0.0029665357178875725), (783, 0.0032566278881705803), (784, 0.0), (785, 0.0), (786, 0.0), (787, 0.0018909734298475974), (788, 0.005676984867578896), (789, 0.0), (790, 0.020476260441952426), (791, 0.003321099966948273), (792, 0.0032885014989338743), (793, 0.0), (794, 0.003340966222573599), (795, 0.0), (796, 0.002566620021202695), (797, 0.0), (798, 0.002950208925391705), (799, 0.003013729673190135), (800, 0.0027787307057576555), (801, 0.0), (802, 0.0), (803, 0.0), (804, 0.024090127427525566), (805, 0.0028587796666137274), (806, 0.003190342106529518), (807, 0.0), (808, 0.002725400873508089), (809, 0.029418358838581942), (810, 0.0), (811, 0.0), (812, 0.01997565052368694), (813, 0.0034721810962918672), (814, 0.02170177190096701), (815, 0.0027619183860338632), (816, 0.0025161949883111116), (817, 0.0029916869494638083), (818, 0.0029205490539123296), (819, 0.0), (820, 0.03827540722525941), (821, 0.0), (822, 0.0), (823, 0.0035634083000609606), (824, 0.0021528113169039425), (825, 0.0), (826, 0.003297045208721228), (827, 0.0), (828, 0.002920366498077434), (829, 0.002839930008644825), (830, 0.0032497531881610572), (831, 0.0021824592521369024), (832, 0.0031433743700257323), (833, 0.0), (834, 0.0), (835, 0.0), (836, 0.0), (837, 0.0), (838, 0.002874650690450068), (839, 0.0), (840, 0.0), (841, 0.0), (842, 0.0), (843, 0.0025423445527002868), (844, 0.006664344321630323), (845, 0.0032365023811871964), (846, 0.0), (847, 0.003545110164212284), (848, 0.003117772768449679), (849, 0.0), (850, 0.0031472462447431062), (851, 0.002708255820768994), (852, 0.0029572422815786316), (853, 0.002390267694528837), (854, 0.002950372129170556), (855, 0.0), (856, 0.002759510439627941), (857, 0.0034138732091448694), (858, 0.0020873657239666708), (859, 0.0), (860, 0.003581919408693829), (861, 0.002662158436525239), (862, 0.0), (863, 0.002825877401368074), (864, 0.0031238474012264122), (865, 0.0031743357379674856), (866, 0.0028739789611398462), (867, 0.0030468014044311613), (868, 0.0028703265821854057), (869, 0.0), (870, 0.0030229144420395233), (871, 0.06580123736535089), (872, 0.0033096160441374966), (873, 0.0), (874, 0.0026660245051384627), (875, 0.023187074092110967), (876, 0.0035286665853561175), (877, 0.02205856684135305), (878, 0.08755304634831944), (879, 0.003225300578279904), (880, 0.0030470952105764327), (881, 0.0), (882, 0.0), (883, 0.002953146537254767), (884, 0.0032164045092697748), (885, 0.002772920458028039), (886, 0.0028982896050943952), (887, 0.0033614788413105167), (888, 0.003426301678632423), (889, 0.003978644043884786), (890, 0.003224219825726565), (891, 0.0), (892, 0.0), (893, 0.0), (894, 0.003062447130636225), (895, 0.002880212884525215), (896, 0.003377225140252693), (897, 0.0031149995931201535), (898, 0.0), (899, 0.10012078540083573), (900, 0.002890494426329946), (901, 0.05663971129181457), (902, 0.0), (903, 0.002897862294494747), (904, 0.0), (905, 0.0), (906, 0.0), (907, 0.002842967117180576), (908, 0.0), (909, 0.0), (910, 0.028079748837078047), (911, 0.0029288254163677896), (912, 0.0), (913, 0.0), (914, 0.0), (915, 0.02032887008452097), (916, 0.0), (917, 0.0027671681537608604), (918, 0.0), (919, 0.021469192247452574), (920, 0.0), (921, 0.0028771978284461352), (922, 0.0034684505689504637), (923, 0.0029771721255623064), (924, 0.0026928309920461373), (925, 0.003554693366624968), (926, 0.016477516806616542), (927, 0.0), (928, 0.0), (929, 0.0022300904903447675), (930, 0.0325587413784491), (931, 0.0), (932, 0.018885333081805716), (933, 0.003157264429176869), (934, 0.002817518168890726), (935, 0.002875474726617032), (936, 0.0027816248173244858), (937, 0.0036118651076955458), (938, 0.0), (939, 0.002915932660996365), (940, 0.002163598612208544), (941, 0.0028954860336808104), (942, 0.002513276473592505), (943, 0.0), (944, 0.0028802778790947034), (945, 0.0), (946, 0.0), (947, 0.004170202837815946), (948, 0.0), (949, 0.0036772036203779335), (950, 0.0), (951, 0.0026097973298498172), (952, 0.003341862764730991), (953, 0.0024891296745752946), (954, 0.0), (955, 0.0), (956, 0.0), (957, 0.00282289558948971), (958, 0.0), (959, 0.003002774778511409), (960, 0.0), (961, 0.0), (962, 0.0029313991058214934), (963, 0.002889787921426533), (964, 0.0), (965, 0.0), (966, 0.0029189115171925606), (967, 0.0034131758891014813), (968, 0.0028004298716703202), (969, 0.003155427987495904), (970, 0.0), (971, 0.0), (972, 0.0), (973, 0.003045779574289722), (974, 0.0), (975, 0.0028941069709105304), (976, 0.0), (977, 0.0), (978, 0.0), (979, 0.0), (980, 0.003195133232942749), (981, 0.0027831957580072737), (982, 0.0), (983, 0.027091229318084182), (984, 0.002940641765558455), (985, 0.05310318851779191), (986, 0.0030891284282204843), (987, 0.0032065355063509893), (988, 0.024054469744494544), (989, 0.023819987335133724), (990, 0.0), (991, 0.0033184856285123315), (992, 0.0), (993, 0.0031142249675705906), (994, 0.027219019807284146), (995, 0.0), (996, 0.0), (997, 0.0293603472543643), (998, 0.0035046104760403656), (999, 0.0035017421966235915), (1000, 0.0027806070532121734), (1001, 0.0029464259324032344), (1002, 0.002945556608326316), (1003, 0.0), (1004, 0.002770957539529221), (1005, 0.0023629709684561467), (1006, 0.0032298159659815678), (1007, 0.003254568176060552), (1008, 0.0), (1009, 0.002742540425012817), (1010, 0.0), (1011, 0.0), (1012, 0.0), (1013, 0.0), (1014, 0.0), (1015, 0.003341812743461584), (1016, 0.0), (1017, 0.0030048654248688977), (1018, 0.0), (1019, 0.005867242286996187), (1020, 0.002965939665438255), (1021, 0.0030793799109568366), (1022, 0.0), (1023, 0.003475045150337747), (1024, 0.0), (1025, 0.0), (1026, 0.0030335979064220627), (1027, 0.002956181038242408), (1028, 0.0), (1029, 0.0), (1030, 0.002992532789176662), (1031, 0.0), (1032, 0.0029199313208217313), (1033, 0.0029632709386141565), (1034, 0.0029605814844736477), (1035, 0.003003304282851778), (1036, 0.0029157322254984674), (1037, 0.00251481300312953), (1038, 0.0), (1039, 0.0), (1040, 0.002414585077959969), (1041, 0.0029019021356562185), (1042, 0.002581961316600077), (1043, 0.0033783580923432573), (1044, 0.0029947903305878026), (1045, 0.0), (1046, 0.0), (1047, 0.0), (1048, 0.003212564502525879), (1049, 0.0036657951924679946), (1050, 0.05662769687804262), (1051, 0.0), (1052, 0.0028620326739704793), (1053, 0.0036361912040907404), (1054, 0.0), (1055, 0.0), (1056, 0.0), (1057, 0.08250640741972806), (1058, 0.0), (1059, 0.0030601866092250084), (1060, 0.0029827622244754178), (1061, 0.0), (1062, 0.0), (1063, 0.0), (1064, 0.003745443235257837), (1065, 0.002825606256942734), (1066, 0.04762006765774133), (1067, 0.0), (1068, 0.0301906378777773), (1069, 0.0), (1070, 0.0), (1071, 0.0032990940741877096), (1072, 0.0030619747656800192), (1073, 0.0), (1074, 0.0), (1075, 0.0032566655471782486), (1076, 0.0), (1077, 0.0031583051311245623), (1078, 0.002574538271787513), (1079, 0.0028429127075048108), (1080, 0.06156032434440543), (1081, 0.0), (1082, 0.0), (1083, 0.0032165649279204964), (1084, 0.003029255473195994), (1085, 0.0), (1086, 0.0), (1087, 0.003142968017820893), (1088, 0.0026427268574284028), (1089, 0.0), (1090, 0.0), (1091, 0.0), (1092, 0.0), (1093, 0.0), (1094, 0.0), (1095, 0.0), (1096, 0.003007593942926646), (1097, 0.020718707350703785), (1098, 0.0025209271507422807), (1099, 0.0), (1100, 0.003040324102521166), (1101, 0.0), (1102, 0.0030682404073359712), (1103, 0.0), (1104, 0.0), (1105, 0.0), (1106, 0.0), (1107, 0.002876344621741764), (1108, 0.0), (1109, 0.0034280077867551366), (1110, 0.031204974216540945), (1111, 0.0), (1112, 0.0030791271578544774), (1113, 0.0), (1114, 0.06953446784825268), (1115, 0.0), (1116, 0.0), (1117, 0.0029698532431263226), (1118, 0.0), (1119, 0.0033006783608796214), (1120, 0.0), (1121, 0.003873149561059544), (1122, 0.003147413236033356), (1123, 0.0029381211880453034), (1124, 0.0032050920132068996), (1125, 0.05404244184804392), (1126, 0.0), (1127, 0.0), (1128, 0.0), (1129, 0.0), (1130, 0.0), (1131, 0.0031018054325621046), (1132, 0.0029380418132732527), (1133, 0.0), (1134, 0.0), (1135, 0.0), (1136, 0.023481134179478457), (1137, 0.023526842668000987), (1138, 0.00312725640287624), (1139, 0.0), (1140, 0.0033101321495299573), (1141, 0.0033037873491126037), (1142, 0.0), (1143, 0.0), (1144, 0.0024647411024442374), (1145, 0.004274938097688834), (1146, 0.0), (1147, 0.0), (1148, 0.003490494802885382), (1149, 0.0), (1150, 0.0), (1151, 0.0), (1152, 0.0), (1153, 0.0), (1154, 0.0), (1155, 0.02972000901260856), (1156, 0.0), (1157, 0.0), (1158, 0.0), (1159, 0.0), (1160, 0.002934333994538315), (1161, 0.02865748694402813), (1162, 0.0), (1163, 0.0030860395344028406), (1164, 0.0), (1165, 0.0), (1166, 0.0), (1167, 0.025956589172285792), (1168, 0.0037123489452089266), (1169, 0.00361815831287), (1170, 0.0030949617136634333), (1171, 0.0), (1172, 0.0), (1173, 0.0), (1174, 0.0031604297465534343), (1175, 0.0031199294392110295), (1176, 0.003155693385476359), (1177, 0.002912190912953837), (1178, 0.0), (1179, 0.0030910595588847334), (1180, 0.0), (1181, 0.0), (1182, 0.0031541560219013605), (1183, 0.022478906071872133), (1184, 0.003526861669834584), (1185, 0.0), (1186, 0.0027145146158160747), (1187, 0.003632203364720638), (1188, 0.0032448320056883426), (1189, 0.0), (1190, 0.0), (1191, 0.003103680672249246), (1192, 0.0032390332329800525), (1193, 0.0), (1194, 0.0), (1195, 0.02970324156283397), (1196, 0.0), (1197, 0.02178388784711686), (1198, 0.0), (1199, 0.002727140651450306), (1200, 0.0), (1201, 0.0), (1202, 0.0026222702434116375), (1203, 0.0029026467024046237), (1204, 0.00313662042492578), (1205, 0.0), (1206, 0.0028899668152700016), (1207, 0.0), (1208, 0.003941368919624985), (1209, 0.0025762149092220005), (1210, 0.0), (1211, 0.0), (1212, 0.0), (1213, 0.0), (1214, 0.0), (1215, 0.0026462007871546206), (1216, 0.0028033586261946575), (1217, 0.00268391496317424), (1218, 0.0), (1219, 0.0027733874122900467), (1220, 0.0027902717975859083), (1221, 0.0), (1222, 0.01986155029881554), (1223, 0.0031034456975003455), (1224, 0.0032271081002643834), (1225, 0.003261343234804138), (1226, 0.0), (1227, 0.0), (1228, 0.0), (1229, 0.003227497854134688), (1230, 0.0), (1231, 0.0), (1232, 0.0031153361154036513), (1233, 0.0), (1234, 0.0032736764867373515), (1235, 0.0), (1236, 0.0), (1237, 0.0028063251896125346), (1238, 0.0), (1239, 0.0), (1240, 0.0), (1241, 0.00254144297590753), (1242, 0.021674136143851025), (1243, 0.0033719601888880964), (1244, 0.0), (1245, 0.0029966895129277422), (1246, 0.0), (1247, 0.002985955306348835), (1248, 0.002970264587523112), (1249, 0.0), (1250, 0.0), (1251, 0.031623579127593886), (1252, 0.0030629324403094182), (1253, 0.0), (1254, 0.031438262129076584), (1255, 0.0029373864615979623), (1256, 0.0), (1257, 0.0030463795254165203), (1258, 0.0), (1259, 0.0), (1260, 0.0), (1261, 0.0029931771618472904), (1262, 0.0), (1263, 0.020833348970829287), (1264, 0.00372392939412889), (1265, 0.0), (1266, 0.0), (1267, 0.02042275573863199), (1268, 0.0), (1269, 0.0), (1270, 0.0), (1271, 0.0), (1272, 0.0), (1273, 0.0029422253739581853), (1274, 0.02721339829634918), (1275, 0.00356712310844973), (1276, 0.0), (1277, 0.0023118305787037815), (1278, 0.0), (1279, 0.0), (1280, 0.0), (1281, 0.0), (1282, 0.0), (1283, 0.01857874238378227), (1284, 0.0030094136198895887), (1285, 0.0226829591888905), (1286, 0.003030739453973718), (1287, 0.0), (1288, 0.0), (1289, 0.0), (1290, 0.002738843142993753), (1291, 0.0), (1292, 0.0), (1293, 0.0), (1294, 0.0031736297262786447), (1295, 0.0), (1296, 0.0), (1297, 0.0), (1298, 0.003074361129654931), (1299, 0.0), (1300, 0.0), (1301, 0.021157824418334584), (1302, 0.0), (1303, 0.0024925377195428463), (1304, 0.0030925155180538387), (1305, 0.002555769778499306), (1306, 0.0022536492817775947), (1307, 0.0), (1308, 0.0028363186839678095), (1309, 0.0), (1310, 0.0), (1311, 0.0), (1312, 0.0026088998402229646), (1313, 0.003046373438611882), (1314, 0.0), (1315, 0.0), (1316, 0.0), (1317, 0.0025048043645994624), (1318, 0.0027571153406078493), (1319, 0.0030330574968037106), (1320, 0.0), (1321, 0.0), (1322, 0.0), (1323, 0.0), (1324, 0.0032977072064651735), (1325, 0.003350806579191307), (1326, 0.0), (1327, 0.0), (1328, 0.0), (1329, 0.0), (1330, 0.0), (1331, 0.0), (1332, 0.0), (1333, 0.0), (1334, 0.003173578488095968), (1335, 0.0031222706867486886), (1336, 0.0), (1337, 0.003154882546531957), (1338, 0.003040620353934507), (1339, 0.03798561759137594), (1340, 0.002625425921096641), (1341, 0.0), (1342, 0.0), (1343, 0.0), (1344, 0.0), (1345, 0.0), (1346, 0.0), (1347, 0.0), (1348, 0.0), (1349, 0.06332240807065065), (1350, 0.003011379416443089), (1351, 0.0022798862197822285), (1352, 0.0026260274305681384), (1353, 0.0), (1354, 0.0), (1355, 0.0031658418563071315), (1356, 0.0026165991107057526), (1357, 0.0028489522821047684), (1358, 0.03217410509108425), (1359, 0.0033219623287026375), (1360, 0.0028136243911238224), (1361, 0.0), (1362, 0.0), (1363, 0.0), (1364, 0.025146687593191684), (1365, 0.002610584370445892), (1366, 0.028636920474299797), (1367, 0.0025816750837449618), (1368, 0.0), (1369, 0.0025302912891404924), (1370, 0.002665625072634269), (1371, 0.0), (1372, 0.0029000040259093817), (1373, 0.0), (1374, 0.021141541558901824), (1375, 0.002938290453834425), (1376, 0.0), (1377, 0.0024938089814066826), (1378, 0.0030888626867216977), (1379, 0.0), (1380, 0.02909040477933599), (1381, 0.0), (1382, 0.0031909859838828497), (1383, 0.003489760104229165), (1384, 0.0), (1385, 0.0030953763323269805), (1386, 0.0), (1387, 0.02865909720262694), (1388, 0.0), (1389, 0.024948948003393208), (1390, 0.0), (1391, 0.03196896264698736), (1392, 0.0027486402705656885), (1393, 0.0), (1394, 0.02145641422077821), (1395, 0.0), (1396, 0.0), (1397, 0.00267341020016655), (1398, 0.0035787595350144515), (1399, 0.0), (1400, 0.0032587710799483645), (1401, 0.0), (1402, 0.025395000091329507), (1403, 0.0023752346065792533), (1404, 0.0029222794328688097), (1405, 0.03384572670453798), (1406, 0.0), (1407, 0.025178137823172613), (1408, 0.0030108914317089133), (1409, 0.0033073441657130156), (1410, 0.0031245269128957497), (1411, 0.0030549093877065125), (1412, 0.0), (1413, 0.0031374878068113807), (1414, 0.0027579886573582037), (1415, 0.002532882340047768), (1416, 0.0029542669020295037), (1417, 0.0024131998551638295), (1418, 0.0), (1419, 0.0), (1420, 0.0), (1421, 0.0029803002940453098), (1422, 0.034795562235424134), (1423, 0.0027436686254660504), (1424, 0.0), (1425, 0.0), (1426, 0.0), (1427, 0.002534212872494951), (1428, 0.0), (1429, 0.003716513023853261), (1430, 0.0), (1431, 0.0), (1432, 0.0), (1433, 0.0028761369553040256), (1434, 0.0028225213161521224), (1435, 0.0), (1436, 0.0), (1437, 0.0), (1438, 0.0030616267570722313), (1439, 0.0032369107965705916), (1440, 0.003139213685371209), (1441, 0.0), (1442, 0.006121230967700003), (1443, 0.0), (1444, 0.0), (1445, 0.028820087843771686), (1446, 0.0029625695626620463), (1447, 0.0), (1448, 0.002856557170548252), (1449, 0.0), (1450, 0.0026641199517389177), (1451, 0.0), (1452, 0.0), (1453, 0.0), (1454, 0.003395596649319071), (1455, 0.0), (1456, 0.024860609017749963), (1457, 0.019674377815521032), (1458, 0.0), (1459, 0.0), (1460, 0.0), (1461, 0.0), (1462, 0.0028355772734914497), (1463, 0.0029806846773892514), (1464, 0.0025323691575120117), (1465, 0.0026802578694764614), (1466, 0.033405270464377475), (1467, 0.0), (1468, 0.0), (1469, 0.0), (1470, 0.021867319117836063), (1471, 0.002292526721954273), (1472, 0.0031274304888447312), (1473, 0.0), (1474, 0.0034476639446379765), (1475, 0.08653109512691559), (1476, 0.003132093286822515), (1477, 0.0028514622577094553), (1478, 0.0029603981220761295), (1479, 0.0033907056314617526), (1480, 0.0), (1481, 0.0029921369329911117), (1482, 0.0), (1483, 0.003067509671072777), (1484, 0.003270175025728872), (1485, 0.0), (1486, 0.0), (1487, 0.0), (1488, 0.0030992610759332673), (1489, 0.003473795496145367), (1490, 0.0), (1491, 0.0), (1492, 0.0), (1493, 0.026592929575823234), (1494, 0.0031848228463662027), (1495, 0.0), (1496, 0.0), (1497, 0.003528220584881908), (1498, 0.0034369622347747856), (1499, 0.0034606905757338436), (1500, 0.02392838667942977), (1501, 0.0), (1502, 0.0), (1503, 0.002802952299048127), (1504, 0.0), (1505, 0.0), (1506, 0.002117091472359077), (1507, 0.0), (1508, 0.0), (1509, 0.002111946955371931), (1510, 0.0031209699986097334), (1511, 0.0), (1512, 0.0), (1513, 0.0032204118696336644), (1514, 0.0028610727760835313), (1515, 0.0), (1516, 0.003183806533471641), (1517, 0.0), (1518, 0.0033295371676068403), (1519, 0.002858792444511689), (1520, 0.0), (1521, 0.0), (1522, 0.0), (1523, 0.0), (1524, 0.0), (1525, 0.0), (1526, 0.0), (1527, 0.0030255531502046164), (1528, 0.08001706575647531), (1529, 0.026162327464784314), (1530, 0.0), (1531, 0.0), (1532, 0.0), (1533, 0.0031359511954362324), (1534, 0.0), (1535, 0.0), (1536, 0.0), (1537, 0.003309842897452626), (1538, 0.002806113312860086), (1539, 0.0027566431776821394), (1540, 0.0), (1541, 0.0), (1542, 0.02855850885006221), (1543, 0.00284823314799222), (1544, 0.0), (1545, 0.0), (1546, 0.0), (1547, 0.003600629622933838), (1548, 0.0), (1549, 0.0), (1550, 0.03130435824649811), (1551, 0.0), (1552, 0.0), (1553, 0.002728422138328572), (1554, 0.0), (1555, 0.0028779494038425166), (1556, 0.0), (1557, 0.0), (1558, 0.0028737820961460786), (1559, 0.0), (1560, 0.0), (1561, 0.0), (1562, 0.0), (1563, 0.0), (1564, 0.0), (1565, 0.002642487939835792), (1566, 0.0), (1567, 0.0), (1568, 0.0), (1569, 0.0), (1570, 0.003251233008527179), (1571, 0.0025559286691030003), (1572, 0.003289480901757233), (1573, 0.0), (1574, 0.00311972198514386), (1575, 0.02953399320529105), (1576, 0.0), (1577, 0.0), (1578, 0.024953543991287266), (1579, 0.0), (1580, 0.0034113397786158413), (1581, 0.0), (1582, 0.0029679575008523945), (1583, 0.0), (1584, 0.0), (1585, 0.0), (1586, 0.0), (1587, 0.0), (1588, 0.0), (1589, 0.020694508458664072), (1590, 0.0), (1591, 0.0), (1592, 0.0), (1593, 0.0037464992021619416), (1594, 0.003461302837412718), (1595, 0.021916348772354766), (1596, 0.0), (1597, 0.002977998885619644), (1598, 0.0030517464013293813), (1599, 0.0), (1600, 0.0), (1601, 0.0), (1602, 0.0), (1603, 0.0), (1604, 0.0), (1605, 0.002792929842202695), (1606, 0.02665694040687111), (1607, 0.0), (1608, 0.0027288047201558686), (1609, 0.04108260203151374), (1610, 0.0), (1611, 0.0), (1612, 0.0030784768895165877), (1613, 0.0), (1614, 0.029508243679737922), (1615, 0.0), (1616, 0.0027167710530362366), (1617, 0.0030181004390363265), (1618, 0.027746481001180497), (1619, 0.003294556723853075), (1620, 0.0028907181985209614), (1621, 0.0030476573510564214), (1622, 0.020767139675636852), (1623, 0.0), (1624, 0.0025156912174570767), (1625, 0.0027799046614066913), (1626, 0.0), (1627, 0.0026426285450358916), (1628, 0.002828696904217466), (1629, 0.003191179770424137), (1630, 0.0), (1631, 0.0), (1632, 0.0), (1633, 0.0), (1634, 0.0030640388518793625), (1635, 0.0), (1636, 0.024411096751209733), (1637, 0.0033161200210967043), (1638, 0.0), (1639, 0.0), (1640, 0.0), (1641, 0.0028668007976530314), (1642, 0.002861215397990781), (1643, 0.0032456200709719235), (1644, 0.0), (1645, 0.03452414757655008), (1646, 0.0), (1647, 0.01997023092466573), (1648, 0.0023086872584324016), (1649, 0.0), (1650, 0.0028666796867156054), (1651, 0.0), (1652, 0.0), (1653, 0.023616413215380806), (1654, 0.0), (1655, 0.0037605458861242028), (1656, 0.0035443622584500636), (1657, 0.0), (1658, 0.0034226944701415646), (1659, 0.0), (1660, 0.02798477892187832), (1661, 0.0), (1662, 0.0), (1663, 0.002912406995169678), (1664, 0.0), (1665, 0.00289458754772692), (1666, 0.0030486430410853393), (1667, 0.0028491385066806547), (1668, 0.02034088224478809), (1669, 0.0), (1670, 0.0032538223156429414), (1671, 0.023446906037651587), (1672, 0.0028300727711201954), (1673, 0.0), (1674, 0.0), (1675, 0.0028163366016045925), (1676, 0.0), (1677, 0.002432193417008758), (1678, 0.0030738256313332575), (1679, 0.0), (1680, 0.04976558526221367), (1681, 0.0), (1682, 0.002901100544971678), (1683, 0.0033081733065662175), (1684, 0.0), (1685, 0.003270842269263172), (1686, 0.0), (1687, 0.0032778044380446284), (1688, 0.003152424023807225), (1689, 0.0), (1690, 0.0027853236114656205), (1691, 0.0026378383814282514), (1692, 0.0), (1693, 0.02980745184189469), (1694, 0.0), (1695, 0.0), (1696, 0.0), (1697, 0.0), (1698, 0.0), (1699, 0.0), (1700, 0.0), (1701, 0.0), (1702, 0.0), (1703, 0.0031986335600213502), (1704, 0.0), (1705, 0.0), (1706, 0.0031196448833688), (1707, 0.04739530367199524), (1708, 0.03294639573944601), (1709, 0.0), (1710, 0.002928439836380419), (1711, 0.0038767962678996296), (1712, 0.0033044885526754856), (1713, 0.0), (1714, 0.0), (1715, 0.0), (1716, 0.056477536162200845), (1717, 0.003183892011538706), (1718, 0.0), (1719, 0.0027900521260414424), (1720, 0.0), (1721, 0.0), (1722, 0.0031218570409333483), (1723, 0.04853803365307126), (1724, 0.0), (1725, 0.0), (1726, 0.0), (1727, 0.0032143021080894823), (1728, 0.0), (1729, 0.0), (1730, 0.002818473215235278), (1731, 0.0), (1732, 0.041146611215442414), (1733, 0.003389691236568199), (1734, 0.0), (1735, 0.0), (1736, 0.0032363534490717277), (1737, 0.0), (1738, 0.0), (1739, 0.0027797095256908), (1740, 0.024704570685780487), (1741, 0.0), (1742, 0.0029230963793653816), (1743, 0.0026314430320194156), (1744, 0.0029492185165350135), (1745, 0.0), (1746, 0.0), (1747, 0.002405877397192769), (1748, 0.0036194969425315513), (1749, 0.03061876997618522), (1750, 0.018880374560454296), (1751, 0.0), (1752, 0.0), (1753, 0.0), (1754, 0.003405554167459567), (1755, 0.0), (1756, 0.0), (1757, 0.0), (1758, 0.0), (1759, 0.0029210218606719597), (1760, 0.0028582805098827596), (1761, 0.0), (1762, 0.0027579239744640787), (1763, 0.002647383288627635), (1764, 0.002679738555837728), (1765, 0.0031974139720705864), (1766, 0.0), (1767, 0.0), (1768, 0.0031784843907403204), (1769, 0.0), (1770, 0.0), (1771, 0.0), (1772, 0.018332614114960934), (1773, 0.023213000806121882), (1774, 0.018491292153803275), (1775, 0.0), (1776, 0.0027226170749929364), (1777, 0.024340633620191274), (1778, 0.0), (1779, 0.028516008558846163), (1780, 0.0020166921680429863), (1781, 0.0), (1782, 0.0028275097362638136), (1783, 0.0), (1784, 0.0), (1785, 0.0), (1786, 0.03033713547218755), (1787, 0.0), (1788, 0.0), (1789, 0.0), (1790, 0.0), (1791, 0.0), (1792, 0.0036330365990133993), (1793, 0.0028975449701246535), (1794, 0.0), (1795, 0.021422958927572528), (1796, 0.0028206960149581182), (1797, 0.0), (1798, 0.0033188242407758174), (1799, 0.0), (1800, 0.0), (1801, 0.002596265012031628), (1802, 0.0), (1803, 0.0), (1804, 0.0), (1805, 0.00336823338197912), (1806, 0.0), (1807, 0.003032371928629455), (1808, 0.0027725453139563036), (1809, 0.0), (1810, 0.0), (1811, 0.003066627336507415), (1812, 0.0), (1813, 0.003001361505259488), (1814, 0.0028464961252429397), (1815, 0.0), (1816, 0.0), (1817, 0.0), (1818, 0.0), (1819, 0.028577975537816328), (1820, 0.0), (1821, 0.0032441068165993685), (1822, 0.0032634407679083136), (1823, 0.0), (1824, 0.0), (1825, 0.0), (1826, 0.002795515761359764), (1827, 0.0027955765429687474), (1828, 0.0026675289151229954), (1829, 0.0), (1830, 0.002739255645078669), (1831, 0.003056709376934223), (1832, 0.0), (1833, 0.002647203978675762), (1834, 0.0), (1835, 0.0), (1836, 0.0), (1837, 0.0), (1838, 0.0), (1839, 0.0), (1840, 0.0), (1841, 0.0), (1842, 0.0), (1843, 0.0035063992027602933), (1844, 0.02601174581885693), (1845, 0.0026143049247826806), (1846, 0.0), (1847, 0.0), (1848, 0.0033279578754872507), (1849, 0.0), (1850, 0.0), (1851, 0.031935195391658136), (1852, 0.0), (1853, 0.0032722985915756087), (1854, 0.002951649209402634), (1855, 0.0), (1856, 0.0), (1857, 0.08442104135355948), (1858, 0.003459227157818492), (1859, 0.0), (1860, 0.0031793314001671816), (1861, 0.002343320437552436), (1862, 0.0034623407136385024), (1863, 0.0), (1864, 0.0029734527736017574), (1865, 0.002804575891136051), (1866, 0.003375667083182016), (1867, 0.020864138058349944), (1868, 0.0), (1869, 0.0027990330100287402), (1870, 0.0), (1871, 0.0024605641347100935), (1872, 0.032109264203765454), (1873, 0.0), (1874, 0.003341008299879994), (1875, 0.0028389098947368854), (1876, 0.003109247906899898), (1877, 0.002950027729836833), (1878, 0.039489123234515526), (1879, 0.0), (1880, 0.0), (1881, 0.0), (1882, 0.026242609342654787), (1883, 0.0), (1884, 0.0028895176922520017), (1885, 0.03594178713862611), (1886, 0.0024571818370502756), (1887, 0.003503390907470001), (1888, 0.0), (1889, 0.0), (1890, 0.0034303475482794997), (1891, 0.0030646644174553857), (1892, 0.0028072128522268146), (1893, 0.0032606778911856366), (1894, 0.0), (1895, 0.0), (1896, 0.003279620924053074), (1897, 0.0033519275618904077), (1898, 0.0), (1899, 0.0), (1900, 0.0), (1901, 0.0), (1902, 0.0032494749002669686), (1903, 0.0), (1904, 0.0), (1905, 0.0033704354908171744), (1906, 0.0), (1907, 0.0033276778278950145), (1908, 0.09853994195493186), (1909, 0.003508951224216038), (1910, 0.0), (1911, 0.0), (1912, 0.0), (1913, 0.020848319663523383), (1914, 0.0), (1915, 0.0), (1916, 0.0032577949075062035), (1917, 0.0), (1918, 0.003265475554862886), (1919, 0.0021607633183370564), (1920, 0.0028584316413612513), (1921, 0.0027628649886321938), (1922, 0.003120780404560808), (1923, 0.0034333897524426557), (1924, 0.0035318476204607386), (1925, 0.0), (1926, 0.0), (1927, 0.02334058772476081), (1928, 0.0), (1929, 0.0029471854029792114), (1930, 0.0), (1931, 0.0031586270586213875), (1932, 0.0), (1933, 0.0), (1934, 0.0027603899496144125), (1935, 0.0), (1936, 0.003159633743793935), (1937, 0.0), (1938, 0.02389128778632772), (1939, 0.038028749937515885), (1940, 0.0), (1941, 0.0), (1942, 0.00314526363626028), (1943, 0.0026908481167135035), (1944, 0.0), (1945, 0.0), (1946, 0.0031767826405312834), (1947, 0.03560950094972596), (1948, 0.0), (1949, 0.0), (1950, 0.0025251787763921245), (1951, 0.003279996020063804), (1952, 0.0), (1953, 0.0), (1954, 0.0027385235541491477), (1955, 0.0), (1956, 0.0), (1957, 0.0), (1958, 0.0), (1959, 0.0033441222668700735), (1960, 0.029655027544350836), (1961, 0.0), (1962, 0.0), (1963, 0.017092750942288817), (1964, 0.0027945724490077914), (1965, 0.0), (1966, 0.0), (1967, 0.0030032918855519984), (1968, 0.028440554748989377), (1969, 0.030637190935524552), (1970, 0.0), (1971, 0.0026203397490823137), (1972, 0.0), (1973, 0.0), (1974, 0.029834112956378344), (1975, 0.0), (1976, 0.0), (1977, 0.002752511754113527), (1978, 0.0), (1979, 0.0), (1980, 0.0027728456277018466), (1981, 0.0), (1982, 0.0), (1983, 0.0032197316614170314), (1984, 0.0), (1985, 0.00312386050334728), (1986, 0.0), (1987, 0.0), (1988, 0.0), (1989, 0.0024830425546680662), (1990, 0.0), (1991, 0.10387741084306859), (1992, 0.0), (1993, 0.0), (1994, 0.0), (1995, 0.02604092550129612), (1996, 0.0), (1997, 0.0033587961610491673), (1998, 0.02138118311004879), (1999, 0.0), (2000, 0.0024635708305542816), (2001, 0.0), (2002, 0.0), (2003, 0.0), (2004, 0.10208196312119923), (2005, 0.0), (2006, 0.0), (2007, 0.0), (2008, 0.0030064548811503454), (2009, 0.0), (2010, 0.002441392971884973), (2011, 0.00281109690562039), (2012, 0.0), (2013, 0.0), (2014, 0.0), (2015, 0.0), (2016, 0.0032093528980281978), (2017, 0.0), (2018, 0.0), (2019, 0.0), (2020, 0.0), (2021, 0.031017407536679135), (2022, 0.0), (2023, 0.002911238856466663), (2024, 0.0029603944109001822), (2025, 0.0), (2026, 0.021109476418981567), (2027, 0.0029820755375589186), (2028, 0.01715960490597593), (2029, 0.00301820312217025), (2030, 0.0), (2031, 0.0027897024823479127), (2032, 0.0), (2033, 0.0), (2034, 0.002546993990658248), (2035, 0.0026189669002997457), (2036, 0.0), (2037, 0.029189123705827057), (2038, 0.0), (2039, 0.0026004571557780454), (2040, 0.0034153657586941237), (2041, 0.0), (2042, 0.0), (2043, 0.0), (2044, 0.0), (2045, 0.003141814545988764), (2046, 0.0), (2047, 0.0027318393784666857), (2048, 0.003181930134899154), (2049, 0.0034081962107004884), (2050, 0.0), (2051, 0.0035124279937549098), (2052, 0.0), (2053, 0.0031917142550816854), (2054, 0.0), (2055, 0.0028018962555315403), (2056, 0.0), (2057, 0.0), (2058, 0.0), (2059, 0.0), (2060, 0.003060096697157512), (2061, 0.003131214281956987), (2062, 0.0), (2063, 0.0), (2064, 0.0), (2065, 0.0027774564871865717), (2066, 0.0), (2067, 0.003110075178828061), (2068, 0.0029376371830455335), (2069, 0.0030374392230954265), (2070, 0.002644292445738767), (2071, 0.0), (2072, 0.0032034300060729804), (2073, 0.003150741222366619), (2074, 0.0), (2075, 0.004050777119574681), (2076, 0.002607358560903779), (2077, 0.0), (2078, 0.0), (2079, 0.0), (2080, 0.002986933179234884), (2081, 0.0), (2082, 0.0), (2083, 0.052701740960381965), (2084, 0.0), (2085, 0.0), (2086, 0.0), (2087, 0.0030236931320751057), (2088, 0.0032389725764739876), (2089, 0.003632635632861969), (2090, 0.0), (2091, 0.003134517362362884), (2092, 0.0), (2093, 0.0), (2094, 0.0), (2095, 0.0), (2096, 0.03269548800599611), (2097, 0.0033641544870600154), (2098, 0.0), (2099, 0.002889548544838545), (2100, 0.0), (2101, 0.0), (2102, 0.0030222701349029266), (2103, 0.0030102652916992145), (2104, 0.032759858711849076), (2105, 0.0032919781076087653), (2106, 0.0), (2107, 0.0), (2108, 0.0034313166655298207), (2109, 0.003116306051074155), (2110, 0.0), (2111, 0.0030282403255755272), (2112, 0.0034121402698413968), (2113, 0.0), (2114, 0.0), (2115, 0.0), (2116, 0.0033365898806418763), (2117, 0.03427949130693064), (2118, 0.0), (2119, 0.0), (2120, 0.0), (2121, 0.002943144553237311), (2122, 0.003120935334329556), (2123, 0.003199888581733806), (2124, 0.0), (2125, 0.0), (2126, 0.0031882121156763445), (2127, 0.002595285390803615), (2128, 0.0), (2129, 0.0028645922942750774), (2130, 0.0), (2131, 0.0029698066563166483), (2132, 0.0025827286288717523), (2133, 0.0029240993075011655), (2134, 0.0034579565633133824), (2135, 0.02977020640861199), (2136, 0.0), (2137, 0.004381642934761013), (2138, 0.0), (2139, 0.0), (2140, 0.0), (2141, 0.0029548926508793927), (2142, 0.003605558402146264), (2143, 0.0029557523093125004), (2144, 0.0031183548520480726), (2145, 0.025449336264202302), (2146, 0.002641967917863094), (2147, 0.0), (2148, 0.003204309106293701), (2149, 0.06257404107097592), (2150, 0.0), (2151, 0.003296105620634663), (2152, 0.0), (2153, 0.0), (2154, 0.003959873827254522), (2155, 0.0031455300446592642), (2156, 0.0), (2157, 0.002599514985117863), (2158, 0.0), (2159, 0.0034089785492721013), (2160, 0.0), (2161, 0.0), (2162, 0.03294114681897977), (2163, 0.002758488684016257), (2164, 0.0), (2165, 0.0), (2166, 0.002911510082449562), (2167, 0.0), (2168, 0.0), (2169, 0.003111471817832279), (2170, 0.0), (2171, 0.0), (2172, 0.0), (2173, 0.0030442312028279243), (2174, 0.0030643318331145075), (2175, 0.0), (2176, 0.003412752592688505), (2177, 0.0), (2178, 0.0), (2179, 0.0), (2180, 0.03731703146232363), (2181, 0.0), (2182, 0.0), (2183, 0.0), (2184, 0.0), (2185, 0.0), (2186, 0.0), (2187, 0.0035480718371917828), (2188, 0.0037729119256345567), (2189, 0.004339631465708033), (2190, 0.003332336898131096), (2191, 0.002772514110935391), (2192, 0.00311329564755317), (2193, 0.0031196104502677693), (2194, 0.0), (2195, 0.00308333681214179), (2196, 0.05325476901965494), (2197, 0.0), (2198, 0.0), (2199, 0.004024249978648528), (2200, 0.0), (2201, 0.0028758450350363403), (2202, 0.0), (2203, 0.0), (2204, 0.0), (2205, 0.0), (2206, 0.0), (2207, 0.0), (2208, 0.0), (2209, 0.003441733676983442), (2210, 0.036334928413545034), (2211, 0.0025904028575680486), (2212, 0.0030847864095709886), (2213, 0.0027568693180308043), (2214, 0.0033613052677929425), (2215, 0.0), (2216, 0.031113474357951858), (2217, 0.0), (2218, 0.0), (2219, 0.0), (2220, 0.0), (2221, 0.002570076462612165), (2222, 0.0), (2223, 0.003515046098499361), (2224, 0.0029335359939020745), (2225, 0.0), (2226, 0.10620407045706164), (2227, 0.0), (2228, 0.0), (2229, 0.0033784796296089277), (2230, 0.003174913103668195), (2231, 0.03166589314508606), (2232, 0.0), (2233, 0.0), (2234, 0.0), (2235, 0.0), (2236, 0.021975907334211668), (2237, 0.002712732062795775), (2238, 0.0), (2239, 0.0), (2240, 0.021252291928480712), (2241, 0.021968649302495844), (2242, 0.0029384503561193484), (2243, 0.0), (2244, 0.0), (2245, 0.0), (2246, 0.0), (2247, 0.0), (2248, 0.0027793136341570865), (2249, 0.0), (2250, 0.024165483098309133), (2251, 0.0043014028054533466), (2252, 0.0), (2253, 0.0), (2254, 0.0033174627971588586), (2255, 0.003988539594469655), (2256, 0.0), (2257, 0.031179939868839563), (2258, 0.0), (2259, 0.0), (2260, 0.003307097952745265), (2261, 0.0), (2262, 0.0), (2263, 0.0), (2264, 0.002746510560038671), (2265, 0.0028065160446299822), (2266, 0.0038066095404593876), (2267, 0.0), (2268, 0.0029856955641836694), (2269, 0.031085900858912545), (2270, 0.002671101091764844), (2271, 0.0), (2272, 0.0), (2273, 0.0), (2274, 0.0), (2275, 0.0), (2276, 0.0), (2277, 0.0031338031907843285), (2278, 0.0), (2279, 0.0030121806304479666), (2280, 0.03233874443652268), (2281, 0.0), (2282, 0.0), (2283, 0.0), (2284, 0.003108168315205169), (2285, 0.0027817866587778535), (2286, 0.003950793738910486), (2287, 0.0025791969267859116), (2288, 0.0032699865140241383), (2289, 0.0030700803929033984), (2290, 0.0), (2291, 0.0), (2292, 0.00314865872056958), (2293, 0.00336978752079724), (2294, 0.0), (2295, 0.0031406397474610594), (2296, 0.0), (2297, 0.0), (2298, 0.0), (2299, 0.004943623621616079), (2300, 0.0), (2301, 0.0028279266651333383), (2302, 0.0035113872209783076), (2303, 0.0029156886843955845), (2304, 0.0), (2305, 0.0), (2306, 0.03388695147327992), (2307, 0.0), (2308, 0.0), (2309, 0.0029531580451326502), (2310, 0.004133400736834922), (2311, 0.022287157167969536), (2312, 0.0), (2313, 0.003138698583606355), (2314, 0.0), (2315, 0.0), (2316, 0.0), (2317, 0.002860459145796823), (2318, 0.0), (2319, 0.003211573247001754), (2320, 0.0035939253159241956), (2321, 0.03261673421064287), (2322, 0.0), (2323, 0.0027898322202708796), (2324, 0.007977470770180121), (2325, 0.0), (2326, 0.0), (2327, 0.019696958943269883), (2328, 0.0), (2329, 0.0), (2330, 0.0), (2331, 0.0), (2332, 0.0), (2333, 0.0), (2334, 0.0031819837535084516), (2335, 0.0), (2336, 0.0), (2337, 0.0), (2338, 0.002793104608553901), (2339, 0.0), (2340, 0.0030991467681741403), (2341, 0.0), (2342, 0.0), (2343, 0.0), (2344, 0.0030979141818476305), (2345, 0.0), (2346, 0.0035149942606844333), (2347, 0.046293720709319815), (2348, 0.0029119291965525014), (2349, 0.004280441935383783), (2350, 0.003972547238122214), (2351, 0.0), (2352, 0.0), (2353, 0.0), (2354, 0.0030945704694347507), (2355, 0.0025773598363218607), (2356, 0.029941537436708222), (2357, 0.0), (2358, 0.0), (2359, 0.0025803267604842988), (2360, 0.0), (2361, 0.0032791425419107603), (2362, 0.0028338600879742257), (2363, 0.0), (2364, 0.0), (2365, 0.02872128426356781), (2366, 0.024461909742890267), (2367, 0.002959256712690863), (2368, 0.0), (2369, 0.0), (2370, 0.0032208003518881764), (2371, 0.0), (2372, 0.0), (2373, 0.0), (2374, 0.02714459993279833), (2375, 0.00339630155480842), (2376, 0.0), (2377, 0.0), (2378, 0.0036382149715187516), (2379, 0.004461599042376527), (2380, 0.0), (2381, 0.0), (2382, 0.0026482388404576295), (2383, 0.0), (2384, 0.0), (2385, 0.003256114023610977), (2386, 0.0031606836806541317), (2387, 0.0030847655273676675), (2388, 0.007590905633546989), (2389, 0.021133684179456585), (2390, 0.0033890493378806318), (2391, 0.0033018751532209296), (2392, 0.004036495691306348), (2393, 0.025844630175322), (2394, 0.003257511059199416), (2395, 0.0), (2396, 0.003119585724418503), (2397, 0.032287378875560824), (2398, 0.0), (2399, 0.002853685057220897), (2400, 0.0034966371653614224), (2401, 0.0030045135464828723), (2402, 0.002799720441501192), (2403, 0.0035631128571849183), (2404, 0.004204861058092627), (2405, 0.003215339762985413), (2406, 0.0036313288804067775), (2407, 0.004273391728455399), (2408, 0.0), (2409, 0.026271079568896863), (2410, 0.03482708570210942), (2411, 0.003500607720714081), (2412, 0.0026843513892680793), (2413, 0.0), (2414, 0.0), (2415, 0.0037513043353055594), (2416, 0.0030468960062109405), (2417, 0.03136010385641746), (2418, 0.0032769571473482803), (2419, 0.0032479245043968716), (2420, 0.0), (2421, 0.024139865557498384), (2422, 0.0030009131978133304), (2423, 0.0038960404041090795), (2424, 0.0), (2425, 0.004006681142730499), (2426, 0.0), (2427, 0.00359097965109017), (2428, 0.003411722002249044), (2429, 0.0), (2430, 0.0031365540365701867), (2431, 0.0), (2432, 0.05874931879278486), (2433, 0.0), (2434, 0.0036958171449903757), (2435, 0.0), (2436, 0.003455253696950662), (2437, 0.003508989197233469), (2438, 0.033175951177815605), (2439, 0.0), (2440, 0.006279222307328621), (2441, 0.028939006423490513), (2442, 0.0), (2443, 0.0020303153768140617), (2444, 0.0), (2445, 0.0), (2446, 0.0028713606065248207), (2447, 0.002651489232380411), (2448, 0.004037395782387706), (2449, 0.0), (2450, 0.0), (2451, 0.0), (2452, 0.0), (2453, 0.0028413488553519243), (2454, 0.0037330625272035136), (2455, 0.0), (2456, 0.0), (2457, 0.0027809217692580743), (2458, 0.0), (2459, 0.0037628461167708406), (2460, 0.0), (2461, 0.002997460694395308), (2462, 0.0), (2463, 0.003038801826399898), (2464, 0.0033905375058822674), (2465, 0.0), (2466, 0.0031749131458643446), (2467, 0.0029826731838843343), (2468, 0.0), (2469, 0.002420447010222738), (2470, 0.0), (2471, 0.0), (2472, 0.0), (2473, 0.0029442367024043632), (2474, 0.002371842326232033), (2475, 0.003324622245368495), (2476, 0.0), (2477, 0.003340116372075717), (2478, 0.0035489372097168973), (2479, 0.0), (2480, 0.0), (2481, 0.002574485975574802), (2482, 0.0028495861074722935), (2483, 0.0), (2484, 0.004133531103713413), (2485, 0.0), (2486, 0.0), (2487, 0.0), (2488, 0.029596764531939577), (2489, 0.003150528909567687), (2490, 0.004455805654699921), (2491, 0.0), (2492, 0.0031108369396752144), (2493, 0.0), (2494, 0.0033330565830500987), (2495, 0.003091214990093308), (2496, 0.00289108231987855), (2497, 0.0), (2498, 0.0), (2499, 0.0), (2500, 0.0), (2501, 0.0), (2502, 0.0027275912126383185), (2503, 0.0), (2504, 0.0), (2505, 0.0034333112235870335), (2506, 0.0), (2507, 0.0033582802265779994), (2508, 0.0), (2509, 0.0025405132850200556), (2510, 0.0), (2511, 0.0), (2512, 0.0030693047874773786), (2513, 0.0), (2514, 0.0), (2515, 0.0), (2516, 0.0), (2517, 0.0), (2518, 0.023849505496016502), (2519, 0.0), (2520, 0.0026799552657054), (2521, 0.0), (2522, 0.0032948232666180034), (2523, 0.0), (2524, 0.04166330176289622), (2525, 0.0029110806072224563), (2526, 0.002529430940561929), (2527, 0.0026589155352575813), (2528, 0.00287092057635571), (2529, 0.0044876362387242545), (2530, 0.003929256347667204), (2531, 0.003221886627646885), (2532, 0.0), (2533, 0.003109337709096092), (2534, 0.010803298061550807), (2535, 0.003426444674686536), (2536, 0.0), (2537, 0.004240918648833247), (2538, 0.0018497322376510978), (2539, 0.0), (2540, 0.002946427414971034), (2541, 0.0), (2542, 0.0), (2543, 0.0), (2544, 0.0), (2545, 0.003220851579858326), (2546, 0.003218288802002038), (2547, 0.0), (2548, 0.0), (2549, 0.0), (2550, 0.0023117517864571775), (2551, 0.0), (2552, 0.0028903451032112003), (2553, 0.0030139190488842334), (2554, 0.0031187175922729737), (2555, 0.007031053453180593), (2556, 0.0028666110479833203), (2557, 0.0038341504153531275), (2558, 0.0030918953813257196), (2559, 0.004063970218027335), (2560, 0.0035481490075512205), (2561, 0.0032252790547286116), (2562, 0.024579748505439654), (2563, 0.0025568058916217162), (2564, 0.0), (2565, 0.003279472576434115), (2566, 0.0), (2567, 0.0), (2568, 0.003780993647323282), (2569, 0.0030547598457847935), (2570, 0.0036385856071107807), (2571, 0.023397889779800823), (2572, 0.0029284823401965533), (2573, 0.06302973986116994), (2574, 0.0), (2575, 0.0), (2576, 0.06895253229695461), (2577, 0.0), (2578, 0.0), (2579, 0.0034652474333266782), (2580, 0.02391904139207391), (2581, 0.0), (2582, 0.0), (2583, 0.0), (2584, 0.0), (2585, 0.0034414958477394252), (2586, 0.0), (2587, 0.0027434724418804904), (2588, 0.0), (2589, 0.0), (2590, 0.0), (2591, 0.0027735402897381034), (2592, 0.003422476551878771), (2593, 0.029290134383044175), (2594, 0.0), (2595, 0.003353119874567775), (2596, 0.0), (2597, 0.0), (2598, 0.0029248853481297146), (2599, 0.0), (2600, 0.0), (2601, 0.0032241058801947605), (2602, 0.0025651609430695672), (2603, 0.002596474263290834), (2604, 0.0), (2605, 0.0), (2606, 0.003112839214443688), (2607, 0.0027710412550059197), (2608, 0.0), (2609, 0.003297448523110481), (2610, 0.003267144626725954), (2611, 0.0026522194432537396), (2612, 0.0029857235748971343), (2613, 0.003642031698127729), (2614, 0.006713583083115992), (2615, 0.0), (2616, 0.0), (2617, 0.0027256315113327236), (2618, 0.0), (2619, 0.03225463113321432), (2620, 0.027343650764062855), (2621, 0.00268964197581714), (2622, 0.0), (2623, 0.0034997939159975835), (2624, 0.0033827561101922752), (2625, 0.0035518382305727604), (2626, 0.0), (2627, 0.0), (2628, 0.004047018687206574), (2629, 0.0035093475488143454), (2630, 0.0), (2631, 0.0), (2632, 0.003018821204309105), (2633, 0.03220366328365523), (2634, 0.002888634620938027), (2635, 0.0), (2636, 0.002320976060628548), (2637, 0.0), (2638, 0.0035125583836316467), (2639, 0.0), (2640, 0.03209550270698635), (2641, 0.0), (2642, 0.023332767289648188), (2643, 0.003998233569342172), (2644, 0.0), (2645, 0.003978598398129248), (2646, 0.0), (2647, 0.003131147031725141), (2648, 0.0), (2649, 0.004366850621718657), (2650, 0.003211971714890486), (2651, 0.0029249131142039734), (2652, 0.003125385491954192), (2653, 0.04013356659923742), (2654, 0.021592292668178605), (2655, 0.00409691351147162), (2656, 0.0), (2657, 0.0), (2658, 0.0), (2659, 0.034127786613823825), (2660, 0.0), (2661, 0.0033187202015687567), (2662, 0.0), (2663, 0.0), (2664, 0.003295840631856065), (2665, 0.0), (2666, 0.0), (2667, 0.0), (2668, 0.0031809123843910226), (2669, 0.0), (2670, 0.0), (2671, 0.0), (2672, 0.0), (2673, 0.004112520084732811), (2674, 0.002845792697392764), (2675, 0.0), (2676, 0.0), (2677, 0.0), (2678, 0.005034822774258035), (2679, 0.002925376159759959), (2680, 0.0), (2681, 0.0), (2682, 0.0), (2683, 0.0), (2684, 0.039945407573104254), (2685, 0.0), (2686, 0.0), (2687, 0.0030415357704228724), (2688, 0.0), (2689, 0.02511537108594355), (2690, 0.0), (2691, 0.0), (2692, 0.0026845407116629577), (2693, 0.0), (2694, 0.004118033635397084), (2695, 0.0030953018742228837), (2696, 0.0035937347280578505), (2697, 0.0025308765832695746), (2698, 0.003012047447098116), (2699, 0.0), (2700, 0.0), (2701, 0.03419185571706266), (2702, 0.00353335174039223), (2703, 0.0), (2704, 0.0), (2705, 0.0033474036994573016), (2706, 0.002939067852412114), (2707, 0.0036283499953865058), (2708, 0.0), (2709, 0.0), (2710, 0.0), (2711, 0.0), (2712, 0.0033031004547630395), (2713, 0.0), (2714, 0.0032718322513799534), (2715, 0.0), (2716, 0.002977784334700958), (2717, 0.0), (2718, 0.0), (2719, 0.0), (2720, 0.0036232966094961335), (2721, 0.0026862397923681815), (2722, 0.04456693773231215), (2723, 0.003315552123219622), (2724, 0.0027470891402080703), (2725, 0.0033062408841592994), (2726, 0.0), (2727, 0.0), (2728, 0.0028139556635115286), (2729, 0.0), (2730, 0.0), (2731, 0.0041497326730202755), (2732, 0.0), (2733, 0.0), (2734, 0.021923423113351062), (2735, 0.0028543688881156725), (2736, 0.0), (2737, 0.03961336829155008), (2738, 0.0036482818877456393), (2739, 0.0033926357675019094), (2740, 0.0034808163358047714), (2741, 0.002783541013779337), (2742, 0.0), (2743, 0.0026505281410580004), (2744, 0.0032039982546430727), (2745, 0.0031204266429209317), (2746, 0.0031433253697873797), (2747, 0.0026787458778191986), (2748, 0.0033617342067398825), (2749, 0.0), (2750, 0.0), (2751, 0.0), (2752, 0.0029568573886178764), (2753, 0.0027234855736350313), (2754, 0.0), (2755, 0.003268978737695988), (2756, 0.0), (2757, 0.00473175381750007), (2758, 0.022747431044486417), (2759, 0.0), (2760, 0.018588098494985533), (2761, 0.002660352298058617), (2762, 0.0), (2763, 0.0), (2764, 0.03450281619971759), (2765, 0.02915773704585474), (2766, 0.08618187898175778), (2767, 0.002411894518987557), (2768, 0.004394525654548966), (2769, 0.0036489693810206683), (2770, 0.0), (2771, 0.0026232186340829013), (2772, 0.0036621017778680465), (2773, 0.0), (2774, 0.026086459206759716), (2775, 0.0041968860875370405), (2776, 0.0033296041457729856), (2777, 0.0028605351756313983), (2778, 0.0037381487403390077), (2779, 0.002951185773942241), (2780, 0.0), (2781, 0.0), (2782, 0.0034413347335522384), (2783, 0.0031111851338420167), (2784, 0.003159855725196935), (2785, 0.0), (2786, 0.0033106384206386223), (2787, 0.0), (2788, 0.0), (2789, 0.0), (2790, 0.0), (2791, 0.0), (2792, 0.0032752649737262064), (2793, 0.021188677462881614), (2794, 0.04485885402982234), (2795, 0.0039041473254277812), (2796, 0.003537918839051433), (2797, 0.02964227398794081), (2798, 0.0031393106045032237), (2799, 0.0), (2800, 0.002920780649496003), (2801, 0.0), (2802, 0.0030229277327475513), (2803, 0.0028133814384656984), (2804, 0.0), (2805, 0.0), (2806, 0.0), (2807, 0.032026506557742536), (2808, 0.029723437787475507), (2809, 0.006508104411557851), (2810, 0.0), (2811, 0.02313522623792616), (2812, 0.002913483761552359), (2813, 0.0), (2814, 0.0), (2815, 0.0), (2816, 0.024514629916484742), (2817, 0.0), (2818, 0.0), (2819, 0.0), (2820, 0.0), (2821, 0.0032819480907549593), (2822, 0.0), (2823, 0.0), (2824, 0.0), (2825, 0.0), (2826, 0.0031079958891472377), (2827, 0.0), (2828, 0.0), (2829, 0.0), (2830, 0.003440637711385607), (2831, 0.0030950401233742933), (2832, 0.004057115706653895), (2833, 0.09312594653838825), (2834, 0.0038353954102425055), (2835, 0.021651514181752755), (2836, 0.0), (2837, 0.0), (2838, 0.039201857339429366), (2839, 0.0), (2840, 0.0034479891865312343), (2841, 0.0017267717278034941), (2842, 0.018265486583299878), (2843, 0.0), (2844, 0.002553290765722251), (2845, 0.0028454418030270648), (2846, 0.0036173613234328603), (2847, 0.0), (2848, 0.03875088046493371), (2849, 0.0032682950713297004), (2850, 0.0), (2851, 0.0), (2852, 0.0), (2853, 0.0030759990392338846), (2854, 0.003433395247298933), (2855, 0.0), (2856, 0.0), (2857, 0.0038160931430498996), (2858, 0.004381887540714305), (2859, 0.002930951748616553), (2860, 0.0), (2861, 0.040658966500845085), (2862, 0.002881104072608629), (2863, 0.003187561969478153), (2864, 0.03135402400534238), (2865, 0.0), (2866, 0.0), (2867, 0.0), (2868, 0.002860199069547596), (2869, 0.0), (2870, 0.004190887254809198), (2871, 0.0), (2872, 0.003558596201564612), (2873, 0.0), (2874, 0.0), (2875, 0.0), (2876, 0.0025819620674228344), (2877, 0.0), (2878, 0.003258839682185141), (2879, 0.0037649525592400772), (2880, 0.0), (2881, 0.0035013105311781944), (2882, 0.00335940306400221), (2883, 0.004183526826030973), (2884, 0.003568760717645763), (2885, 0.0), (2886, 0.0029494525053563644), (2887, 0.003132484957028454), (2888, 0.00334880872492289), (2889, 0.004255753001683435), (2890, 0.0034113166714249935), (2891, 0.0), (2892, 0.0029345708154396993), (2893, 0.003505812634586511), (2894, 0.0031724833569328017), (2895, 0.003700420547251093), (2896, 0.0), (2897, 0.0), (2898, 0.0), (2899, 0.002906123932190414), (2900, 0.0030816573639552737), (2901, 0.0039691915095261135), (2902, 0.00227370596779978), (2903, 0.003466893904478706), (2904, 0.027858292412299476), (2905, 0.0), (2906, 0.0), (2907, 0.0028671579882588952), (2908, 0.0024843358076675017), (2909, 0.023619162795324247), (2910, 0.0030247679099173496), (2911, 0.0032174610431610694), (2912, 0.07735878718068495), (2913, 0.0), (2914, 0.003496267639849144), (2915, 0.003361905326304538), (2916, 0.003462810377488286), (2917, 0.002435033395916091), (2918, 0.10166146078790839), (2919, 0.0031936696010774097), (2920, 0.0028285957141778104), (2921, 0.0), (2922, 0.0), (2923, 0.004165369274231857), (2924, 0.0035853263390217367), (2925, 0.002482143778205788), (2926, 0.0032331245122015637), (2927, 0.0), (2928, 0.0), (2929, 0.0), (2930, 0.0), (2931, 0.002796503385451637), (2932, 0.0040874450773366175), (2933, 0.0026253958455655572), (2934, 0.026979151383977915), (2935, 0.0), (2936, 0.0034995892682941013), (2937, 0.004439249177353805), (2938, 0.0), (2939, 0.0), (2940, 0.0033043067555175833), (2941, 0.0), (2942, 0.0026751337222697055), (2943, 0.0030803774071513092), (2944, 0.0), (2945, 0.0030261745162530993), (2946, 0.0030424221273431876), (2947, 0.0), (2948, 0.0), (2949, 0.003303185144046014), (2950, 0.0), (2951, 0.0), (2952, 0.0), (2953, 0.0032722708725776402), (2954, 0.04238711569624659), (2955, 0.0), (2956, 0.0), (2957, 0.0037821188551306), (2958, 0.0), (2959, 0.0), (2960, 0.0), (2961, 0.003043009939091526), (2962, 0.0), (2963, 0.0), (2964, 0.0033035554150579057), (2965, 0.0029366883554489014), (2966, 0.0037581694786410036), (2967, 0.0), (2968, 0.0), (2969, 0.0025640450845432847), (2970, 0.003295192158480769), (2971, 0.0), (2972, 0.0029140305612812903), (2973, 0.0), (2974, 0.0034709090998138723), (2975, 0.002715992561236912), (2976, 0.0027693713882371756), (2977, 0.00316539341776818), (2978, 0.0), (2979, 0.031132170440877564), (2980, 0.0030319624849161294), (2981, 0.00264088951673816), (2982, 0.0), (2983, 0.0), (2984, 0.0), (2985, 0.002578646284210231), (2986, 0.0036567493230325386), (2987, 0.036650333084988954), (2988, 0.0031885162773976814), (2989, 0.004307720250280792), (2990, 0.0), (2991, 0.0), (2992, 0.0), (2993, 0.0037288244878217083), (2994, 0.0), (2995, 0.002929959449532239), (2996, 0.0034021691765457824), (2997, 0.0029220278691368096), (2998, 0.0046411296040282605), (2999, 0.0030739581135178057), (3000, 0.003165277322059509), (3001, 0.0), (3002, 0.0), (3003, 0.003434249262368308), (3004, 0.003807765536494249), (3005, 0.0), (3006, 0.027668052735569517), (3007, 0.0033026677891667975), (3008, 0.0), (3009, 0.038623684921024914), (3010, 0.0029811227360807143), (3011, 0.0), (3012, 0.0034660252158890178), (3013, 0.003487447558401541), (3014, 0.002918451319032418), (3015, 0.003917509493520857), (3016, 0.003173696573058856), (3017, 0.0), (3018, 0.02880612227537663), (3019, 0.0035988795924755813), (3020, 0.0037530364690724584), (3021, 0.0), (3022, 0.0), (3023, 0.0), (3024, 0.0025573733600375128), (3025, 0.0), (3026, 0.0034155888310713153), (3027, 0.024101856063257165), (3028, 0.002987451782284458), (3029, 0.0), (3030, 0.004188036656613141), (3031, 0.0037764173833663567), (3032, 0.0034603818246497684), (3033, 0.0), (3034, 0.0), (3035, 0.002943072517135668), (3036, 0.0029392080235400276), (3037, 0.0032632385130795666), (3038, 0.0), (3039, 0.0), (3040, 0.004317320458626166), (3041, 0.0), (3042, 0.0041887721580659), (3043, 0.0034996909685747813), (3044, 0.0033698613941910054), (3045, 0.0), (3046, 0.0030321223597296553), (3047, 0.0), (3048, 0.0), (3049, 0.0), (3050, 0.00283238346469941), (3051, 0.004409811859887616), (3052, 0.004222651574076487), (3053, 0.020273656404824647), (3054, 0.0), (3055, 0.004206728074064076), (3056, 0.0025610655861328106), (3057, 0.002900133027807022), (3058, 0.0), (3059, 0.0), (3060, 0.0), (3061, 0.0), (3062, 0.0034274129660491967), (3063, 0.0), (3064, 0.0033639107220217947), (3065, 0.0026258948659273747), (3066, 0.0), (3067, 0.003054055246189476), (3068, 0.0), (3069, 0.0030189931245479507), (3070, 0.0), (3071, 0.002895655494418172), (3072, 0.003593135964213543), (3073, 0.0), (3074, 0.0037929214853867086), (3075, 0.003002467869121078), (3076, 0.004045895270116211), (3077, 0.0), (3078, 0.0), (3079, 0.0), (3080, 0.0), (3081, 0.003638259621361561), (3082, 0.0), (3083, 0.0), (3084, 0.003278864500916703), (3085, 0.0), (3086, 0.003339633471820664), (3087, 0.0), (3088, 0.0), (3089, 0.0), (3090, 0.0), (3091, 0.002587620270147591), (3092, 0.0), (3093, 0.003042457809251049), (3094, 0.00361729607284239), (3095, 0.0033190111298696495), (3096, 0.06952789496771015), (3097, 0.0034089100478703954), (3098, 0.0), (3099, 0.0), (3100, 0.0), (3101, 0.0034154789054211382), (3102, 0.0), (3103, 0.0), (3104, 0.0), (3105, 0.0), (3106, 0.0), (3107, 0.0), (3108, 0.002774681184012129), (3109, 0.0), (3110, 0.0), (3111, 0.0027669400077503814), (3112, 0.003324310876395104), (3113, 0.0031531593692301347), (3114, 0.0), (3115, 0.0), (3116, 0.003397173796791353), (3117, 0.0), (3118, 0.0), (3119, 0.004238256619874272), (3120, 0.0028621754475534555), (3121, 0.022126417983022995), (3122, 0.0029491863694208697), (3123, 0.00377085671844983), (3124, 0.0), (3125, 0.0031067583665499326), (3126, 0.07363768752289092), (3127, 0.0), (3128, 0.0038970055886617095), (3129, 0.0), (3130, 0.0), (3131, 0.0), (3132, 0.0), (3133, 0.0), (3134, 0.0), (3135, 0.0), (3136, 0.0), (3137, 0.005738641704681765), (3138, 0.0), (3139, 0.004376965323156135), (3140, 0.003890626990763273), (3141, 0.0), (3142, 0.0), (3143, 0.0), (3144, 0.0), (3145, 0.0), (3146, 0.0034579815399721687), (3147, 0.0028780107994809357), (3148, 0.00350022917260931), (3149, 0.0), (3150, 0.05268940733812837), (3151, 0.002944861820667838), (3152, 0.0024124446498869157), (3153, 0.003183424786047321), (3154, 0.0037838107822237735), (3155, 0.0031126359665508787), (3156, 0.0), (3157, 0.00344099042736823), (3158, 0.0), (3159, 0.003826181253271572), (3160, 0.0), (3161, 0.0), (3162, 0.0), (3163, 0.0), (3164, 0.0), (3165, 0.0035508107889653234), (3166, 0.0042882606142982845), (3167, 0.0027685901146716424), (3168, 0.0), (3169, 0.0), (3170, 0.002941054959425884), (3171, 0.0029407548203296673), (3172, 0.0), (3173, 0.0030445430207646997), (3174, 0.003083234828510765), (3175, 0.0), (3176, 0.0), (3177, 0.0), (3178, 0.038289568393123016), (3179, 0.0), (3180, 0.0), (3181, 0.0), (3182, 0.003149238330218191), (3183, 0.00338532518055445), (3184, 0.0033204769724648826), (3185, 0.0), (3186, 0.0035053296445367275), (3187, 0.0032532633176814156), (3188, 0.0), (3189, 0.0), (3190, 0.0), (3191, 0.0), (3192, 0.0), (3193, 0.0), (3194, 0.002917963805361835), (3195, 0.15317994879386462), (3196, 0.0034666435486382097), (3197, 0.0), (3198, 0.0031936283987643124), (3199, 0.0023940263950604835), (3200, 0.0026267395912436013), (3201, 0.0), (3202, 0.02575989204304907), (3203, 0.0), (3204, 0.0), (3205, 0.0), (3206, 0.003740386327545703), (3207, 0.0), (3208, 0.0808303542838523), (3209, 0.0), (3210, 0.0031183495647041743), (3211, 0.002676669719198225), (3212, 0.0), (3213, 0.0), (3214, 0.002951414943547965), (3215, 0.0), (3216, 0.00307640845993208), (3217, 0.0), (3218, 0.0032958413857620827), (3219, 0.004040106272644579), (3220, 0.003021420121099098), (3221, 0.0), (3222, 0.0), (3223, 0.0), (3224, 0.0032186204742113153), (3225, 0.0031679948098549083), (3226, 0.005686676738827122), (3227, 0.0031171078392685393), (3228, 0.032504368959343), (3229, 0.0), (3230, 0.003569087405216816), (3231, 0.0), (3232, 0.0), (3233, 0.003180397004849702), (3234, 0.026471368052715383), (3235, 0.00329564336885642), (3236, 0.0), (3237, 0.0030534865016011467), (3238, 0.0026604813951726985), (3239, 0.0038976501418624666), (3240, 0.005974853543182774), (3241, 0.0032252214594828145), (3242, 0.0032457380650025318), (3243, 0.0028954748931510742), (3244, 0.0), (3245, 0.0), (3246, 0.0029636990253669756), (3247, 0.0), (3248, 0.0034478055259543096), (3249, 0.00386656348398726), (3250, 0.0), (3251, 0.0), (3252, 0.002575998934532712), (3253, 0.0), (3254, 0.00252773895820694), (3255, 0.0), (3256, 0.0), (3257, 0.003725089710931196), (3258, 0.0033616640112447173), (3259, 0.0), (3260, 0.0262787347739471), (3261, 0.0), (3262, 0.003977842524420954), (3263, 0.0), (3264, 0.0032643192258604826), (3265, 0.021771562669769862), (3266, 0.0), (3267, 0.0028051380400618896), (3268, 0.0029506179993687067), (3269, 0.003344094418582601), (3270, 0.02098890298599145), (3271, 0.003340350316219175), (3272, 0.0), (3273, 0.0034417571435706226), (3274, 0.003483252811861911), (3275, 0.003613321845145407), (3276, 0.004666725531381899), (3277, 0.0), (3278, 0.00281104083402334), (3279, 0.0), (3280, 0.0), (3281, 0.0), (3282, 0.004009214507742276), (3283, 0.003148909563069808), (3284, 0.02809411835442941), (3285, 0.0023241029882642757), (3286, 0.0), (3287, 0.0), (3288, 0.0), (3289, 0.003168239970928482), (3290, 0.0031814735697579), (3291, 0.004154425147245664), (3292, 0.004035684950937022), (3293, 0.002926079273467649), (3294, 0.0), (3295, 0.0), (3296, 0.003516156551850783), (3297, 0.0032849308459302205), (3298, 0.0029863021370800254), (3299, 0.003071951994780914), (3300, 0.002905217706255836), (3301, 0.002420893815419077), (3302, 0.003766693322461411), (3303, 0.03121596454115639), (3304, 0.0027993029149798263), (3305, 0.0), (3306, 0.0028342192938772322), (3307, 0.003591069467485996), (3308, 0.003659964448427091), (3309, 0.0), (3310, 0.02203917503388854), (3311, 0.0027965090441322946), (3312, 0.0), (3313, 0.002523967655462121), (3314, 0.003278754386660754), (3315, 0.002953242836182309), (3316, 0.023596088688035578), (3317, 0.0025320949871874485), (3318, 0.002786255184571187), (3319, 0.0), (3320, 0.0), (3321, 0.04560593510270418), (3322, 0.003978784279496605), (3323, 0.0), (3324, 0.0), (3325, 0.00552341821308078), (3326, 0.0032742955619518774), (3327, 0.002772957795061883), (3328, 0.002031992633561804), (3329, 0.0028262574460474798), (3330, 0.0030809600301370246), (3331, 0.002577035929215272), (3332, 0.0), (3333, 0.0), (3334, 0.0), (3335, 0.003123568187277835), (3336, 0.0027825822148429464), (3337, 0.0035670992314490255), (3338, 0.0), (3339, 0.0), (3340, 0.0), (3341, 0.003100145525888628), (3342, 0.0028707035049910803), (3343, 0.02366855821502382), (3344, 0.0026254850643768145), (3345, 0.0), (3346, 0.003083270230868386), (3347, 0.002594729037683807), (3348, 0.0029918173323406918), (3349, 0.0032073603600071892), (3350, 0.02337378136576802), (3351, 0.03313346415132324), (3352, 0.03436680980575059), (3353, 0.0032140193570358326), (3354, 0.0038922227011693434), (3355, 0.027861725952139073), (3356, 0.017869664883467817), (3357, 0.0038427503299901513), (3358, 0.00375318387124363), (3359, 0.0035977819667189553), (3360, 0.0027460857081372273), (3361, 0.0), (3362, 0.0024480089702771345), (3363, 0.003855578657875777), (3364, 0.003568845411353387), (3365, 0.0021801291633634476), (3366, 0.0), (3367, 0.0), (3368, 0.02313145427867859), (3369, 0.0028515964252940965), (3370, 0.003000810502349734), (3371, 0.023402719943736966), (3372, 0.05501310420469756), (3373, 0.0034795344389445086), (3374, 0.0030680587781225493), (3375, 0.0), (3376, 0.0026399083431050433), (3377, 0.0), (3378, 0.0), (3379, 0.0030309208513615428), (3380, 0.03172371685306846), (3381, 0.00305457357517867), (3382, 0.003225859089438538), (3383, 0.0), (3384, 0.0), (3385, 0.023677850328097078), (3386, 0.003132432712878672), (3387, 0.0), (3388, 0.0032572233923817318), (3389, 0.00284326589110089), (3390, 0.002945534622758339), (3391, 0.00689225806241309), (3392, 0.002054139987969612), (3393, 0.002658847490736241), (3394, 0.0), (3395, 0.0), (3396, 0.0035658721611566877), (3397, 0.0), (3398, 0.0), (3399, 0.0028882655574338847), (3400, 0.0), (3401, 0.0), (3402, 0.003012590973935646), (3403, 0.0027084904302395606), (3404, 0.0), (3405, 0.0), (3406, 0.0032626157318575077), (3407, 0.025144699664663685), (3408, 0.003575072780602529), (3409, 0.0479471757995518), (3410, 0.0024877466953236674), (3411, 0.0), (3412, 0.0030150827745746766), (3413, 0.0037132470401648617), (3414, 0.0034605930271654037), (3415, 0.0), (3416, 0.0), (3417, 0.003404914729509074), (3418, 0.0028055661478487348), (3419, 0.027948062657809632), (3420, 0.0), (3421, 0.002138795941066822), (3422, 0.0), (3423, 0.0035373560777091037), (3424, 0.0), (3425, 0.0035820915043750386), (3426, 0.0), (3427, 0.09692265358780151), (3428, 0.0), (3429, 0.0), (3430, 0.002573256272883615), (3431, 0.002482556675461102), (3432, 0.02097151362067912), (3433, 0.022803265863680252), (3434, 0.0032889311819367666), (3435, 0.0030614403442081133), (3436, 0.0031113648528943135), (3437, 0.003236381127580572), (3438, 0.0), (3439, 0.0), (3440, 0.0), (3441, 0.0030660966330189896), (3442, 0.0), (3443, 0.0), (3444, 0.0), (3445, 0.0031660805185234125), (3446, 0.0), (3447, 0.0030208770096720686), (3448, 0.0), (3449, 0.00334064867550567), (3450, 0.00359044843701551), (3451, 0.029564912729863238), (3452, 0.0028827497019556607), (3453, 0.0), (3454, 0.0), (3455, 0.0028385891179090145), (3456, 0.0), (3457, 0.0), (3458, 0.00211799364572085), (3459, 0.0), (3460, 0.002842784757643233), (3461, 0.0), (3462, 0.0), (3463, 0.0), (3464, 0.0), (3465, 0.0), (3466, 0.0), (3467, 0.0), (3468, 0.0), (3469, 0.0), (3470, 0.0), (3471, 0.002458053760878868), (3472, 0.0), (3473, 0.10277886169485653), (3474, 0.002809134331410809), (3475, 0.03851285987884171), (3476, 0.0), (3477, 0.0030655091178494625), (3478, 0.003091495487078045), (3479, 0.004128605982495183), (3480, 0.0), (3481, 0.0), (3482, 0.0), (3483, 0.003273229825726464), (3484, 0.0), (3485, 0.0), (3486, 0.0), (3487, 0.0029723642561759922), (3488, 0.0), (3489, 0.0), (3490, 0.0), (3491, 0.0031036251059243306), (3492, 0.0030876842498177436), (3493, 0.003235731011543131), (3494, 0.0), (3495, 0.0), (3496, 0.003318417076628347), (3497, 0.003377776016073655), (3498, 0.0029537892824070128), (3499, 0.03013466729097867), (3500, 0.0028681581746341986), (3501, 0.0031424734528325273), (3502, 0.0), (3503, 0.002964432893919022), (3504, 0.002961096815569425), (3505, 0.0), (3506, 0.00356555106001576), (3507, 0.0), (3508, 0.0), (3509, 0.0), (3510, 0.035193943394953534), (3511, 0.003254213871736814), (3512, 0.004740528110158329), (3513, 0.02213454483496852), (3514, 0.0032274089302055395), (3515, 0.0), (3516, 0.02633850251971559), (3517, 0.0032009507146879834), (3518, 0.0), (3519, 0.0), (3520, 0.0), (3521, 0.0038085672053102485), (3522, 0.0), (3523, 0.004431720729916204), (3524, 0.00363730640833127), (3525, 0.0), (3526, 0.003163799305321538), (3527, 0.003195650301655442), (3528, 0.0), (3529, 0.0), (3530, 0.0), (3531, 0.0), (3532, 0.0), (3533, 0.0), (3534, 0.0051054501019873865), (3535, 0.0), (3536, 0.0032077034041487393), (3537, 0.003834520097736373), (3538, 0.0024650501481251366), (3539, 0.0), (3540, 0.003605733074690426), (3541, 0.003109773235053821), (3542, 0.0031630537337086094), (3543, 0.0), (3544, 0.0037631333940562318), (3545, 0.0), (3546, 0.02666260721976917), (3547, 0.0), (3548, 0.0025422797194387765), (3549, 0.0), (3550, 0.0), (3551, 0.003120187680499935), (3552, 0.00502798878492152), (3553, 0.0030639471852139553), (3554, 0.03339040707729192), (3555, 0.02673376535671985), (3556, 0.0027641954568750795), (3557, 0.0030315955004603747), (3558, 0.0028541022455774888), (3559, 0.0), (3560, 0.0034735732738620964), (3561, 0.0041908276444193775), (3562, 0.0), (3563, 0.0028176116816073433), (3564, 0.003103482541190632), (3565, 0.003059560681031365), (3566, 0.0), (3567, 0.022699605203402626), (3568, 0.0), (3569, 0.07855666765407593), (3570, 0.023544290333631576), (3571, 0.003161227860768176), (3572, 0.0), (3573, 0.0), (3574, 0.0), (3575, 0.05410431168289425), (3576, 0.0), (3577, 0.0038205679968194963), (3578, 0.0), (3579, 0.0026388319472999376), (3580, 0.0), (3581, 0.0), (3582, 0.0), (3583, 0.0), (3584, 0.0), (3585, 0.0), (3586, 0.0), (3587, 0.003482469259523035), (3588, 0.029109665559889912), (3589, 0.0), (3590, 0.0032839332537433104), (3591, 0.0), (3592, 0.0), (3593, 0.003451031041314013), (3594, 0.0), (3595, 0.0), (3596, 0.0030595458323109856), (3597, 0.0), (3598, 0.0), (3599, 0.003227894372236553), (3600, 0.0), (3601, 0.003297022995009473), (3602, 0.0), (3603, 0.0), (3604, 0.0), (3605, 0.0), (3606, 0.0031520880582351146), (3607, 0.0), (3608, 0.002013639763646989), (3609, 0.025936438997541368), (3610, 0.0), (3611, 0.0035126247437513142), (3612, 0.003092670335918824), (3613, 0.003813145810140232), (3614, 0.02192043555066268), (3615, 0.0029112238654639094), (3616, 0.0038443898871925496), (3617, 0.0), (3618, 0.0032769368262304077), (3619, 0.0), (3620, 0.003764482557412683), (3621, 0.0036377793926439866), (3622, 0.0), (3623, 0.0031891305581768364), (3624, 0.13686756071717146), (3625, 0.0), (3626, 0.0023718136421009414), (3627, 0.002860413595274113), (3628, 0.0), (3629, 0.06869155380115388), (3630, 0.0), (3631, 0.0), (3632, 0.05284922345882638), (3633, 0.0), (3634, 0.0026138372090564275), (3635, 0.004179717371085478), (3636, 0.003185904618013425), (3637, 0.0027035620244872296), (3638, 0.0038543840100432607), (3639, 0.0035381167615223855), (3640, 0.07142087548393454), (3641, 0.002985694578958531), (3642, 0.0033523774439104172), (3643, 0.0031406333389631755), (3644, 0.0), (3645, 0.002330189271702589), (3646, 0.002923205108236574), (3647, 0.0030416269383838034), (3648, 0.0), (3649, 0.03129189935180683), (3650, 0.0), (3651, 0.003536539832591263), (3652, 0.0), (3653, 0.0031513594055967943), (3654, 0.0032513130578021962), (3655, 0.0026904387704244385), (3656, 0.0028491036651618214), (3657, 0.002608860602577779), (3658, 0.0), (3659, 0.0), (3660, 0.002981229526403762), (3661, 0.003525828660370335), (3662, 0.0), (3663, 0.0), (3664, 0.0), (3665, 0.003084131165147526), (3666, 0.0032099304703378695), (3667, 0.004727140858796641), (3668, 0.0026167002549090292), (3669, 0.002619892658494049), (3670, 0.0031179177695716052), (3671, 0.0), (3672, 0.0043929384314639885), (3673, 0.003078967930180482), (3674, 0.0), (3675, 0.003685187338593793), (3676, 0.0), (3677, 0.0033934721171164717), (3678, 0.003288852523832567), (3679, 0.0), (3680, 0.0034958693942803228), (3681, 0.0), (3682, 0.0), (3683, 0.0), (3684, 0.0), (3685, 0.0), (3686, 0.0), (3687, 0.0038613001042129428), (3688, 0.0), (3689, 0.0031976707816697217), (3690, 0.0), (3691, 0.002941694527233616), (3692, 0.0033286231010519747), (3693, 0.0656062373614542), (3694, 0.0033457010644704606), (3695, 0.0), (3696, 0.0029813592665430405), (3697, 0.023274132090741386), (3698, 0.0), (3699, 0.0031576320953028703), (3700, 0.0), (3701, 0.0031693511524534734), (3702, 0.0), (3703, 0.0), (3704, 0.0033408266567273455), (3705, 0.0027974381268794832), (3706, 0.0030170736332831), (3707, 0.00314643253947367), (3708, 0.0), (3709, 0.0), (3710, 0.0), (3711, 0.0), (3712, 0.0), (3713, 0.0), (3714, 0.00337909903479556), (3715, 0.0), (3716, 0.0), (3717, 0.0), (3718, 0.0), (3719, 0.003017465731913109), (3720, 0.0), (3721, 0.0), (3722, 0.0), (3723, 0.0), (3724, 0.0), (3725, 0.002878539614913199), (3726, 0.0), (3727, 0.0030651829803698973), (3728, 0.03394795046998468), (3729, 0.003582759227555604), (3730, 0.0), (3731, 0.0), (3732, 0.0), (3733, 0.002944351441106978), (3734, 0.0029158115746393564), (3735, 0.03052310405024157), (3736, 0.03615431972566787), (3737, 0.0034520282764155578), (3738, 0.0), (3739, 0.003125475780842048), (3740, 0.0), (3741, 0.0), (3742, 0.002823834238070996), (3743, 0.0), (3744, 0.0), (3745, 0.0036366474797134766), (3746, 0.0), (3747, 0.0), (3748, 0.0), (3749, 0.003370749999276242), (3750, 0.0), (3751, 0.0025409696388453327), (3752, 0.0), (3753, 0.0), (3754, 0.031061711426248913), (3755, 0.002732237916965868), (3756, 0.0025287777631976278), (3757, 0.003334829025132334), (3758, 0.0), (3759, 0.024187537550571455), (3760, 0.0), (3761, 0.0), (3762, 0.0040275672912427765), (3763, 0.02854131972636601), (3764, 0.0), (3765, 0.003003020253044353), (3766, 0.0036866973383513353), (3767, 0.0028398481092564306), (3768, 0.0), (3769, 0.0), (3770, 0.0032328257102155074), (3771, 0.0033484681550635157), (3772, 0.003518104171518906), (3773, 0.0), (3774, 0.022622395557825997), (3775, 0.0), (3776, 0.0), (3777, 0.0032663650079424273), (3778, 0.0032111907703093537), (3779, 0.0037330753706828587), (3780, 0.025857857327917955), (3781, 0.0033123880333245288), (3782, 0.0), (3783, 0.0), (3784, 0.002942582062210255), (3785, 0.028853342112272414), (3786, 0.0), (3787, 0.0), (3788, 0.0), (3789, 0.0), (3790, 0.03393084534073655), (3791, 0.0), (3792, 0.02462826894723799), (3793, 0.0), (3794, 0.0), (3795, 0.002765422846198411), (3796, 0.0), (3797, 0.0034210256111331704), (3798, 0.0), (3799, 0.002930484397977657), (3800, 0.0), (3801, 0.0027697587740055612), (3802, 0.0), (3803, 0.0), (3804, 0.00344858815590212), (3805, 0.0), (3806, 0.0), (3807, 0.003075278811454223), (3808, 0.02345642073627775), (3809, 0.0031674438784559285), (3810, 0.0), (3811, 0.0029143860969142645), (3812, 0.024114799788896833), (3813, 0.0033731326555908954), (3814, 0.0), (3815, 0.0), (3816, 0.0), (3817, 0.0), (3818, 0.0), (3819, 0.0029189472557720917), (3820, 0.0), (3821, 0.002592661131133909), (3822, 0.003471197529476679), (3823, 0.0), (3824, 0.0), (3825, 0.0), (3826, 0.002972078955385252), (3827, 0.003031132116422379), (3828, 0.003909799755799621), (3829, 0.024897332973677678), (3830, 0.0), (3831, 0.0), (3832, 0.003774060583356463), (3833, 0.0), (3834, 0.05273862874587685), (3835, 0.0018619155113312985), (3836, 0.0), (3837, 0.0), (3838, 0.02651259176993119), (3839, 0.002851490275151), (3840, 0.0), (3841, 0.0027723974650425308), (3842, 0.0), (3843, 0.0), (3844, 0.0), (3845, 0.0032245729445492858), (3846, 0.0), (3847, 0.0), (3848, 0.003922137624501667), (3849, 0.0), (3850, 0.0), (3851, 0.0), (3852, 0.0), (3853, 0.0), (3854, 0.002858845906447431), (3855, 0.0026231664384122975), (3856, 0.0), (3857, 0.003433701298637451), (3858, 0.0), (3859, 0.02240978757097446), (3860, 0.0), (3861, 0.0), (3862, 0.0032287357126112638), (3863, 0.04923965499168473), (3864, 0.0), (3865, 0.0), (3866, 0.0035635332487587872), (3867, 0.0035119452889332196), (3868, 0.023172283876068574), (3869, 0.0), (3870, 0.0), (3871, 0.0), (3872, 0.0), (3873, 0.00330567340412495), (3874, 0.0037803862796009337), (3875, 0.0025127761993158624), (3876, 0.028157573905318166), (3877, 0.003442041301113627), (3878, 0.004063169757437292), (3879, 0.0), (3880, 0.002697143851222176), (3881, 0.0), (3882, 0.025488185340202932), (3883, 0.003523938008731405), (3884, 0.003596890771618582), (3885, 0.0), (3886, 0.0), (3887, 0.0), (3888, 0.0030588680867027437), (3889, 0.0033527678241926286), (3890, 0.0029908896870744868), (3891, 0.0), (3892, 0.004018826466275959), (3893, 0.00333973258991169), (3894, 0.002711302094012235), (3895, 0.0027062673135420444), (3896, 0.0), (3897, 0.0), (3898, 0.002933712021977475), (3899, 0.009391016718695591), (3900, 0.0029727498983002127), (3901, 0.0037283361698000916), (3902, 0.003216615341052034), (3903, 0.003541044534243081), (3904, 0.003306672789993844), (3905, 0.0), (3906, 0.0030416408422787675), (3907, 0.0), (3908, 0.0), (3909, 0.0), (3910, 0.0027141287578379665), (3911, 0.0036940699368670604), (3912, 0.0), (3913, 0.0028540589466709903), (3914, 0.0), (3915, 0.003357884266077322), (3916, 0.0), (3917, 0.002973856458895428), (3918, 0.0), (3919, 0.003231722870828111), (3920, 0.0032021738635228695), (3921, 0.0), (3922, 0.003816361343216276), (3923, 0.03981379999992229), (3924, 0.0033983478409151577), (3925, 0.004601597966260203), (3926, 0.0), (3927, 0.002573196451870098), (3928, 0.026518439068471185), (3929, 0.0), (3930, 0.0), (3931, 0.0), (3932, 0.08735972915714829), (3933, 0.0), (3934, 0.0), (3935, 0.0036428557586163602), (3936, 0.0), (3937, 0.0), (3938, 0.0), (3939, 0.004117507832805568), (3940, 0.0), (3941, 0.0028970454806087295), (3942, 0.0), (3943, 0.0), (3944, 0.019098319024842117), (3945, 0.009002097704605675), (3946, 0.0), (3947, 0.0), (3948, 0.0), (3949, 0.0), (3950, 0.0), (3951, 0.0036072332424915894), (3952, 0.003545270063135535), (3953, 0.028885023516371858), (3954, 0.002917683388466955), (3955, 0.0), (3956, 0.0027554365314131244), (3957, 0.02207668971525969), (3958, 0.0), (3959, 0.0032019663146271348), (3960, 0.003504787093321302), (3961, 0.026730464231701348), (3962, 0.0034720577024829934), (3963, 0.0), (3964, 0.026460578600823504), (3965, 0.022627366650844513), (3966, 0.0), (3967, 0.0034175137620635595), (3968, 0.0), (3969, 0.0), (3970, 0.0), (3971, 0.0), (3972, 0.0), (3973, 0.003291490717807188), (3974, 0.002782520877256889), (3975, 0.0), (3976, 0.0), (3977, 0.0), (3978, 0.0029487257715788313), (3979, 0.0), (3980, 0.0), (3981, 0.0), (3982, 0.0), (3983, 0.0023160384306744933), (3984, 0.003251235254503344), (3985, 0.0), (3986, 0.0027815917857038444), (3987, 0.0032926530058211734), (3988, 0.0), (3989, 0.0), (3990, 0.04234023208528246), (3991, 0.0), (3992, 0.0034945475592685444), (3993, 0.0), (3994, 0.0), (3995, 0.0), (3996, 0.028249033204953807), (3997, 0.022490874331927074), (3998, 0.0), (3999, 0.003806597883742925), (4000, 0.0030664316197791443), (4001, 0.0), (4002, 0.0035902629256180526), (4003, 0.0), (4004, 0.024560136647988885), (4005, 0.003303349080522151), (4006, 0.0), (4007, 0.0), (4008, 0.0), (4009, 0.021891526624169252), (4010, 0.0), (4011, 0.028808405574267948), (4012, 0.0), (4013, 0.0033658018650389704), (4014, 0.0031279665953867796), (4015, 0.0025501808469089657), (4016, 0.0030829769126022553), (4017, 0.0041951885155671435), (4018, 0.0), (4019, 0.004007572682495408), (4020, 0.0030328903556361988), (4021, 0.0), (4022, 0.0), (4023, 0.0036508817656025665), (4024, 0.00333849290479448), (4025, 0.003207249394177612), (4026, 0.0), (4027, 0.0), (4028, 0.0), (4029, 0.0), (4030, 0.003618476917783495), (4031, 0.0), (4032, 0.0036073310755696626), (4033, 0.003261428405791496), (4034, 0.0), (4035, 0.0), (4036, 0.0030206623542864412), (4037, 0.0), (4038, 0.10653360791037317), (4039, 0.0), (4040, 0.0), (4041, 0.0), (4042, 0.003414495061022535), (4043, 0.0), (4044, 0.0), (4045, 0.0), (4046, 0.0033891069997233274), (4047, 0.0), (4048, 0.0033843711208081666), (4049, 0.003137526580592303), (4050, 0.0), (4051, 0.0034490142327319503), (4052, 0.003267332786108125), (4053, 0.002805193679514698), (4054, 0.0032780604346521218), (4055, 0.0), (4056, 0.003074783064525367), (4057, 0.0), (4058, 0.0), (4059, 0.0028910566063783333), (4060, 0.05204205543997684), (4061, 0.0), (4062, 0.003744430995431368), (4063, 0.1407967589248983), (4064, 0.0), (4065, 0.0), (4066, 0.0027149178248557643), (4067, 0.0), (4068, 0.0031407263859153742), (4069, 0.11138411332418868), (4070, 0.0), (4071, 0.0), (4072, 0.0), (4073, 0.0), (4074, 0.0027821223740254197), (4075, 0.003607263636840239), (4076, 0.0), (4077, 0.0), (4078, 0.0), (4079, 0.0032047726626666627), (4080, 0.002771914514058806), (4081, 0.0031085990798741074), (4082, 0.004367269833905212), (4083, 0.003227549695795512), (4084, 0.03046527658904729), (4085, 0.002942399815481444), (4086, 0.02984832726472104), (4087, 0.0033606742949130815), (4088, 0.0), (4089, 0.003218926886250917), (4090, 0.0), (4091, 0.0), (4092, 0.0034985184701193262), (4093, 0.0), (4094, 0.0), (4095, 0.0026236135847043803), (4096, 0.0), (4097, 0.0), (4098, 0.0031689126813838073), (4099, 0.0), (4100, 0.0), (4101, 0.003374200502672095), (4102, 0.0039252468775326154), (4103, 0.0), (4104, 0.00274026062101797), (4105, 0.0), (4106, 0.02565465210486057), (4107, 0.0038173353435925223), (4108, 0.0), (4109, 0.0), (4110, 0.0), (4111, 0.0033094979226246414), (4112, 0.0), (4113, 0.09868097676317734), (4114, 0.0), (4115, 0.0), (4116, 0.0033704245264873896), (4117, 0.0035290006467054483), (4118, 0.0), (4119, 0.0), (4120, 0.0), (4121, 0.024028330049941826), (4122, 0.0), (4123, 0.0032642132775991335), (4124, 0.0029252358223947946), (4125, 0.0), (4126, 0.0035973829659370323), (4127, 0.0), (4128, 0.0), (4129, 0.002992343952673145), (4130, 0.0033789771885568425), (4131, 0.0), (4132, 0.0033276409521916087), (4133, 0.003370924160620231), (4134, 0.0), (4135, 0.003135337861246464), (4136, 0.0032205077951694833), (4137, 0.0031198647192385957), (4138, 0.0340009641963281), (4139, 0.002985314251304125), (4140, 0.003377811915563412), (4141, 0.0027563918235158835), (4142, 0.003952478993128308), (4143, 0.0027789167032633236), (4144, 0.0), (4145, 0.00363149327880664), (4146, 0.0), (4147, 0.003764287697966297), (4148, 0.0), (4149, 0.0), (4150, 0.0), (4151, 0.0053116013528852184), (4152, 0.002949530232655757), (4153, 0.0), (4154, 0.002793508567094317), (4155, 0.002953431147707284), (4156, 0.0027099308699666575), (4157, 0.0), (4158, 0.0), (4159, 0.0), (4160, 0.003466142092901355), (4161, 0.003325830102612132), (4162, 0.0), (4163, 0.0035842192603089333), (4164, 0.0), (4165, 0.035502469301112984), (4166, 0.0), (4167, 0.0), (4168, 0.033387866601180045), (4169, 0.0032930952962500664), (4170, 0.0), (4171, 0.0021848776728369615), (4172, 0.004086997386660649), (4173, 0.0), (4174, 0.002845464496109689), (4175, 0.0032918619165681388), (4176, 0.0028426650272526193), (4177, 0.0), (4178, 0.003246123319648918), (4179, 0.0), (4180, 0.0), (4181, 0.0), (4182, 0.002345460571410719), (4183, 0.002998444175443896), (4184, 0.0), (4185, 0.0), (4186, 0.0), (4187, 0.03480568982584632), (4188, 0.0), (4189, 0.003162246907514185), (4190, 0.0), (4191, 0.0), (4192, 0.0029936674735888584), (4193, 0.0), (4194, 0.0), (4195, 0.0), (4196, 0.0), (4197, 0.03236401456846496), (4198, 0.0), (4199, 0.0), (4200, 0.0025560082809766805), (4201, 0.0), (4202, 0.07041666446755679), (4203, 0.0035834871528154133), (4204, 0.0), (4205, 0.002761317172680444), (4206, 0.0029365567901036374), (4207, 0.0), (4208, 0.0), (4209, 0.0037882506444520147), (4210, 0.0), (4211, 0.027076614547686742), (4212, 0.0), (4213, 0.00293966997379168), (4214, 0.0), (4215, 0.0), (4216, 0.0), (4217, 0.0), (4218, 0.0), (4219, 0.0), (4220, 0.0027272365292323004), (4221, 0.004133317428617397), (4222, 0.07348937165122482), (4223, 0.0), (4224, 0.0), (4225, 0.028115953803583133), (4226, 0.0), (4227, 0.0), (4228, 0.0030542244731637156), (4229, 0.0), (4230, 0.003961144109244409), (4231, 0.003297792970642527), (4232, 0.002687617389900713), (4233, 0.0), (4234, 0.0), (4235, 0.02527344138884321), (4236, 0.0), (4237, 0.0), (4238, 0.0), (4239, 0.029187187021664344), (4240, 0.0), (4241, 0.0), (4242, 0.00384063861756323), (4243, 0.003519417273821935), (4244, 0.0035416699657533288), (4245, 0.0033215297586134786), (4246, 0.0029271148591180855), (4247, 0.002717182104502196), (4248, 0.0), (4249, 0.003189771020698879), (4250, 0.0), (4251, 0.056559203317233686), (4252, 0.0), (4253, 0.0), (4254, 0.002902763231907082), (4255, 0.0031339099753171363), (4256, 0.0), (4257, 0.0029122704655666397), (4258, 0.0), (4259, 0.0034339303521896025), (4260, 0.0), (4261, 0.0), (4262, 0.0032095639204337742), (4263, 0.0034049950562716385), (4264, 0.0), (4265, 0.0), (4266, 0.003119525643238029), (4267, 0.003549864664267883), (4268, 0.003079002645279312), (4269, 0.003316035962507043), (4270, 0.0), (4271, 0.0), (4272, 0.0), (4273, 0.003163564380169359), (4274, 0.0), (4275, 0.0), (4276, 0.0), (4277, 0.0028316649950425937), (4278, 0.0), (4279, 0.0), (4280, 0.03635395584597692), (4281, 0.03188007169603988), (4282, 0.0028457388929043), (4283, 0.032360814992842594), (4284, 0.003033325446656168), (4285, 0.0), (4286, 0.0032685409939024676), (4287, 0.03169102402719213), (4288, 0.006290531802081206), (4289, 0.0), (4290, 0.0), (4291, 0.0), (4292, 0.0), (4293, 0.003449723841739606), (4294, 0.0), (4295, 0.0035296612182567854), (4296, 0.0026928178476308636), (4297, 0.0), (4298, 0.003792682282390714), (4299, 0.0030179454977204323), (4300, 0.0), (4301, 0.0022936423569846517), (4302, 0.0), (4303, 0.0), (4304, 0.002774635581651816), (4305, 0.0), (4306, 0.003822073834708545), (4307, 0.0), (4308, 0.0033902549198190873), (4309, 0.00301738418235607), (4310, 0.0), (4311, 0.002511667364722182), (4312, 0.0), (4313, 0.0), (4314, 0.0), (4315, 0.0), (4316, 0.0), (4317, 0.0), (4318, 0.025590619829258397), (4319, 0.0), (4320, 0.003083637213811293), (4321, 0.0029432324430367428), (4322, 0.0), (4323, 0.0), (4324, 0.0), (4325, 0.0), (4326, 0.0028343418995629274), (4327, 0.0), (4328, 0.0), (4329, 0.0), (4330, 0.0030932123117356574), (4331, 0.0), (4332, 0.0), (4333, 0.046798847448704696), (4334, 0.0031952159955528766), (4335, 0.0), (4336, 0.002986111776135932), (4337, 0.0), (4338, 0.025878071646366692), (4339, 0.04723033691096171), (4340, 0.0031973874777978467), (4341, 0.0), (4342, 0.0), (4343, 0.0027344722371366), (4344, 0.0026426505453738666), (4345, 0.0029324139755514274), (4346, 0.024509970205811783), (4347, 0.0), (4348, 0.0028430029994156486), (4349, 0.003039895745940841), (4350, 0.0027864923111049016), (4351, 0.0), (4352, 0.0), (4353, 0.0), (4354, 0.0032340264638712154), (4355, 0.003293476568340248), (4356, 0.002875111410439926), (4357, 0.0032954030120612163), (4358, 0.0), (4359, 0.002822436401791634), (4360, 0.0), (4361, 0.0032163728024625924), (4362, 0.0030270431523745224), (4363, 0.0032378837043587445), (4364, 0.0), (4365, 0.0), (4366, 0.02935322161205927), (4367, 0.0), (4368, 0.0034793141040144076), (4369, 0.003556692558473315), (4370, 0.0), (4371, 0.0033151676944461347), (4372, 0.0), (4373, 0.0), (4374, 0.0029345598376666732), (4375, 0.0), (4376, 0.0), (4377, 0.0), (4378, 0.0), (4379, 0.0032030759605928792), (4380, 0.0), (4381, 0.0029970770572962033), (4382, 0.0029893601361472904), (4383, 0.0), (4384, 0.0), (4385, 0.0), (4386, 0.0026662752019016335), (4387, 0.0030144305428896666), (4388, 0.0), (4389, 0.0), (4390, 0.0), (4391, 0.003124251460157894), (4392, 0.0), (4393, 0.0), (4394, 0.0030677235187170026), (4395, 0.003007537339217668), (4396, 0.003458781428691531), (4397, 0.003440600326294111), (4398, 0.003572285650595119), (4399, 0.002921679408850377), (4400, 0.003940952571255406), (4401, 0.003454023293865786), (4402, 0.002858602918516171), (4403, 0.039097542012920844), (4404, 0.0), (4405, 0.0), (4406, 0.0), (4407, 0.09171143472026241), (4408, 0.0), (4409, 0.003073200045439501), (4410, 0.0), (4411, 0.002648483058185838), (4412, 0.0036214203407692646), (4413, 0.0), (4414, 0.0), (4415, 0.0), (4416, 0.0036389842667775957), (4417, 0.0), (4418, 0.0040602292125318604), (4419, 0.0032228801976546114), (4420, 0.0032598252120769797), (4421, 0.0), (4422, 0.00319473632102175), (4423, 0.004008809789315514), (4424, 0.0), (4425, 0.0), (4426, 0.0), (4427, 0.0030880185246977393), (4428, 0.0029355279431891477), (4429, 0.002684212924880402), (4430, 0.02535580094064062), (4431, 0.003306159776321627), (4432, 0.0027058971667734224), (4433, 0.0), (4434, 0.0), (4435, 0.0031062368091217783), (4436, 0.0), (4437, 0.0), (4438, 0.0), (4439, 0.0), (4440, 0.0), (4441, 0.0), (4442, 0.0029986166661706494), (4443, 0.0037871413981515676), (4444, 0.004049679505118046), (4445, 0.0023208098911647866), (4446, 0.0033913128152111916), (4447, 0.0), (4448, 0.0032285508401509815), (4449, 0.0), (4450, 0.0), (4451, 0.0), (4452, 0.04901005318523546), (4453, 0.0), (4454, 0.0), (4455, 0.0), (4456, 0.0), (4457, 0.0), (4458, 0.0036870798165757057), (4459, 0.0), (4460, 0.0), (4461, 0.0029761394847491363), (4462, 0.0), (4463, 0.0), (4464, 0.0), (4465, 0.003543076927076205), (4466, 0.0), (4467, 0.0), (4468, 0.0), (4469, 0.0038626161666687813), (4470, 0.003187292151694013), (4471, 0.04808432564036614), (4472, 0.0029883943267372125), (4473, 0.0026924844244030225), (4474, 0.003255088238546985), (4475, 0.00278001622426777), (4476, 0.0026453920115381926), (4477, 0.0036117424049102237), (4478, 0.0), (4479, 0.022304875078761735), (4480, 0.029745953809324172), (4481, 0.0), (4482, 0.0), (4483, 0.0), (4484, 0.004121829071616435), (4485, 0.0), (4486, 0.02189770300410699), (4487, 0.0030457697832139865), (4488, 0.0), (4489, 0.003278812062199156), (4490, 0.003666269372458864), (4491, 0.0), (4492, 0.0), (4493, 0.0), (4494, 0.0034924787071269675), (4495, 0.0033113298838507448), (4496, 0.0), (4497, 0.0032366411291147586), (4498, 0.0), (4499, 0.0), (4500, 0.0), (4501, 0.0031233641744532466), (4502, 0.0028235429405686478), (4503, 0.0031178554856349447), (4504, 0.002983750606416559), (4505, 1.0), (4506, 0.0), (4507, 0.0035509211437865376), (4508, 0.0), (4509, 0.0), (4510, 0.0), (4511, 0.0030748287196496007), (4512, 0.0), (4513, 0.0), (4514, 0.0), (4515, 0.0), (4516, 0.0035450098249012888), (4517, 0.003110188165603055), (4518, 0.09403724839081573), (4519, 0.0), (4520, 0.0030603745822385354), (4521, 0.0038587510564243145), (4522, 0.003369026299896032), (4523, 0.002957340970648172), (4524, 0.0), (4525, 0.0), (4526, 0.0), (4527, 0.0), (4528, 0.0033573585817864367), (4529, 0.004145054315095005), (4530, 0.0030234540646191183), (4531, 0.0034260995860802773), (4532, 0.0), (4533, 0.0031639689500728616), (4534, 0.0), (4535, 0.003460209361018041), (4536, 0.002953586151796636), (4537, 0.0), (4538, 0.0), (4539, 0.0), (4540, 0.0033218026979591614), (4541, 0.0), (4542, 0.0), (4543, 0.0), (4544, 0.003856579943336144), (4545, 0.0033454733266736056), (4546, 0.003996070346494818), (4547, 0.0), (4548, 0.0), (4549, 0.0), (4550, 0.002997011511021886), (4551, 0.003421328924884621), (4552, 0.0), (4553, 0.0), (4554, 0.003674848581614073), (4555, 0.004659321239981174), (4556, 0.0), (4557, 0.0), (4558, 0.0), (4559, 0.0), (4560, 0.0), (4561, 0.0), (4562, 0.0), (4563, 0.0031700970602554063), (4564, 0.0), (4565, 0.0), (4566, 0.003258940052232152), (4567, 0.002954660173369694), (4568, 0.0), (4569, 0.0), (4570, 0.0), (4571, 0.004912445465009516), (4572, 0.003794162015258395), (4573, 0.0029969382419439664), (4574, 0.0033101225922637575), (4575, 0.0032710090801414816), (4576, 0.0030027033898373137), (4577, 0.0), (4578, 0.0), (4579, 0.0033322383471704833), (4580, 0.0), (4581, 0.0), (4582, 0.0), (4583, 0.0), (4584, 0.003634494431571501), (4585, 0.0), (4586, 0.0), (4587, 0.0), (4588, 0.0), (4589, 0.0036184588829122274), (4590, 0.002768249327348107), (4591, 0.00287525193728248), (4592, 0.0), (4593, 0.0034376379668771594), (4594, 0.003641363187595734), (4595, 0.0), (4596, 0.020881908516086088), (4597, 0.024477747158247045), (4598, 0.028036788961428263), (4599, 0.024233338255265087), (4600, 0.0), (4601, 0.003383771536556223), (4602, 0.003391868217280912), (4603, 0.0028837382377701827), (4604, 0.0031081869509797504), (4605, 0.003433970738942089), (4606, 0.003913816308386375), (4607, 0.0044891878574793214), (4608, 0.0027433999266676915), (4609, 0.0), (4610, 0.002594585465940113), (4611, 0.00412069075945514), (4612, 0.003848610910040149), (4613, 0.0), (4614, 0.0029529208435465208), (4615, 0.0), (4616, 0.002855776443813288), (4617, 0.004228183872939337), (4618, 0.0), (4619, 0.0034109459265250206), (4620, 0.00282464788976127), (4621, 0.0), (4622, 0.0), (4623, 0.02748383632747709), (4624, 0.003241782158514442), (4625, 0.00320993309611282), (4626, 0.0024994428765334207), (4627, 0.00265269862343862), (4628, 0.0), (4629, 0.0032250117070809054), (4630, 0.0), (4631, 0.0), (4632, 0.0036446910377062078), (4633, 0.0036331791550156794), (4634, 0.02499243925568814), (4635, 0.0), (4636, 0.0026070497541871573), (4637, 0.003668361074276858), (4638, 0.0028200603422964604), (4639, 0.0), (4640, 0.0030972056559568405), (4641, 0.0030200124512275352), (4642, 0.024931679812104767), (4643, 0.0031800027876580776), (4644, 0.0), (4645, 0.0), (4646, 0.0), (4647, 0.0), (4648, 0.0), (4649, 0.028170638541876132), (4650, 0.003562749369551261), (4651, 0.0), (4652, 0.0023629882101882083), (4653, 0.02582968075601163), (4654, 0.0), (4655, 0.0), (4656, 0.0), (4657, 0.003324903517337912), (4658, 0.0029721025806163435), (4659, 0.0), (4660, 0.0038121818106454522), (4661, 0.07089921825400936), (4662, 0.0), (4663, 0.0), (4664, 0.0), (4665, 0.0), (4666, 0.0), (4667, 0.0), (4668, 0.0030461540191338223), (4669, 0.003367044688052445), (4670, 0.002961345191393445), (4671, 0.0), (4672, 0.0), (4673, 0.002994250839196751), (4674, 0.0024829871984499282), (4675, 0.0), (4676, 0.0), (4677, 0.0031246621209159394), (4678, 0.0), (4679, 0.0027179081714537516), (4680, 0.0033054023893199854), (4681, 0.0), (4682, 0.0), (4683, 0.0), (4684, 0.0), (4685, 0.003035150600212013), (4686, 0.0031103358220354667), (4687, 0.0030228480904935322), (4688, 0.0), (4689, 0.0), (4690, 0.0), (4691, 0.0), (4692, 0.0038590188223484633), (4693, 0.003002983747482383), (4694, 0.003632409318932532), (4695, 0.0), (4696, 0.004050103518170167), (4697, 0.0), (4698, 0.0), (4699, 0.0034880705812781777), (4700, 0.0), (4701, 0.0036845455002216853), (4702, 0.0), (4703, 0.0), (4704, 0.004223351953619267), (4705, 0.004420026797333294), (4706, 0.003434611279880873), (4707, 0.0), (4708, 0.02843634461057562), (4709, 0.02871593218811916), (4710, 0.003907713305860886), (4711, 0.0), (4712, 0.002784931618267622), (4713, 0.0035787521770837324), (4714, 0.0), (4715, 0.0030994638974687883), (4716, 0.0), (4717, 0.0036503777416180515), (4718, 0.003467203426632501), (4719, 0.005987526919835939), (4720, 0.0), (4721, 0.0), (4722, 0.0033515005736690804), (4723, 0.0037798619202066676), (4724, 0.0038108965971069865), (4725, 0.02892224252732917), (4726, 0.0), (4727, 0.0), (4728, 0.0), (4729, 0.0029695379688972515), (4730, 0.0), (4731, 0.0035002162257914515), (4732, 0.00337190722666453), (4733, 0.0025794988102813493), (4734, 0.0033409453178760173), (4735, 0.0036582562275021004), (4736, 0.023678084475146095), (4737, 0.0), (4738, 0.0), (4739, 0.006304191461746119), (4740, 0.0), (4741, 0.0), (4742, 0.0), (4743, 0.0030164273197296446), (4744, 0.0025061280465873844), (4745, 0.0), (4746, 0.0), (4747, 0.0), (4748, 0.0026774367002382156), (4749, 0.0041488874190010175), (4750, 0.0), (4751, 0.0), (4752, 0.0022144538008017456), (4753, 0.0035251525055437975), (4754, 0.0), (4755, 0.03284365470402202), (4756, 0.0032088488926328342), (4757, 0.0032465145843214214), (4758, 0.0), (4759, 0.0)]\n"
          ]
        }
      ]
    },
    {
      "cell_type": "code",
      "source": [
        "len(Recommendation_score)"
      ],
      "metadata": {
        "colab": {
          "base_uri": "https://localhost:8080/"
        },
        "id": "COW_0gpCWUEU",
        "outputId": "cb5b99f2-bf82-45ea-fb1a-04e168bb8d0d"
      },
      "execution_count": 30,
      "outputs": [
        {
          "output_type": "execute_result",
          "data": {
            "text/plain": [
              "4760"
            ]
          },
          "metadata": {},
          "execution_count": 30
        }
      ]
    },
    {
      "cell_type": "markdown",
      "source": [
        "# Get all movies sort Based on Recommendations score wrt favourite Movie"
      ],
      "metadata": {
        "id": "UDTdWbc_Wbvn"
      }
    },
    {
      "cell_type": "code",
      "source": [
        "#sorting the movies based on similarity score\n",
        "Sorted_similar_movies=sorted(Recommendation_score,key=lambda x:x[1],reverse=True)\n",
        "print(Sorted_similar_movies)"
      ],
      "metadata": {
        "colab": {
          "base_uri": "https://localhost:8080/"
        },
        "id": "fFgb4_dZWlE_",
        "outputId": "11547604-2312-4b9f-e58c-bf1a2376dce4"
      },
      "execution_count": 31,
      "outputs": [
        {
          "output_type": "stream",
          "name": "stdout",
          "text": [
            "[(4505, 1.0), (3195, 0.15317994879386462), (4063, 0.1407967589248983), (3624, 0.13686756071717146), (51, 0.11427328969645502), (631, 0.11167434623526426), (4069, 0.11138411332418868), (4038, 0.10653360791037317), (2226, 0.10620407045706164), (1991, 0.10387741084306859), (3473, 0.10277886169485653), (578, 0.10250811429401009), (2004, 0.10208196312119923), (2918, 0.10166146078790839), (899, 0.10012078540083573), (426, 0.09869807798068567), (4113, 0.09868097676317734), (1908, 0.09853994195493186), (258, 0.09721675749856232), (3427, 0.09692265358780151), (651, 0.09620666226883573), (4518, 0.09403724839081573), (2833, 0.09312594653838825), (4407, 0.09171143472026241), (195, 0.09129246550940188), (878, 0.08755304634831944), (3932, 0.08735972915714829), (1475, 0.08653109512691559), (2766, 0.08618187898175778), (1857, 0.08442104135355948), (1057, 0.08250640741972806), (3208, 0.0808303542838523), (77, 0.0800519046102667), (1528, 0.08001706575647531), (3569, 0.07855666765407593), (2912, 0.07735878718068495), (3126, 0.07363768752289092), (4222, 0.07348937165122482), (492, 0.07179010201698015), (3640, 0.07142087548393454), (4661, 0.07089921825400936), (4202, 0.07041666446755679), (1114, 0.06953446784825268), (3096, 0.06952789496771015), (2576, 0.06895253229695461), (3629, 0.06869155380115388), (377, 0.06634609830425868), (871, 0.06580123736535089), (3693, 0.0656062373614542), (714, 0.0646350126446311), (1349, 0.06332240807065065), (2573, 0.06302973986116994), (274, 0.06291693258040952), (2149, 0.06257404107097592), (1080, 0.06156032434440543), (489, 0.0602423124566299), (2432, 0.05874931879278486), (365, 0.05813161399816836), (901, 0.05663971129181457), (1050, 0.05662769687804262), (4251, 0.056559203317233686), (1716, 0.056477536162200845), (35, 0.05501715961724642), (3372, 0.05501310420469756), (3575, 0.05410431168289425), (1125, 0.05404244184804392), (2196, 0.05325476901965494), (985, 0.05310318851779191), (3632, 0.05284922345882638), (3834, 0.05273862874587685), (2083, 0.052701740960381965), (3150, 0.05268940733812837), (4060, 0.05204205543997684), (428, 0.05073879924559389), (1680, 0.04976558526221367), (3863, 0.04923965499168473), (4452, 0.04901005318523546), (1723, 0.04853803365307126), (487, 0.04832009494900903), (4471, 0.04808432564036614), (3409, 0.0479471757995518), (1066, 0.04762006765774133), (1707, 0.04739530367199524), (4339, 0.04723033691096171), (4333, 0.046798847448704696), (2347, 0.046293720709319815), (715, 0.04589397150216295), (450, 0.04563596826889339), (3321, 0.04560593510270418), (93, 0.0453848983365774), (2794, 0.04485885402982234), (2722, 0.04456693773231215), (94, 0.043514812201024315), (2954, 0.04238711569624659), (3990, 0.04234023208528246), (2524, 0.04166330176289622), (1732, 0.041146611215442414), (1609, 0.04108260203151374), (36, 0.04095710894794352), (2861, 0.040658966500845085), (2653, 0.04013356659923742), (2684, 0.039945407573104254), (615, 0.03987973097149136), (3923, 0.03981379999992229), (2737, 0.03961336829155008), (1878, 0.039489123234515526), (2838, 0.039201857339429366), (4403, 0.039097542012920844), (212, 0.03892163213859725), (2848, 0.03875088046493371), (3009, 0.038623684921024914), (3475, 0.03851285987884171), (430, 0.038464809194933426), (395, 0.03834226940163453), (3178, 0.038289568393123016), (820, 0.03827540722525941), (1939, 0.038028749937515885), (1339, 0.03798561759137594), (520, 0.03785991596313223), (321, 0.037366722030210846), (2180, 0.03731703146232363), (584, 0.03697795200191057), (2987, 0.036650333084988954), (747, 0.03639657614709565), (4280, 0.03635395584597692), (2210, 0.036334928413545034), (198, 0.03625950847586521), (3736, 0.03615431972566787), (1885, 0.03594178713862611), (478, 0.03592915571229395), (235, 0.03583270458840509), (532, 0.03574884277799786), (1947, 0.03560950094972596), (4165, 0.035502469301112984), (3510, 0.035193943394953534), (37, 0.035144470830380824), (2410, 0.03482708570210942), (4187, 0.03480568982584632), (1422, 0.034795562235424134), (1645, 0.03452414757655008), (2764, 0.03450281619971759), (3352, 0.03436680980575059), (2117, 0.03427949130693064), (2701, 0.03419185571706266), (2659, 0.034127786613823825), (4138, 0.0340009641963281), (3728, 0.03394795046998468), (3790, 0.03393084534073655), (2306, 0.03388695147327992), (1405, 0.03384572670453798), (189, 0.03380586393295518), (694, 0.03360616187784262), (193, 0.033565496595805565), (1466, 0.033405270464377475), (3554, 0.03339040707729192), (4168, 0.033387866601180045), (528, 0.03324049778140751), (2438, 0.033175951177815605), (3351, 0.03313346415132324), (1708, 0.03294639573944601), (2162, 0.03294114681897977), (4755, 0.03284365470402202), (2104, 0.032759858711849076), (2096, 0.03269548800599611), (2321, 0.03261673421064287), (930, 0.0325587413784491), (3228, 0.032504368959343), (4197, 0.03236401456846496), (4283, 0.032360814992842594), (2280, 0.03233874443652268), (2397, 0.032287378875560824), (2619, 0.03225463113321432), (2633, 0.03220366328365523), (1358, 0.03217410509108425), (1872, 0.032109264203765454), (2640, 0.03209550270698635), (250, 0.032064950387228425), (2807, 0.032026506557742536), (1391, 0.03196896264698736), (1851, 0.031935195391658136), (4281, 0.03188007169603988), (3380, 0.03172371685306846), (370, 0.03169527988125819), (4287, 0.03169102402719213), (2231, 0.03166589314508606), (1251, 0.031623579127593886), (1254, 0.031438262129076584), (2417, 0.03136010385641746), (2864, 0.03135402400534238), (1550, 0.03130435824649811), (3649, 0.03129189935180683), (3303, 0.03121596454115639), (1110, 0.031204974216540945), (2257, 0.031179939868839563), (2979, 0.031132170440877564), (2216, 0.031113474357951858), (2269, 0.031085900858912545), (3754, 0.031061711426248913), (2021, 0.031017407536679135), (1969, 0.030637190935524552), (1749, 0.03061876997618522), (3735, 0.03052310405024157), (4084, 0.03046527658904729), (1786, 0.03033713547218755), (1068, 0.0301906378777773), (3499, 0.03013466729097867), (513, 0.029984830430057154), (2356, 0.029941537436708222), (4086, 0.02984832726472104), (1974, 0.029834112956378344), (1693, 0.02980745184189469), (2135, 0.02977020640861199), (4480, 0.029745953809324172), (2808, 0.029723437787475507), (1155, 0.02972000901260856), (1195, 0.02970324156283397), (688, 0.029670529380175753), (1960, 0.029655027544350836), (2797, 0.02964227398794081), (2488, 0.029596764531939577), (3451, 0.029564912729863238), (410, 0.02953527607527098), (1575, 0.02953399320529105), (1614, 0.029508243679737922), (809, 0.029418358838581942), (997, 0.0293603472543643), (4366, 0.02935322161205927), (2593, 0.029290134383044175), (2037, 0.029189123705827057), (4239, 0.029187187021664344), (2765, 0.02915773704585474), (3588, 0.029109665559889912), (1380, 0.02909040477933599), (2441, 0.028939006423490513), (4725, 0.02892224252732917), (3953, 0.028885023516371858), (3785, 0.028853342112272414), (736, 0.028847352784013458), (1445, 0.028820087843771686), (4011, 0.028808405574267948), (3018, 0.02880612227537663), (2365, 0.02872128426356781), (4709, 0.02871593218811916), (1387, 0.02865909720262694), (1161, 0.02865748694402813), (1366, 0.028636920474299797), (1819, 0.028577975537816328), (510, 0.028566031758211145), (1542, 0.02855850885006221), (3763, 0.02854131972636601), (1779, 0.028516008558846163), (1968, 0.028440554748989377), (4708, 0.02843634461057562), (73, 0.0282630393132854), (3996, 0.028249033204953807), (4649, 0.028170638541876132), (3876, 0.028157573905318166), (4225, 0.028115953803583133), (3284, 0.02809411835442941), (910, 0.028079748837078047), (4598, 0.028036788961428263), (1660, 0.02798477892187832), (3419, 0.027948062657809632), (503, 0.027874804642009546), (3355, 0.027861725952139073), (2904, 0.027858292412299476), (1618, 0.027746481001180497), (3006, 0.027668052735569517), (4623, 0.02748383632747709), (2620, 0.027343650764062855), (364, 0.02731185484591234), (994, 0.027219019807284146), (1274, 0.02721339829634918), (2374, 0.02714459993279833), (983, 0.027091229318084182), (4211, 0.027076614547686742), (2934, 0.026979151383977915), (3555, 0.02673376535671985), (3961, 0.026730464231701348), (3546, 0.02666260721976917), (1606, 0.02665694040687111), (371, 0.026648974281098647), (346, 0.026614335078107933), (1493, 0.026592929575823234), (3928, 0.026518439068471185), (3838, 0.02651259176993119), (253, 0.026477799981890374), (3234, 0.026471368052715383), (3964, 0.026460578600823504), (3516, 0.02633850251971559), (3260, 0.0262787347739471), (2409, 0.026271079568896863), (1882, 0.026242609342654787), (496, 0.026188711190849503), (1529, 0.026162327464784314), (2774, 0.026086459206759716), (1995, 0.02604092550129612), (1844, 0.02601174581885693), (1167, 0.025956589172285792), (3609, 0.025936438997541368), (4338, 0.025878071646366692), (3780, 0.025857857327917955), (2393, 0.025844630175322), (4653, 0.02582968075601163), (3202, 0.02575989204304907), (4106, 0.02565465210486057), (4318, 0.025590619829258397), (3882, 0.025488185340202932), (2145, 0.025449336264202302), (1402, 0.025395000091329507), (4430, 0.02535580094064062), (580, 0.02530658066602673), (4235, 0.02527344138884321), (1407, 0.025178137823172613), (588, 0.02516532111049914), (1364, 0.025146687593191684), (3407, 0.025144699664663685), (511, 0.025121284925690393), (2689, 0.02511537108594355), (4634, 0.02499243925568814), (1578, 0.024953543991287266), (1389, 0.024948948003393208), (4642, 0.024931679812104767), (3829, 0.024897332973677678), (1456, 0.024860609017749963), (1740, 0.024704570685780487), (750, 0.0246724564924636), (3792, 0.02462826894723799), (2562, 0.024579748505439654), (4004, 0.024560136647988885), (2816, 0.024514629916484742), (4346, 0.024509970205811783), (4597, 0.024477747158247045), (2366, 0.024461909742890267), (124, 0.024456825448215334), (1636, 0.024411096751209733), (95, 0.024371546017636626), (1777, 0.024340633620191274), (609, 0.024338557322448415), (4599, 0.024233338255265087), (3759, 0.024187537550571455), (2250, 0.024165483098309133), (2421, 0.024139865557498384), (3812, 0.024114799788896833), (3027, 0.024101856063257165), (804, 0.024090127427525566), (988, 0.024054469744494544), (4121, 0.024028330049941826), (1500, 0.02392838667942977), (2580, 0.02391904139207391), (1938, 0.02389128778632772), (282, 0.0238582834508804), (2518, 0.023849505496016502), (989, 0.023819987335133724), (215, 0.023792156526380018), (4736, 0.023678084475146095), (3385, 0.023677850328097078), (135, 0.02367214539130484), (3343, 0.02366855821502382), (2909, 0.023619162795324247), (1653, 0.023616413215380806), (3316, 0.023596088688035578), (184, 0.02358555955293158), (3570, 0.023544290333631576), (1137, 0.023526842668000987), (22, 0.023524783629985443), (1136, 0.023481134179478457), (725, 0.023464658952312922), (3808, 0.02345642073627775), (1671, 0.023446906037651587), (3371, 0.023402719943736966), (2571, 0.023397889779800823), (3350, 0.02337378136576802), (1927, 0.02334058772476081), (550, 0.023334990867534097), (2642, 0.023332767289648188), (3697, 0.023274132090741386), (1773, 0.023213000806121882), (875, 0.023187074092110967), (3868, 0.023172283876068574), (90, 0.02316822121797723), (2811, 0.02313522623792616), (3368, 0.02313145427867859), (709, 0.023097575618652146), (3433, 0.022803265863680252), (2758, 0.022747431044486417), (3567, 0.022699605203402626), (1285, 0.0226829591888905), (3965, 0.022627366650844513), (3774, 0.022622395557825997), (180, 0.022575586071212954), (3997, 0.022490874331927074), (1183, 0.022478906071872133), (3859, 0.02240978757097446), (638, 0.022320575232865188), (4479, 0.022304875078761735), (2311, 0.022287157167969536), (604, 0.022272854874533336), (320, 0.022147820068962154), (3513, 0.02213454483496852), (3121, 0.022126417983022995), (3957, 0.02207668971525969), (877, 0.02205856684135305), (3310, 0.02203917503388854), (2236, 0.021975907334211668), (2241, 0.021968649302495844), (2734, 0.021923423113351062), (3614, 0.02192043555066268), (1595, 0.021916348772354766), (4486, 0.02189770300410699), (4009, 0.021891526624169252), (1470, 0.021867319117836063), (515, 0.02182958191697874), (1197, 0.02178388784711686), (3265, 0.021771562669769862), (814, 0.02170177190096701), (1242, 0.021674136143851025), (572, 0.021657624113287092), (2835, 0.021651514181752755), (42, 0.02160931318165722), (2654, 0.021592292668178605), (542, 0.021510676074439065), (919, 0.021469192247452574), (1394, 0.02145641422077821), (1795, 0.021422958927572528), (1998, 0.02138118311004879), (327, 0.021253551060788), (2240, 0.021252291928480712), (480, 0.021251032805101506), (664, 0.02123775788724443), (2793, 0.021188677462881614), (1301, 0.021157824418334584), (264, 0.021155347549555406), (1374, 0.021141541558901824), (2389, 0.021133684179456585), (2026, 0.021109476418981567), (3270, 0.02098890298599145), (3432, 0.02097151362067912), (4596, 0.020881908516086088), (1867, 0.020864138058349944), (278, 0.02085787064353276), (1913, 0.020848319663523383), (1263, 0.020833348970829287), (1622, 0.020767139675636852), (1097, 0.020718707350703785), (1589, 0.020694508458664072), (72, 0.02048890645223792), (790, 0.020476260441952426), (1267, 0.02042275573863199), (196, 0.020341480358972774), (1668, 0.02034088224478809), (915, 0.02032887008452097), (3053, 0.020273656404824647), (256, 0.020009961847374864), (263, 0.01999233409293832), (812, 0.01997565052368694), (1647, 0.01997023092466573), (1222, 0.01986155029881554), (548, 0.019811040794808468), (2327, 0.019696958943269883), (1457, 0.019674377815521032), (3944, 0.019098319024842117), (932, 0.018885333081805716), (1750, 0.018880374560454296), (47, 0.018751845726057318), (2760, 0.018588098494985533), (1283, 0.01857874238378227), (1774, 0.018491292153803275), (1772, 0.018332614114960934), (2842, 0.018265486583299878), (3356, 0.017869664883467817), (538, 0.017426936566234022), (2028, 0.01715960490597593), (1963, 0.017092750942288817), (926, 0.016477516806616542), (336, 0.015151488673799998), (2534, 0.010803298061550807), (3899, 0.009391016718695591), (3945, 0.009002097704605675), (2324, 0.007977470770180121), (2388, 0.007590905633546989), (2555, 0.007031053453180593), (3391, 0.00689225806241309), (2614, 0.006713583083115992), (844, 0.006664344321630323), (2809, 0.006508104411557851), (4739, 0.006304191461746119), (4288, 0.006290531802081206), (2440, 0.006279222307328621), (1442, 0.006121230967700003), (4719, 0.005987526919835939), (3240, 0.005974853543182774), (1019, 0.005867242286996187), (3137, 0.005738641704681765), (3226, 0.005686676738827122), (788, 0.005676984867578896), (3325, 0.00552341821308078), (4151, 0.0053116013528852184), (3534, 0.0051054501019873865), (2678, 0.005034822774258035), (3552, 0.00502798878492152), (611, 0.004966922055113103), (2299, 0.004943623621616079), (4571, 0.004912445465009516), (3512, 0.004740528110158329), (2757, 0.00473175381750007), (3667, 0.004727140858796641), (3276, 0.004666725531381899), (4555, 0.004659321239981174), (2998, 0.0046411296040282605), (3925, 0.004601597966260203), (4607, 0.0044891878574793214), (2529, 0.0044876362387242545), (2379, 0.004461599042376527), (2490, 0.004455805654699921), (2937, 0.004439249177353805), (3523, 0.004431720729916204), (4705, 0.004420026797333294), (3051, 0.004409811859887616), (2768, 0.004394525654548966), (3672, 0.0043929384314639885), (2858, 0.004381887540714305), (2137, 0.004381642934761013), (3139, 0.004376965323156135), (4082, 0.004367269833905212), (2649, 0.004366850621718657), (2189, 0.004339631465708033), (3040, 0.004317320458626166), (2989, 0.004307720250280792), (2251, 0.0043014028054533466), (3166, 0.0042882606142982845), (2349, 0.004280441935383783), (1145, 0.004274938097688834), (2407, 0.004273391728455399), (2889, 0.004255753001683435), (2537, 0.004240918648833247), (3119, 0.004238256619874272), (4617, 0.004228183872939337), (4704, 0.004223351953619267), (3052, 0.004222651574076487), (735, 0.004221432243562673), (3055, 0.004206728074064076), (2404, 0.004204861058092627), (2775, 0.0041968860875370405), (4017, 0.0041951885155671435), (2870, 0.004190887254809198), (3561, 0.0041908276444193775), (3042, 0.0041887721580659), (3030, 0.004188036656613141), (627, 0.004186131760568544), (2883, 0.004183526826030973), (3635, 0.004179717371085478), (947, 0.004170202837815946), (2923, 0.004165369274231857), (3291, 0.004154425147245664), (2731, 0.0041497326730202755), (4749, 0.0041488874190010175), (4529, 0.004145054315095005), (2484, 0.004133531103713413), (2310, 0.004133400736834922), (4221, 0.004133317428617397), (3479, 0.004128605982495183), (4484, 0.004121829071616435), (4611, 0.00412069075945514), (2694, 0.004118033635397084), (3939, 0.004117507832805568), (2673, 0.004112520084732811), (2655, 0.00409691351147162), (2932, 0.0040874450773366175), (4172, 0.004086997386660649), (2559, 0.004063970218027335), (3878, 0.004063169757437292), (4418, 0.0040602292125318604), (2832, 0.004057115706653895), (2075, 0.004050777119574681), (4696, 0.004050103518170167), (4444, 0.004049679505118046), (2628, 0.004047018687206574), (3076, 0.004045895270116211), (3219, 0.004040106272644579), (2448, 0.004037395782387706), (2392, 0.004036495691306348), (3292, 0.004035684950937022), (3762, 0.0040275672912427765), (2199, 0.004024249978648528), (3892, 0.004018826466275959), (3282, 0.004009214507742276), (4423, 0.004008809789315514), (4019, 0.004007572682495408), (2425, 0.004006681142730499), (2643, 0.003998233569342172), (4546, 0.003996070346494818), (2255, 0.003988539594469655), (3322, 0.003978784279496605), (889, 0.003978644043884786), (2645, 0.003978598398129248), (3262, 0.003977842524420954), (2350, 0.003972547238122214), (2901, 0.0039691915095261135), (4230, 0.003961144109244409), (2154, 0.003959873827254522), (4142, 0.003952478993128308), (2286, 0.003950793738910486), (1208, 0.003941368919624985), (4400, 0.003940952571255406), (2530, 0.003929256347667204), (4102, 0.0039252468775326154), (3848, 0.003922137624501667), (3015, 0.003917509493520857), (4606, 0.003913816308386375), (3828, 0.003909799755799621), (4710, 0.003907713305860886), (2795, 0.0039041473254277812), (3239, 0.0038976501418624666), (3128, 0.0038970055886617095), (2423, 0.0038960404041090795), (3354, 0.0038922227011693434), (3140, 0.003890626990763273), (526, 0.003887495321494422), (1711, 0.0038767962678996296), (1121, 0.003873149561059544), (3249, 0.00386656348398726), (4469, 0.0038626161666687813), (3687, 0.0038613001042129428), (4692, 0.0038590188223484633), (4521, 0.0038587510564243145), (4544, 0.003856579943336144), (3363, 0.003855578657875777), (3638, 0.0038543840100432607), (4612, 0.003848610910040149), (3616, 0.0038443898871925496), (3357, 0.0038427503299901513), (4242, 0.00384063861756323), (2834, 0.0038353954102425055), (3537, 0.003834520097736373), (2557, 0.0038341504153531275), (3159, 0.003826181253271572), (4306, 0.003822073834708545), (3577, 0.0038205679968194963), (4107, 0.0038173353435925223), (3922, 0.003816361343216276), (2857, 0.0038160931430498996), (3613, 0.003813145810140232), (4660, 0.0038121818106454522), (4724, 0.0038108965971069865), (670, 0.0038099084450306264), (3521, 0.0038085672053102485), (3004, 0.003807765536494249), (2266, 0.0038066095404593876), (3999, 0.003806597883742925), (4572, 0.003794162015258395), (3074, 0.0037929214853867086), (4298, 0.003792682282390714), (4209, 0.0037882506444520147), (4443, 0.0037871413981515676), (326, 0.003785996452516677), (3154, 0.0037838107822237735), (2957, 0.0037821188551306), (2568, 0.003780993647323282), (3874, 0.0037803862796009337), (4723, 0.0037798619202066676), (3031, 0.0037764173833663567), (3832, 0.003774060583356463), (2188, 0.0037729119256345567), (3123, 0.00377085671844983), (402, 0.003768711005185843), (3302, 0.003766693322461411), (2879, 0.0037649525592400772), (3620, 0.003764482557412683), (4147, 0.003764287697966297), (3544, 0.0037631333940562318), (2459, 0.0037628461167708406), (1655, 0.0037605458861242028), (2966, 0.0037581694786410036), (3358, 0.00375318387124363), (3020, 0.0037530364690724584), (2415, 0.0037513043353055594), (1593, 0.0037464992021619416), (1064, 0.003745443235257837), (4062, 0.003744430995431368), (3206, 0.003740386327545703), (2778, 0.0037381487403390077), (3779, 0.0037330753706828587), (2454, 0.0037330625272035136), (2993, 0.0037288244878217083), (3901, 0.0037283361698000916), (3257, 0.003725089710931196), (1264, 0.00372392939412889), (1429, 0.003716513023853261), (777, 0.0037156235120549466), (3413, 0.0037132470401648617), (1168, 0.0037123489452089266), (2895, 0.003700420547251093), (2434, 0.0036958171449903757), (3911, 0.0036940699368670604), (4458, 0.0036870798165757057), (3766, 0.0036866973383513353), (3675, 0.003685187338593793), (4701, 0.0036845455002216853), (949, 0.0036772036203779335), (4554, 0.003674848581614073), (4637, 0.003668361074276858), (4490, 0.003666269372458864), (1049, 0.0036657951924679946), (2772, 0.0036621017778680465), (3308, 0.003659964448427091), (4735, 0.0036582562275021004), (2986, 0.0036567493230325386), (4023, 0.0036508817656025665), (4717, 0.0036503777416180515), (2769, 0.0036489693810206683), (2738, 0.0036482818877456393), (431, 0.0036458680894172054), (4632, 0.0036446910377062078), (3935, 0.0036428557586163602), (2613, 0.003642031698127729), (4594, 0.003641363187595734), (4416, 0.0036389842667775957), (2570, 0.0036385856071107807), (3081, 0.003638259621361561), (2378, 0.0036382149715187516), (3621, 0.0036377793926439866), (3524, 0.00363730640833127), (3745, 0.0036366474797134766), (1053, 0.0036361912040907404), (4584, 0.003634494431571501), (4633, 0.0036331791550156794), (1792, 0.0036330365990133993), (2089, 0.003632635632861969), (4694, 0.003632409318932532), (1187, 0.003632203364720638), (4145, 0.00363149327880664), (2406, 0.0036313288804067775), (2707, 0.0036283499953865058), (518, 0.003624243048153756), (2720, 0.0036232966094961335), (4412, 0.0036214203407692646), (1748, 0.0036194969425315513), (4030, 0.003618476917783495), (4589, 0.0036184588829122274), (1169, 0.00361815831287), (2846, 0.0036173613234328603), (3094, 0.00361729607284239), (3275, 0.003613321845145407), (937, 0.0036118651076955458), (4477, 0.0036117424049102237), (4032, 0.0036073310755696626), (4075, 0.003607263636840239), (3951, 0.0036072332424915894), (3540, 0.003605733074690426), (2142, 0.003605558402146264), (1547, 0.003600629622933838), (3019, 0.0035988795924755813), (3359, 0.0035977819667189553), (4126, 0.0035973829659370323), (3884, 0.003596890771618582), (2320, 0.0035939253159241956), (2696, 0.0035937347280578505), (3072, 0.003593135964213543), (3307, 0.003591069467485996), (2427, 0.00359097965109017), (3450, 0.00359044843701551), (4002, 0.0035902629256180526), (2924, 0.0035853263390217367), (4163, 0.0035842192603089333), (4203, 0.0035834871528154133), (3729, 0.003582759227555604), (3425, 0.0035820915043750386), (860, 0.003581919408693829), (1398, 0.0035787595350144515), (4713, 0.0035787521770837324), (443, 0.0035757233530302767), (3408, 0.003575072780602529), (4398, 0.003572285650595119), (3230, 0.003569087405216816), (3364, 0.003568845411353387), (2884, 0.003568760717645763), (448, 0.003568340445933916), (1275, 0.00356712310844973), (3337, 0.0035670992314490255), (3396, 0.0035658721611566877), (3506, 0.00356555106001576), (3866, 0.0035635332487587872), (823, 0.0035634083000609606), (2403, 0.0035631128571849183), (4650, 0.003562749369551261), (2872, 0.003558596201564612), (4369, 0.003556692558473315), (925, 0.003554693366624968), (508, 0.0035546836119295685), (2625, 0.0035518382305727604), (4507, 0.0035509211437865376), (3165, 0.0035508107889653234), (4267, 0.003549864664267883), (2478, 0.0035489372097168973), (2560, 0.0035481490075512205), (2187, 0.0035480718371917828), (614, 0.003547031674154718), (3952, 0.003545270063135535), (847, 0.003545110164212284), (4516, 0.0035450098249012888), (1656, 0.0035443622584500636), (4465, 0.003543076927076205), (721, 0.0035421893219729516), (4244, 0.0035416699657533288), (3903, 0.003541044534243081), (3639, 0.0035381167615223855), (2796, 0.003537918839051433), (3423, 0.0035373560777091037), (3651, 0.003536539832591263), (2702, 0.00353335174039223), (1924, 0.0035318476204607386), (4295, 0.0035296612182567854), (4117, 0.0035290006467054483), (876, 0.0035286665853561175), (1497, 0.003528220584881908), (739, 0.0035276677769251166), (1184, 0.003526861669834584), (3661, 0.003525828660370335), (4753, 0.0035251525055437975), (3883, 0.003523938008731405), (4243, 0.003519417273821935), (3772, 0.003518104171518906), (3296, 0.003516156551850783), (2223, 0.003515046098499361), (2346, 0.0035149942606844333), (3611, 0.0035126247437513142), (2638, 0.0035125583836316467), (2051, 0.0035124279937549098), (3867, 0.0035119452889332196), (2302, 0.0035113872209783076), (2629, 0.0035093475488143454), (2437, 0.003508989197233469), (1909, 0.003508951224216038), (1843, 0.0035063992027602933), (107, 0.0035062543671636184), (2893, 0.003505812634586511), (3186, 0.0035053296445367275), (3960, 0.003504787093321302), (998, 0.0035046104760403656), (1887, 0.003503390907470001), (999, 0.0035017421966235915), (2881, 0.0035013105311781944), (2411, 0.003500607720714081), (3148, 0.00350022917260931), (4731, 0.0035002162257914515), (2623, 0.0034997939159975835), (3043, 0.0034996909685747813), (2936, 0.0034995892682941013), (4092, 0.0034985184701193262), (2400, 0.0034966371653614224), (2914, 0.003496267639849144), (3680, 0.0034958693942803228), (3992, 0.0034945475592685444), (4494, 0.0034924787071269675), (1148, 0.003490494802885382), (683, 0.0034900631929099435), (281, 0.0034899757169456107), (1383, 0.003489760104229165), (4699, 0.0034880705812781777), (3013, 0.003487447558401541), (737, 0.0034868698628373715), (576, 0.0034849883738909053), (3274, 0.003483252811861911), (3587, 0.003482469259523035), (419, 0.003481829521448269), (2740, 0.0034808163358047714), (3373, 0.0034795344389445086), (4368, 0.0034793141040144076), (533, 0.0034771471530085016), (1023, 0.003475045150337747), (1489, 0.003473795496145367), (3560, 0.0034735732738620964), (813, 0.0034721810962918672), (3962, 0.0034720577024829934), (3822, 0.003471197529476679), (2974, 0.0034709090998138723), (922, 0.0034684505689504637), (4718, 0.003467203426632501), (2903, 0.003466893904478706), (3196, 0.0034666435486382097), (4160, 0.003466142092901355), (3012, 0.0034660252158890178), (2579, 0.0034652474333266782), (596, 0.0034638619324338293), (2916, 0.003462810377488286), (1862, 0.0034623407136385024), (1594, 0.003461302837412718), (1499, 0.0034606905757338436), (3414, 0.0034605930271654037), (3032, 0.0034603818246497684), (4535, 0.003460209361018041), (1858, 0.003459227157818492), (436, 0.003458844818867465), (4396, 0.003458781428691531), (3146, 0.0034579815399721687), (2134, 0.0034579565633133824), (308, 0.003457001568694435), (2436, 0.003455253696950662), (4401, 0.003454023293865786), (3737, 0.0034520282764155578), (3593, 0.003451031041314013), (701, 0.0034509561681806754), (4293, 0.003449723841739606), (458, 0.003449500419550142), (4051, 0.0034490142327319503), (3804, 0.00344858815590212), (2840, 0.0034479891865312343), (3248, 0.0034478055259543096), (1474, 0.0034476639446379765), (729, 0.003447357917607757), (444, 0.0034445918198261418), (3877, 0.003442041301113627), (3273, 0.0034417571435706226), (2209, 0.003441733676983442), (2585, 0.0034414958477394252), (2782, 0.0034413347335522384), (3157, 0.00344099042736823), (2830, 0.003440637711385607), (4397, 0.003440600326294111), (41, 0.0034399628136419125), (4593, 0.0034376379668771594), (1498, 0.0034369622347747856), (4706, 0.003434611279880873), (3003, 0.003434249262368308), (4605, 0.003433970738942089), (4259, 0.0034339303521896025), (3857, 0.003433701298637451), (2854, 0.003433395247298933), (1923, 0.0034333897524426557), (2505, 0.0034333112235870335), (2108, 0.0034313166655298207), (1890, 0.0034303475482794997), (1109, 0.0034280077867551366), (3062, 0.0034274129660491967), (2535, 0.003426444674686536), (888, 0.003426301678632423), (4531, 0.0034260995860802773), (1658, 0.0034226944701415646), (2592, 0.003422476551878771), (4551, 0.003421328924884621), (3797, 0.0034210256111331704), (3967, 0.0034175137620635595), (3026, 0.0034155888310713153), (3101, 0.0034154789054211382), (2040, 0.0034153657586941237), (4042, 0.003414495061022535), (857, 0.0034138732091448694), (967, 0.0034131758891014813), (62, 0.0034131734916653554), (2176, 0.003412752592688505), (2112, 0.0034121402698413968), (2428, 0.003411722002249044), (1580, 0.0034113397786158413), (2890, 0.0034113166714249935), (4619, 0.0034109459265250206), (2159, 0.0034089785492721013), (3097, 0.0034089100478703954), (2049, 0.0034081962107004884), (254, 0.003407454188764414), (48, 0.0034063569950648414), (1754, 0.003405554167459567), (4263, 0.0034049950562716385), (3417, 0.003404914729509074), (2996, 0.0034021691765457824), (587, 0.0033999627974918662), (3924, 0.0033983478409151577), (3116, 0.003397173796791353), (2375, 0.00339630155480842), (1454, 0.003395596649319071), (476, 0.0033935471228533133), (3677, 0.0033934721171164717), (2739, 0.0033926357675019094), (4602, 0.003391868217280912), (4446, 0.0033913128152111916), (1479, 0.0033907056314617526), (2464, 0.0033905375058822674), (4308, 0.0033902549198190873), (1733, 0.003389691236568199), (4046, 0.0033891069997233274), (2390, 0.0033890493378806318), (3183, 0.00338532518055445), (4048, 0.0033843711208081666), (4601, 0.003383771536556223), (2624, 0.0033827561101922752), (123, 0.0033823255685852273), (3714, 0.00337909903479556), (4130, 0.0033789771885568425), (2229, 0.0033784796296089277), (318, 0.0033784789547906557), (1043, 0.0033783580923432573), (4140, 0.003377811915563412), (3497, 0.003377776016073655), (896, 0.003377225140252693), (1866, 0.003375667083182016), (4101, 0.003374200502672095), (673, 0.003373622637136766), (3813, 0.0033731326555908954), (1243, 0.0033719601888880964), (4732, 0.00337190722666453), (675, 0.0033713794028123506), (4133, 0.003370924160620231), (3749, 0.003370749999276242), (1905, 0.0033704354908171744), (4116, 0.0033704245264873896), (3044, 0.0033698613941910054), (2293, 0.00336978752079724), (4522, 0.003369026299896032), (1805, 0.00336823338197912), (342, 0.0033677450438369893), (4669, 0.003367044688052445), (4013, 0.0033658018650389704), (350, 0.0033655808992129016), (499, 0.003364365407884071), (2097, 0.0033641544870600154), (3064, 0.0033639107220217947), (481, 0.003362016647752823), (2915, 0.003361905326304538), (2748, 0.0033617342067398825), (3258, 0.0033616640112447173), (887, 0.0033614788413105167), (2214, 0.0033613052677929425), (4087, 0.0033606742949130815), (2882, 0.00335940306400221), (1997, 0.0033587961610491673), (2507, 0.0033582802265779994), (3915, 0.003357884266077322), (8, 0.0033574058583984647), (4528, 0.0033573585817864367), (2595, 0.003353119874567775), (3889, 0.0033527678241926286), (3642, 0.0033523774439104172), (1897, 0.0033519275618904077), (4722, 0.0033515005736690804), (1325, 0.003350806579191307), (2888, 0.00334880872492289), (3771, 0.0033484681550635157), (2705, 0.0033474036994573016), (3694, 0.0033457010644704606), (4545, 0.0033454733266736056), (1959, 0.0033441222668700735), (3269, 0.003344094418582601), (192, 0.0033436589942360045), (952, 0.003341862764730991), (1015, 0.003341812743461584), (1874, 0.003341008299879994), (794, 0.003340966222573599), (4734, 0.0033409453178760173), (3704, 0.0033408266567273455), (3449, 0.00334064867550567), (3271, 0.003340350316219175), (2477, 0.003340116372075717), (3893, 0.00333973258991169), (3086, 0.003339633471820664), (4024, 0.00333849290479448), (2116, 0.0033365898806418763), (3757, 0.003334829025132334), (728, 0.0033343729748041787), (2494, 0.0033330565830500987), (2190, 0.003332336898131096), (4579, 0.0033322383471704833), (210, 0.003331847935194066), (2776, 0.0033296041457729856), (1518, 0.0033295371676068403), (3692, 0.0033286231010519747), (1848, 0.0033279578754872507), (1907, 0.0033276778278950145), (4132, 0.0033276409521916087), (4161, 0.003325830102612132), (4657, 0.003324903517337912), (2475, 0.003324622245368495), (3112, 0.003324310876395104), (1359, 0.0033219623287026375), (4540, 0.0033218026979591614), (4245, 0.0033215297586134786), (791, 0.003321099966948273), (3184, 0.0033204769724648826), (3095, 0.0033190111298696495), (1798, 0.0033188242407758174), (2661, 0.0033187202015687567), (991, 0.0033184856285123315), (3496, 0.003318417076628347), (2254, 0.0033174627971588586), (1637, 0.0033161200210967043), (4269, 0.003316035962507043), (2723, 0.003315552123219622), (4371, 0.0033151676944461347), (485, 0.003312995570178172), (3781, 0.0033123880333245288), (4495, 0.0033113298838507448), (2786, 0.0033106384206386223), (1140, 0.0033101321495299573), (4574, 0.0033101225922637575), (1537, 0.003309842897452626), (872, 0.0033096160441374966), (4111, 0.0033094979226246414), (1683, 0.0033081733065662175), (1409, 0.0033073441657130156), (2260, 0.003307097952745265), (3904, 0.003306672789993844), (2725, 0.0033062408841592994), (4431, 0.003306159776321627), (21, 0.0033059932237228984), (3873, 0.00330567340412495), (4680, 0.0033054023893199854), (1712, 0.0033044885526754856), (2940, 0.0033043067555175833), (227, 0.0033039188757005176), (1141, 0.0033037873491126037), (2964, 0.0033035554150579057), (4005, 0.003303349080522151), (2949, 0.003303185144046014), (2712, 0.0033031004547630395), (3007, 0.0033026677891667975), (2391, 0.0033018751532209296), (12, 0.0033013422735725813), (1119, 0.0033006783608796214), (1071, 0.0032990940741877096), (4231, 0.003297792970642527), (1324, 0.0032977072064651735), (2609, 0.003297448523110481), (826, 0.003297045208721228), (3601, 0.003297022995009473), (2151, 0.003296105620634663), (3218, 0.0032958413857620827), (2664, 0.003295840631856065), (3235, 0.00329564336885642), (4357, 0.0032954030120612163), (2970, 0.003295192158480769), (2522, 0.0032948232666180034), (1619, 0.003294556723853075), (4355, 0.003293476568340248), (4169, 0.0032930952962500664), (3987, 0.0032926530058211734), (2105, 0.0032919781076087653), (4175, 0.0032918619165681388), (3973, 0.003291490717807188), (1572, 0.003289480901757233), (3434, 0.0032889311819367666), (3678, 0.003288852523832567), (792, 0.0032885014989338743), (74, 0.0032879104581238056), (680, 0.0032877449140871953), (246, 0.003287718279437252), (622, 0.0032849691234258546), (3297, 0.0032849308459302205), (3590, 0.0032839332537433104), (623, 0.0032834057928889326), (493, 0.003282359563431459), (612, 0.0032823146032153134), (208, 0.0032821186407114337), (2821, 0.0032819480907549593), (1951, 0.003279996020063804), (1896, 0.003279620924053074), (2565, 0.003279472576434115), (206, 0.0032793976241951217), (2361, 0.0032791425419107603), (3084, 0.003278864500916703), (4489, 0.003278812062199156), (3314, 0.003278754386660754), (68, 0.00327868205770671), (4054, 0.0032780604346521218), (1687, 0.0032778044380446284), (2418, 0.0032769571473482803), (3618, 0.0032769368262304077), (456, 0.003275389111655151), (2792, 0.0032752649737262064), (3326, 0.0032742955619518774), (1234, 0.0032736764867373515), (3483, 0.003273229825726464), (1853, 0.0032722985915756087), (2953, 0.0032722708725776402), (2714, 0.0032718322513799534), (4575, 0.0032710090801414816), (1685, 0.003270842269263172), (1484, 0.003270175025728872), (2288, 0.0032699865140241383), (2755, 0.003268978737695988), (4286, 0.0032685409939024676), (2849, 0.0032682950713297004), (4052, 0.003267332786108125), (2610, 0.003267144626725954), (3777, 0.0032663650079424273), (1918, 0.003265475554862886), (3264, 0.0032643192258604826), (4123, 0.0032642132775991335), (483, 0.0032640979775981254), (1822, 0.0032634407679083136), (3037, 0.0032632385130795666), (3406, 0.0032626157318575077), (4, 0.003261880147118737), (4033, 0.003261428405791496), (1225, 0.003261343234804138), (1893, 0.0032606778911856366), (470, 0.003260543335810893), (4420, 0.0032598252120769797), (4566, 0.003258940052232152), (2878, 0.003258839682185141), (1400, 0.0032587710799483645), (1916, 0.0032577949075062035), (2394, 0.003257511059199416), (3388, 0.0032572233923817318), (1075, 0.0032566655471782486), (783, 0.0032566278881705803), (2385, 0.003256114023610977), (4474, 0.003255088238546985), (1007, 0.003254568176060552), (3511, 0.003254213871736814), (1670, 0.0032538223156429414), (3187, 0.0032532633176814156), (178, 0.003252126633994379), (3654, 0.0032513130578021962), (3984, 0.003251235254503344), (1570, 0.003251233008527179), (830, 0.0032497531881610572), (1902, 0.0032494749002669686), (2419, 0.0032479245043968716), (262, 0.0032477029354256574), (4757, 0.0032465145843214214), (4178, 0.003246123319648918), (3242, 0.0032457380650025318), (1643, 0.0032456200709719235), (1188, 0.0032448320056883426), (1821, 0.0032441068165993685), (716, 0.0032418485714020666), (4624, 0.003241782158514442), (173, 0.0032400391706828816), (429, 0.003239962952072972), (1192, 0.0032390332329800525), (2088, 0.0032389725764739876), (564, 0.003238794690411425), (4363, 0.0032378837043587445), (255, 0.0032373011474209415), (1439, 0.0032369107965705916), (4497, 0.0032366411291147586), (845, 0.0032365023811871964), (502, 0.003236444161814626), (3437, 0.003236381127580572), (1736, 0.0032363534490717277), (3493, 0.003235731011543131), (4354, 0.0032340264638712154), (20, 0.003233588835341503), (270, 0.003233198411254492), (2926, 0.0032331245122015637), (3770, 0.0032328257102155074), (3919, 0.003231722870828111), (211, 0.0032313783026013763), (1006, 0.0032298159659815678), (204, 0.0032297597759695087), (660, 0.003229306675048663), (3862, 0.0032287357126112638), (4448, 0.0032285508401509815), (3599, 0.003227894372236553), (4083, 0.003227549695795512), (1229, 0.003227497854134688), (3514, 0.0032274089302055395), (1224, 0.0032271081002643834), (482, 0.003226805220153012), (3382, 0.003225859089438538), (879, 0.003225300578279904), (2561, 0.0032252790547286116), (3241, 0.0032252214594828145), (4629, 0.0032250117070809054), (3845, 0.0032245729445492858), (890, 0.003224219825726565), (2601, 0.0032241058801947605), (717, 0.0032239061020121183), (4419, 0.0032228801976546114), (2531, 0.003221886627646885), (23, 0.0032215944817856213), (2545, 0.003220851579858326), (2370, 0.0032208003518881764), (4136, 0.0032205077951694833), (1513, 0.0032204118696336644), (543, 0.0032198261862995004), (1983, 0.0032197316614170314), (4089, 0.003218926886250917), (3224, 0.0032186204742113153), (2546, 0.003218288802002038), (2911, 0.0032174610431610694), (34, 0.003216906749146294), (3902, 0.003216615341052034), (1083, 0.0032165649279204964), (884, 0.0032164045092697748), (4361, 0.0032163728024625924), (2405, 0.003215339762985413), (1727, 0.0032143021080894823), (3353, 0.0032140193570358326), (1048, 0.003212564502525879), (2650, 0.003211971714890486), (2319, 0.003211573247001754), (3778, 0.0032111907703093537), (551, 0.0032106445773422703), (447, 0.003210111030703794), (4625, 0.00320993309611282), (3666, 0.0032099304703378695), (4262, 0.0032095639204337742), (2016, 0.0032093528980281978), (4756, 0.0032088488926328342), (3536, 0.0032077034041487393), (3349, 0.0032073603600071892), (4025, 0.003207249394177612), (987, 0.0032065355063509893), (1124, 0.0032050920132068996), (216, 0.0032050580192905308), (4079, 0.0032047726626666627), (2148, 0.003204309106293701), (2744, 0.0032039982546430727), (2072, 0.0032034300060729804), (774, 0.0032032349090934968), (4379, 0.0032030759605928792), (3920, 0.0032021738635228695), (3959, 0.0032019663146271348), (637, 0.003201371708727793), (11, 0.0032013595924451346), (3517, 0.0032009507146879834), (2123, 0.003199888581733806), (1703, 0.0031986335600213502), (3689, 0.0031976707816697217), (1765, 0.0031974139720705864), (4340, 0.0031973874777978467), (3527, 0.003195650301655442), (4334, 0.0031952159955528766), (980, 0.003195133232942749), (4422, 0.00319473632102175), (2919, 0.0031936696010774097), (3198, 0.0031936283987643124), (606, 0.003192343408528379), (2053, 0.0031917142550816854), (1629, 0.003191179770424137), (1382, 0.0031909859838828497), (806, 0.003190342106529518), (4249, 0.003189771020698879), (3623, 0.0031891305581768364), (2988, 0.0031885162773976814), (120, 0.0031883359676303084), (2126, 0.0031882121156763445), (2863, 0.003187561969478153), (4470, 0.003187292151694013), (3636, 0.003185904618013425), (1494, 0.0031848228463662027), (1717, 0.003183892011538706), (1516, 0.003183806533471641), (3153, 0.003183424786047321), (472, 0.0031826964369136915), (2334, 0.0031819837535084516), (2048, 0.003181930134899154), (3290, 0.0031814735697579), (2668, 0.0031809123843910226), (3233, 0.003180397004849702), (4643, 0.0031800027876580776), (1860, 0.0031793314001671816), (1768, 0.0031784843907403204), (743, 0.003176786912509099), (1946, 0.0031767826405312834), (176, 0.00317663227532366), (2466, 0.0031749131458643446), (2230, 0.003174913103668195), (865, 0.0031743357379674856), (3016, 0.003173696573058856), (1294, 0.0031736297262786447), (1334, 0.003173578488095968), (2894, 0.0031724833569328017), (509, 0.003170382375355441), (4563, 0.0031700970602554063), (3701, 0.0031693511524534734), (4098, 0.0031689126813838073), (3289, 0.003168239970928482), (3225, 0.0031679948098549083), (3809, 0.0031674438784559285), (71, 0.0031671265132213002), (3445, 0.0031660805185234125), (1355, 0.0031658418563071315), (2977, 0.00316539341776818), (3000, 0.003165277322059509), (4533, 0.0031639689500728616), (3526, 0.003163799305321538), (4273, 0.003163564380169359), (3542, 0.0031630537337086094), (4189, 0.003162246907514185), (652, 0.0031621179666280488), (3571, 0.003161227860768176), (115, 0.00316111361875145), (2386, 0.0031606836806541317), (1174, 0.0031604297465534343), (2784, 0.003159855725196935), (1936, 0.003159633743793935), (1931, 0.0031586270586213875), (1077, 0.0031583051311245623), (3699, 0.0031576320953028703), (933, 0.003157264429176869), (1176, 0.003155693385476359), (969, 0.003155427987495904), (1337, 0.003154882546531957), (1182, 0.0031541560219013605), (406, 0.0031541413416482605), (593, 0.003153219649867861), (3113, 0.0031531593692301347), (238, 0.003153099722353318), (1688, 0.003152424023807225), (3606, 0.0031520880582351146), (3653, 0.0031513594055967943), (2073, 0.003150741222366619), (2489, 0.003150528909567687), (3182, 0.003149238330218191), (3283, 0.003148909563069808), (2292, 0.00314865872056958), (1122, 0.003147413236033356), (850, 0.0031472462447431062), (3707, 0.00314643253947367), (2155, 0.0031455300446592642), (1942, 0.00314526363626028), (832, 0.0031433743700257323), (2746, 0.0031433253697873797), (1087, 0.003142968017820893), (3501, 0.0031424734528325273), (2045, 0.003141814545988764), (4068, 0.0031407263859153742), (2295, 0.0031406397474610594), (3643, 0.0031406333389631755), (353, 0.0031397964953027), (2798, 0.0031393106045032237), (1440, 0.003139213685371209), (2313, 0.003138698583606355), (4049, 0.003137526580592303), (1413, 0.0031374878068113807), (544, 0.003137214324929277), (1204, 0.00313662042492578), (2430, 0.0031365540365701867), (1533, 0.0031359511954362324), (4135, 0.003135337861246464), (2091, 0.003134517362362884), (4255, 0.0031339099753171363), (579, 0.003133842242345125), (2277, 0.0031338031907843285), (2887, 0.003132484957028454), (3386, 0.003132432712878672), (1476, 0.003132093286822515), (2061, 0.003131214281956987), (2647, 0.003131147031725141), (4014, 0.0031279665953867796), (1472, 0.0031274304888447312), (1138, 0.00312725640287624), (3739, 0.003125475780842048), (2652, 0.003125385491954192), (4677, 0.0031246621209159394), (1410, 0.0031245269128957497), (4391, 0.003124251460157894), (1985, 0.00312386050334728), (864, 0.0031238474012264122), (3335, 0.003123568187277835), (4501, 0.0031233641744532466), (1335, 0.0031222706867486886), (636, 0.003122157184089522), (1722, 0.0031218570409333483), (1510, 0.0031209699986097334), (2122, 0.003120935334329556), (1922, 0.003120780404560808), (2745, 0.0031204266429209317), (3551, 0.003120187680499935), (1175, 0.0031199294392110295), (4137, 0.0031198647192385957), (1574, 0.00311972198514386), (1706, 0.0031196448833688), (2193, 0.0031196104502677693), (2396, 0.003119585724418503), (4266, 0.003119525643238029), (209, 0.003119493131775609), (2554, 0.0031187175922729737), (2144, 0.0031183548520480726), (3210, 0.0031183495647041743), (3670, 0.0031179177695716052), (4503, 0.0031178554856349447), (848, 0.003117772768449679), (3227, 0.0031171078392685393), (628, 0.003116907879959581), (2109, 0.003116306051074155), (182, 0.0031161398386048947), (1232, 0.0031153361154036513), (897, 0.0031149995931201535), (343, 0.003114932468075058), (993, 0.0031142249675705906), (2192, 0.00311329564755317), (2606, 0.003112839214443688), (3155, 0.0031126359665508787), (696, 0.003111755590941441), (2169, 0.003111471817832279), (3436, 0.0031113648528943135), (2783, 0.0031111851338420167), (104, 0.0031110050667025966), (2492, 0.0031108369396752144), (4686, 0.0031103358220354667), (4517, 0.003110188165603055), (504, 0.0031101713553619873), (2067, 0.003110075178828061), (3541, 0.003109773235053821), (2533, 0.003109337709096092), (1876, 0.003109247906899898), (4081, 0.0031085990798741074), (4604, 0.0031081869509797504), (2284, 0.003108168315205169), (2826, 0.0031079958891472377), (3125, 0.0031067583665499326), (4435, 0.0031062368091217783), (378, 0.00310472851577998), (697, 0.00310441166849522), (1191, 0.003103680672249246), (3491, 0.0031036251059243306), (3564, 0.003103482541190632), (1223, 0.0031034456975003455), (1131, 0.0031018054325621046), (172, 0.003101290966788705), (5, 0.003100686650150398), (3341, 0.003100145525888628), (4715, 0.0030994638974687883), (1488, 0.0030992610759332673), (2340, 0.0030991467681741403), (2344, 0.0030979141818476305), (4640, 0.0030972056559568405), (1385, 0.0030953763323269805), (2695, 0.0030953018742228837), (2831, 0.0030950401233742933), (1170, 0.0030949617136634333), (2354, 0.0030945704694347507), (114, 0.0030944285857626816), (749, 0.0030933467108532815), (4330, 0.0030932123117356574), (3612, 0.003092670335918824), (1304, 0.0030925155180538387), (761, 0.00309194741717738), (2558, 0.0030918953813257196), (3478, 0.003091495487078045), (2495, 0.003091214990093308), (226, 0.003091064470264988), (1179, 0.0030910595588847334), (986, 0.0030891284282204843), (1378, 0.0030888626867216977), (4427, 0.0030880185246977393), (479, 0.0030878378536275592), (3492, 0.0030876842498177436), (1163, 0.0030860395344028406), (66, 0.003085457942248514), (2212, 0.0030847864095709886), (2387, 0.0030847655273676675), (3665, 0.003084131165147526), (4320, 0.003083637213811293), (280, 0.0030834052325025077), (2195, 0.00308333681214179), (3346, 0.003083270230868386), (3174, 0.003083234828510765), (4016, 0.0030829769126022553), (109, 0.003082121680329532), (79, 0.003081848527699547), (2900, 0.0030816573639552737), (3330, 0.0030809600301370246), (2943, 0.0030803774071513092), (1021, 0.0030793799109568366), (1112, 0.0030791271578544774), (4268, 0.003079002645279312), (3673, 0.003078967930180482), (1612, 0.0030784768895165877), (3216, 0.00307640845993208), (2853, 0.0030759990392338846), (3807, 0.003075278811454223), (4511, 0.0030748287196496007), (4056, 0.003074783064525367), (689, 0.003074532220311304), (1298, 0.003074361129654931), (2999, 0.0030739581135178057), (1678, 0.0030738256313332575), (4409, 0.003073200045439501), (3299, 0.003071951994780914), (2289, 0.0030700803929033984), (2512, 0.0030693047874773786), (1102, 0.0030682404073359712), (3374, 0.0030680587781225493), (4394, 0.0030677235187170026), (1483, 0.003067509671072777), (1811, 0.003066627336507415), (4000, 0.0030664316197791443), (3441, 0.0030660966330189896), (105, 0.003066032698291041), (3477, 0.0030655091178494625), (3727, 0.0030651829803698973), (1891, 0.0030646644174553857), (2174, 0.0030643318331145075), (1634, 0.0030640388518793625), (3553, 0.0030639471852139553), (400, 0.003063103945252673), (1252, 0.0030629324403094182), (894, 0.003062447130636225), (1072, 0.0030619747656800192), (1438, 0.0030616267570722313), (3435, 0.0030614403442081133), (490, 0.0030612866527497573), (4520, 0.0030603745822385354), (348, 0.0030603118901637335), (1059, 0.0030601866092250084), (2060, 0.003060096697157512), (3565, 0.003059560681031365), (3596, 0.0030595458323109856), (3888, 0.0030588680867027437), (1831, 0.003056709376934223), (247, 0.003056709130609034), (466, 0.003056386931477318), (464, 0.0030557848120979134), (1411, 0.0030549093877065125), (2569, 0.0030547598457847935), (3381, 0.00305457357517867), (4228, 0.0030542244731637156), (3067, 0.003054055246189476), (174, 0.0030536164988154623), (3237, 0.0030534865016011467), (534, 0.003053349586124387), (61, 0.0030521697616055416), (1598, 0.0030517464013293813), (769, 0.0030510175647542733), (374, 0.0030501435064630546), (1666, 0.0030486430410853393), (1621, 0.0030476573510564214), (880, 0.0030470952105764327), (2416, 0.0030468960062109405), (867, 0.0030468014044311613), (1257, 0.0030463795254165203), (1313, 0.003046373438611882), (4668, 0.0030461540191338223), (973, 0.003045779574289722), (4487, 0.0030457697832139865), (3173, 0.0030445430207646997), (2173, 0.0030442312028279243), (2961, 0.003043009939091526), (3093, 0.003042457809251049), (2946, 0.0030424221273431876), (3906, 0.0030416408422787675), (3647, 0.0030416269383838034), (2687, 0.0030415357704228724), (1338, 0.003040620353934507), (1100, 0.003040324102521166), (4349, 0.003039895745940841), (2463, 0.003038801826399898), (2069, 0.0030374392230954265), (169, 0.0030373697371143503), (727, 0.0030373283941056797), (4685, 0.003035150600212013), (1026, 0.0030335979064220627), (4284, 0.003033325446656168), (1319, 0.0030330574968037106), (119, 0.003033030243063055), (4020, 0.0030328903556361988), (1807, 0.003032371928629455), (3046, 0.0030321223597296553), (2980, 0.0030319624849161294), (3557, 0.0030315955004603747), (3827, 0.003031132116422379), (3379, 0.0030309208513615428), (1286, 0.003030739453973718), (1084, 0.003029255473195994), (2111, 0.0030282403255755272), (98, 0.0030271617670128534), (4362, 0.0030270431523745224), (2945, 0.0030261745162530993), (1527, 0.0030255531502046164), (26, 0.003024858635490068), (2910, 0.0030247679099173496), (2087, 0.0030236931320751057), (4530, 0.0030234540646191183), (2802, 0.0030229277327475513), (870, 0.0030229144420395233), (4687, 0.0030228480904935322), (2102, 0.0030222701349029266), (3220, 0.003021420121099098), (3447, 0.0030208770096720686), (4036, 0.0030206623542864412), (4641, 0.0030200124512275352), (3069, 0.0030189931245479507), (2632, 0.003018821204309105), (2029, 0.00301820312217025), (1617, 0.0030181004390363265), (4299, 0.0030179454977204323), (3719, 0.003017465731913109), (4309, 0.00301738418235607), (3706, 0.0030170736332831), (4743, 0.0030164273197296446), (446, 0.0030157704926197645), (3412, 0.0030150827745746766), (4387, 0.0030144305428896666), (2553, 0.0030139190488842334), (799, 0.003013729673190135), (3402, 0.003012590973935646), (2279, 0.0030121806304479666), (2698, 0.003012047447098116), (1350, 0.003011379416443089), (1408, 0.0030108914317089133), (2103, 0.0030102652916992145), (127, 0.003010156575239231), (1284, 0.0030094136198895887), (693, 0.003008922714456798), (1096, 0.003007593942926646), (4395, 0.003007537339217668), (358, 0.003006690360498171), (2008, 0.0030064548811503454), (1017, 0.0030048654248688977), (2401, 0.0030045135464828723), (755, 0.0030043945816881925), (1035, 0.003003304282851778), (1967, 0.0030032918855519984), (3765, 0.003003020253044353), (4693, 0.003002983747482383), (959, 0.003002774778511409), (4576, 0.0030027033898373137), (3075, 0.003002467869121078), (1813, 0.003001361505259488), (2422, 0.0030009131978133304), (522, 0.0030009077161134903), (3370, 0.003000810502349734), (292, 0.0029994096903706185), (329, 0.002998983750016831), (4442, 0.0029986166661706494), (4183, 0.002998444175443896), (349, 0.0029983526671199133), (2461, 0.002997460694395308), (676, 0.0029971257722959323), (4381, 0.0029970770572962033), (4550, 0.002997011511021886), (4573, 0.0029969382419439664), (1245, 0.0029966895129277422), (643, 0.0029957349874890626), (1044, 0.0029947903305878026), (4673, 0.002994250839196751), (4192, 0.0029936674735888584), (1261, 0.0029931771618472904), (1030, 0.002992532789176662), (4129, 0.002992343952673145), (1481, 0.0029921369329911117), (3348, 0.0029918173323406918), (817, 0.0029916869494638083), (3890, 0.0029908896870744868), (541, 0.002990248029139102), (488, 0.0029902464582427742), (4382, 0.0029893601361472904), (4472, 0.0029883943267372125), (3028, 0.002987451782284458), (2080, 0.002986933179234884), (167, 0.0029865594584018926), (3298, 0.0029863021370800254), (4336, 0.002986111776135932), (1247, 0.002985955306348835), (2612, 0.0029857235748971343), (2268, 0.0029856955641836694), (3641, 0.002985694578958531), (4139, 0.002985314251304125), (87, 0.0029843607533454174), (4504, 0.002983750606416559), (1060, 0.0029827622244754178), (19, 0.0029827448415482194), (2467, 0.0029826731838843343), (2027, 0.0029820755375589186), (3696, 0.0029813592665430405), (3660, 0.002981229526403762), (3010, 0.0029811227360807143), (1463, 0.0029806846773892514), (1421, 0.0029803002940453098), (1597, 0.002977998885619644), (2716, 0.002977784334700958), (923, 0.0029771721255623064), (112, 0.002976281694024342), (4461, 0.0029761394847491363), (85, 0.0029740482956056888), (3917, 0.002973856458895428), (1864, 0.0029734527736017574), (646, 0.002972937479903708), (3900, 0.0029727498983002127), (3487, 0.0029723642561759922), (4658, 0.0029721025806163435), (3826, 0.002972078955385252), (396, 0.002970815105015388), (1248, 0.002970264587523112), (1117, 0.0029698532431263226), (2131, 0.0029698066563166483), (4729, 0.0029695379688972515), (620, 0.0029692658826600852), (1582, 0.0029679575008523945), (782, 0.0029665357178875725), (1020, 0.002965939665438255), (3503, 0.002964432893919022), (18, 0.0029643907605969365), (3246, 0.0029636990253669756), (1033, 0.0029632709386141565), (1446, 0.0029625695626620463), (4670, 0.002961345191393445), (3504, 0.002961096815569425), (1034, 0.0029605814844736477), (1478, 0.0029603981220761295), (2024, 0.0029603944109001822), (2367, 0.002959256712690863), (4523, 0.002957340970648172), (852, 0.0029572422815786316), (731, 0.0029572334289026197), (2752, 0.0029568573886178764), (1027, 0.002956181038242408), (52, 0.0029559102730904877), (2143, 0.0029557523093125004), (2141, 0.0029548926508793927), (4567, 0.002954660173369694), (1416, 0.0029542669020295037), (3498, 0.0029537892824070128), (4536, 0.002953586151796636), (4155, 0.002953431147707284), (3315, 0.002953242836182309), (2309, 0.0029531580451326502), (883, 0.002953146537254767), (4614, 0.0029529208435465208), (1854, 0.002951649209402634), (3214, 0.002951414943547965), (2779, 0.002951185773942241), (3268, 0.0029506179993687067), (854, 0.002950372129170556), (798, 0.002950208925391705), (1877, 0.002950027729836833), (4152, 0.002949530232655757), (2886, 0.0029494525053563644), (1744, 0.0029492185165350135), (3122, 0.0029491863694208697), (356, 0.0029488348940564495), (3978, 0.0029487257715788313), (1929, 0.0029471854029792114), (2540, 0.002946427414971034), (1001, 0.0029464259324032344), (1002, 0.002945556608326316), (3390, 0.002945534622758339), (3151, 0.002944861820667838), (3733, 0.002944351441106978), (157, 0.0029443095917568583), (2473, 0.0029442367024043632), (29, 0.0029439837163933165), (4321, 0.0029432324430367428), (2121, 0.002943144553237311), (3035, 0.002943072517135668), (3784, 0.002942582062210255), (4085, 0.002942399815481444), (1273, 0.0029422253739581853), (3691, 0.002941694527233616), (164, 0.002941675471912961), (3170, 0.002941054959425884), (3171, 0.0029407548203296673), (984, 0.002940641765558455), (4213, 0.00293966997379168), (221, 0.002939338702452204), (3036, 0.0029392080235400276), (2706, 0.002939067852412114), (2242, 0.0029384503561193484), (1375, 0.002938290453834425), (1123, 0.0029381211880453034), (1132, 0.0029380418132732527), (2068, 0.0029376371830455335), (1255, 0.0029373864615979623), (505, 0.0029368541239280783), (644, 0.0029367815676743622), (2965, 0.0029366883554489014), (4206, 0.0029365567901036374), (4428, 0.0029355279431891477), (2892, 0.0029345708154396993), (4374, 0.0029345598376666732), (1160, 0.002934333994538315), (3898, 0.002933712021977475), (2224, 0.0029335359939020745), (437, 0.0029333976532155436), (767, 0.0029325971570169423), (4345, 0.0029324139755514274), (962, 0.0029313991058214934), (2859, 0.002930951748616553), (3799, 0.002930484397977657), (2995, 0.002929959449532239), (373, 0.0029298702230998444), (911, 0.0029288254163677896), (2572, 0.0029284823401965533), (1710, 0.002928439836380419), (4246, 0.0029271148591180855), (3293, 0.002926079273467649), (2679, 0.002925376159759959), (4124, 0.0029252358223947946), (203, 0.0029251521741811763), (698, 0.002924934654582142), (2651, 0.0029249131142039734), (2598, 0.0029248853481297146), (434, 0.0029247036385679995), (2133, 0.0029240993075011655), (3646, 0.002923205108236574), (1742, 0.0029230963793653816), (408, 0.0029228581943145544), (1404, 0.0029222794328688097), (2997, 0.0029220278691368096), (4399, 0.002921679408850377), (325, 0.002921353824663177), (1759, 0.0029210218606719597), (2800, 0.002920780649496003), (818, 0.0029205490539123296), (828, 0.002920366498077434), (1032, 0.0029199313208217313), (197, 0.002919014611237693), (3819, 0.0029189472557720917), (966, 0.0029189115171925606), (3014, 0.002918451319032418), (388, 0.002918425038217228), (3194, 0.002917963805361835), (116, 0.0029177588238387987), (3954, 0.002917683388466955), (126, 0.0029168403926124278), (939, 0.002915932660996365), (3734, 0.0029158115746393564), (1036, 0.0029157322254984674), (2303, 0.0029156886843955845), (387, 0.002915637836578546), (276, 0.0029149296395047726), (3811, 0.0029143860969142645), (2972, 0.0029140305612812903), (2812, 0.002913483761552359), (1663, 0.002912406995169678), (4257, 0.0029122704655666397), (1177, 0.002912190912953837), (2348, 0.0029119291965525014), (2166, 0.002911510082449562), (2023, 0.002911238856466663), (3615, 0.0029112238654639094), (2525, 0.0029110806072224563), (31, 0.0029074554247518463), (2899, 0.002906123932190414), (742, 0.0029059914094282237), (3300, 0.002905217706255836), (236, 0.002903883526109943), (507, 0.002902820999572776), (4254, 0.002902763231907082), (1203, 0.0029026467024046237), (1041, 0.0029019021356562185), (154, 0.0029018540565426843), (1682, 0.002901100544971678), (287, 0.0029008008204582693), (3057, 0.002900133027807022), (1372, 0.0029000040259093817), (307, 0.002899800086272318), (886, 0.0028982896050943952), (903, 0.002897862294494747), (1793, 0.0028975449701246535), (3941, 0.0028970454806087295), (140, 0.0028958865171763125), (3071, 0.002895655494418172), (941, 0.0028954860336808104), (3243, 0.0028954748931510742), (734, 0.0028952691281200356), (1665, 0.00289458754772692), (279, 0.002894123800164261), (975, 0.0028941069709105304), (2496, 0.00289108231987855), (4059, 0.0028910566063783333), (1620, 0.0028907181985209614), (900, 0.002890494426329946), (2552, 0.0028903451032112003), (1206, 0.0028899668152700016), (963, 0.002889787921426533), (2099, 0.002889548544838545), (1884, 0.0028895176922520017), (2634, 0.002888634620938027), (3399, 0.0028882655574338847), (471, 0.0028870037559537488), (655, 0.002886919245668759), (4603, 0.0028837382377701827), (3452, 0.0028827497019556607), (229, 0.002882173909973308), (2862, 0.002881104072608629), (372, 0.0028804767884867783), (598, 0.002880409016650847), (944, 0.0028802778790947034), (895, 0.002880212884525215), (659, 0.002879695324846381), (3725, 0.002878539614913199), (3147, 0.0028780107994809357), (1555, 0.0028779494038425166), (213, 0.00287731666462364), (921, 0.0028771978284461352), (1107, 0.002876344621741764), (1433, 0.0028761369553040256), (2201, 0.0028758450350363403), (935, 0.002875474726617032), (4591, 0.00287525193728248), (4356, 0.002875111410439926), (838, 0.002874650690450068), (866, 0.0028739789611398462), (1558, 0.0028737820961460786), (111, 0.002871821159007305), (2446, 0.0028713606065248207), (2528, 0.00287092057635571), (3342, 0.0028707035049910803), (868, 0.0028703265821854057), (3500, 0.0028681581746341986), (2907, 0.0028671579882588952), (1641, 0.0028668007976530314), (1650, 0.0028666796867156054), (2556, 0.0028666110479833203), (589, 0.0028651021131776717), (463, 0.002865101823233851), (2129, 0.0028645922942750774), (399, 0.0028645875872146636), (3120, 0.0028621754475534555), (1052, 0.0028620326739704793), (96, 0.0028612487414354307), (1642, 0.002861215397990781), (1514, 0.0028610727760835313), (2777, 0.0028605351756313983), (766, 0.0028604761744928965), (2317, 0.002860459145796823), (3627, 0.002860413595274113), (2868, 0.002860199069547596), (744, 0.0028589641371436535), (3854, 0.002858845906447431), (1519, 0.002858792444511689), (805, 0.0028587796666137274), (4402, 0.002858602918516171), (1920, 0.0028584316413612513), (1760, 0.0028582805098827596), (1448, 0.002856557170548252), (4616, 0.002855776443813288), (136, 0.0028548556507193637), (2735, 0.0028543688881156725), (3558, 0.0028541022455774888), (3913, 0.0028540589466709903), (2399, 0.002853685057220897), (3369, 0.0028515964252940965), (3839, 0.002851490275151), (15, 0.0028514843756544017), (1477, 0.0028514622577094553), (558, 0.002850716814299408), (355, 0.0028506463560497184), (2482, 0.0028495861074722935), (324, 0.002849373756046548), (590, 0.002849312295420124), (1667, 0.0028491385066806547), (3656, 0.0028491036651618214), (1357, 0.0028489522821047684), (1543, 0.00284823314799222), (1814, 0.0028464961252429397), (2674, 0.002845792697392764), (4282, 0.0028457388929043), (4174, 0.002845464496109689), (2845, 0.0028454418030270648), (669, 0.0028445172700056285), (3389, 0.00284326589110089), (4348, 0.0028430029994156486), (907, 0.002842967117180576), (1079, 0.0028429127075048108), (3460, 0.002842784757643233), (4176, 0.0028426650272526193), (2453, 0.0028413488553519243), (121, 0.002841338799003224), (829, 0.002839930008644825), (3767, 0.0028398481092564306), (1875, 0.0028389098947368854), (3455, 0.0028385891179090145), (43, 0.0028376018233427585), (457, 0.0028373991927366743), (359, 0.0028370765523739352), (1308, 0.0028363186839678095), (524, 0.002836053079281596), (1462, 0.0028355772734914497), (183, 0.0028352508063909797), (4326, 0.0028343418995629274), (3306, 0.0028342192938772322), (2362, 0.0028338600879742257), (416, 0.0028329567330236285), (3050, 0.00283238346469941), (4277, 0.0028316649950425937), (1672, 0.0028300727711201954), (1628, 0.002828696904217466), (2920, 0.0028285957141778104), (2301, 0.0028279266651333383), (624, 0.0028277033898547626), (1782, 0.0028275097362638136), (3329, 0.0028262574460474798), (863, 0.002825877401368074), (1065, 0.002825606256942734), (4620, 0.00282464788976127), (3742, 0.002823834238070996), (4502, 0.0028235429405686478), (957, 0.00282289558948971), (1434, 0.0028225213161521224), (4359, 0.002822436401791634), (218, 0.0028223858862272454), (465, 0.0028223841906218324), (1796, 0.0028206960149581182), (4638, 0.0028200603422964604), (199, 0.002818866390303657), (1730, 0.002818473215235278), (3563, 0.0028176116816073433), (934, 0.002817518168890726), (1675, 0.0028163366016045925), (759, 0.0028147084787946562), (2728, 0.0028139556635115286), (1360, 0.0028136243911238224), (2803, 0.0028133814384656984), (2011, 0.00281109690562039), (3278, 0.00281104083402334), (3474, 0.002809134331410809), (1892, 0.0028072128522268146), (2265, 0.0028065160446299822), (1237, 0.0028063251896125346), (1538, 0.002806113312860086), (3418, 0.0028055661478487348), (4053, 0.002805193679514698), (3267, 0.0028051380400618896), (1865, 0.002804575891136051), (1216, 0.0028033586261946575), (1503, 0.002802952299048127), (608, 0.002802347388307269), (2055, 0.0028018962555315403), (968, 0.0028004298716703202), (285, 0.002799890170195869), (2402, 0.002799720441501192), (3304, 0.0027993029149798263), (1869, 0.0027990330100287402), (3705, 0.0027974381268794832), (473, 0.0027968946642981333), (3311, 0.0027965090441322946), (2931, 0.002796503385451637), (449, 0.002795977107020889), (1827, 0.0027955765429687474), (1826, 0.002795515761359764), (1964, 0.0027945724490077914), (4154, 0.002793508567094317), (2338, 0.002793104608553901), (1605, 0.002792929842202695), (1220, 0.0027902717975859083), (1719, 0.0027900521260414424), (2323, 0.0027898322202708796), (2031, 0.0027897024823479127), (563, 0.0027876599706230976), (4350, 0.0027864923111049016), (3318, 0.002786255184571187), (581, 0.0027859259626788384), (1690, 0.0027853236114656205), (4712, 0.002784931618267622), (2741, 0.002783541013779337), (981, 0.0027831957580072737), (3336, 0.0027825822148429464), (3974, 0.002782520877256889), (4074, 0.0027821223740254197), (2285, 0.0027817866587778535), (936, 0.0027816248173244858), (3986, 0.0027815917857038444), (2457, 0.0027809217692580743), (1000, 0.0027806070532121734), (4475, 0.00278001622426777), (1625, 0.0027799046614066913), (1739, 0.0027797095256908), (2248, 0.0027793136341570865), (597, 0.002779006557383132), (4143, 0.0027789167032633236), (161, 0.0027787929113282568), (800, 0.0027787307057576555), (722, 0.0027778281210085786), (2065, 0.0027774564871865717), (3108, 0.002774681184012129), (4304, 0.002774635581651816), (2591, 0.0027735402897381034), (1219, 0.0027733874122900467), (158, 0.002773080930594814), (3327, 0.002772957795061883), (885, 0.002772920458028039), (1980, 0.0027728456277018466), (1808, 0.0027725453139563036), (2191, 0.002772514110935391), (3841, 0.0027723974650425308), (4080, 0.002771914514058806), (2607, 0.0027710412550059197), (1004, 0.002770957539529221), (3801, 0.0027697587740055612), (2976, 0.0027693713882371756), (3167, 0.0027685901146716424), (4590, 0.002768249327348107), (917, 0.0027671681537608604), (3111, 0.0027669400077503814), (3795, 0.002765422846198411), (3556, 0.0027641954568750795), (594, 0.0027632251351660067), (1921, 0.0027628649886321938), (815, 0.0027619183860338632), (4205, 0.002761317172680444), (1934, 0.0027603899496144125), (732, 0.0027597711617578574), (856, 0.002759510439627941), (2163, 0.002758488684016257), (1414, 0.0027579886573582037), (1762, 0.0027579239744640787), (268, 0.0027573037402859424), (1318, 0.0027571153406078493), (2213, 0.0027568693180308043), (672, 0.002756683354159658), (1539, 0.0027566431776821394), (4141, 0.0027563918235158835), (3956, 0.0027554365314131244), (1977, 0.002752511754113527), (1392, 0.0027486402705656885), (2724, 0.0027470891402080703), (2264, 0.002746510560038671), (703, 0.002746096791424801), (3360, 0.0027460857081372273), (657, 0.00274530523699867), (1423, 0.0027436686254660504), (2587, 0.0027434724418804904), (4608, 0.0027433999266676915), (1009, 0.002742540425012817), (132, 0.0027408224167610657), (4104, 0.00274026062101797), (1830, 0.002739255645078669), (1290, 0.002738843142993753), (1954, 0.0027385235541491477), (252, 0.002738390300572224), (705, 0.0027368966130525475), (4343, 0.0027344722371366), (495, 0.0027343043643525667), (3755, 0.002732237916965868), (33, 0.002732087184002245), (2047, 0.0027318393784666857), (200, 0.002731658327755216), (712, 0.0027313094635937696), (166, 0.002730263643930517), (519, 0.002729620489544051), (1608, 0.0027288047201558686), (1553, 0.002728422138328572), (2502, 0.0027275912126383185), (4220, 0.0027272365292323004), (1199, 0.002727140651450306), (2617, 0.0027256315113327236), (808, 0.002725400873508089), (2753, 0.0027234855736350313), (1776, 0.0027226170749929364), (222, 0.0027210052594716823), (92, 0.0027206299702394092), (605, 0.002720256207258409), (4679, 0.0027179081714537516), (3, 0.0027177533036265686), (4247, 0.002717182104502196), (1616, 0.0027167710530362366), (2975, 0.002715992561236912), (4066, 0.0027149178248557643), (1186, 0.0027145146158160747), (3910, 0.0027141287578379665), (97, 0.0027129918062730194), (2237, 0.002712732062795775), (647, 0.002712475035265123), (3894, 0.002711302094012235), (249, 0.0027112195903673322), (32, 0.0027110500373510736), (4156, 0.0027099308699666575), (3403, 0.0027084904302395606), (851, 0.002708255820768994), (317, 0.002706978771539407), (3895, 0.0027062673135420444), (4432, 0.0027058971667734224), (3637, 0.0027035620244872296), (3880, 0.002697143851222176), (924, 0.0026928309920461373), (4296, 0.0026928178476308636), (4473, 0.0026924844244030225), (1943, 0.0026908481167135035), (3655, 0.0026904387704244385), (653, 0.002689759990481163), (2621, 0.00268964197581714), (4232, 0.002687617389900713), (2721, 0.0026862397923681815), (2692, 0.0026845407116629577), (2412, 0.0026843513892680793), (4429, 0.002684212924880402), (1217, 0.00268391496317424), (1465, 0.0026802578694764614), (2520, 0.0026799552657054), (1764, 0.002679738555837728), (2747, 0.0026787458778191986), (103, 0.0026776724745232448), (4748, 0.0026774367002382156), (3211, 0.002676669719198225), (242, 0.0026766224402219076), (2942, 0.0026751337222697055), (733, 0.0026748395445098175), (147, 0.0026746381636336756), (1397, 0.00267341020016655), (165, 0.002672472317335344), (2270, 0.002671101091764844), (642, 0.0026703157224433386), (357, 0.002667761379648166), (1828, 0.0026675289151229954), (4386, 0.0026662752019016335), (874, 0.0026660245051384627), (1370, 0.002665625072634269), (1450, 0.0026641199517389177), (861, 0.002662158436525239), (3238, 0.0026604813951726985), (2761, 0.002660352298058617), (2527, 0.0026589155352575813), (3393, 0.002658847490736241), (286, 0.002652864610488812), (269, 0.002652706016367293), (4627, 0.00265269862343862), (2611, 0.0026522194432537396), (2447, 0.002651489232380411), (2743, 0.0026505281410580004), (251, 0.002649720549002196), (4411, 0.002648483058185838), (2382, 0.0026482388404576295), (1763, 0.002647383288627635), (1833, 0.002647203978675762), (445, 0.002646529088565729), (1215, 0.0026462007871546206), (4476, 0.0026453920115381926), (60, 0.0026445431831431544), (2070, 0.002644292445738767), (1088, 0.0026427268574284028), (4344, 0.0026426505453738666), (1627, 0.0026426285450358916), (1565, 0.002642487939835792), (2146, 0.002641967917863094), (2981, 0.00264088951673816), (3376, 0.0026399083431050433), (3579, 0.0026388319472999376), (190, 0.002638157006175536), (1691, 0.0026378383814282514), (1743, 0.0026314430320194156), (432, 0.0026299826323306335), (3200, 0.0026267395912436013), (1352, 0.0026260274305681384), (3065, 0.0026258948659273747), (3344, 0.0026254850643768145), (1340, 0.002625425921096641), (2933, 0.0026253958455655572), (4095, 0.0026236135847043803), (2771, 0.0026232186340829013), (3855, 0.0026231664384122975), (1202, 0.0026222702434116375), (1971, 0.0026203397490823137), (403, 0.002620316428371762), (626, 0.0026198963614523234), (3669, 0.002619892658494049), (267, 0.002619858310311054), (2035, 0.0026189669002997457), (3668, 0.0026167002549090292), (1356, 0.0026165991107057526), (1845, 0.0026143049247826806), (3634, 0.0026138372090564275), (1365, 0.002610584370445892), (175, 0.002610466223540375), (617, 0.0026101135183074177), (951, 0.0026097973298498172), (1312, 0.0026088998402229646), (3657, 0.002608860602577779), (2076, 0.002607358560903779), (4636, 0.0026070497541871573), (547, 0.0026064627041686357), (2039, 0.0026004571557780454), (707, 0.00260025555109308), (2157, 0.002599514985117863), (2603, 0.002596474263290834), (1801, 0.002596265012031628), (2127, 0.002595285390803615), (3347, 0.002594729037683807), (4610, 0.002594585465940113), (566, 0.0025936380123254403), (3821, 0.002592661131133909), (2211, 0.0025904028575680486), (3091, 0.002587620270147591), (2132, 0.0025827286288717523), (2876, 0.0025819620674228344), (1042, 0.002581961316600077), (1367, 0.0025816750837449618), (2359, 0.0025803267604842988), (4733, 0.0025794988102813493), (2287, 0.0025791969267859116), (2985, 0.002578646284210231), (2355, 0.0025773598363218607), (3331, 0.002577035929215272), (16, 0.0025767170107444796), (616, 0.0025762731128120744), (1209, 0.0025762149092220005), (3252, 0.002575998934532712), (1078, 0.002574538271787513), (2481, 0.002574485975574802), (44, 0.0025734419700259034), (3430, 0.002573256272883615), (3927, 0.002573196451870098), (2221, 0.002570076462612165), (796, 0.002566620021202695), (2602, 0.0025651609430695672), (2969, 0.0025640450845432847), (442, 0.0025633784759406635), (3056, 0.0025610655861328106), (142, 0.0025577708920888308), (3024, 0.0025573733600375128), (25, 0.002557275996925401), (2563, 0.0025568058916217162), (4200, 0.0025560082809766805), (1571, 0.0025559286691030003), (1305, 0.002555769778499306), (441, 0.002554696928837914), (2844, 0.002553290765722251), (149, 0.0025529085012701894), (4015, 0.0025501808469089657), (2034, 0.002546993990658248), (843, 0.0025423445527002868), (3548, 0.0025422797194387765), (113, 0.0025422195678141066), (1241, 0.00254144297590753), (3751, 0.0025409696388453327), (2509, 0.0025405132850200556), (1427, 0.002534212872494951), (1415, 0.002532882340047768), (1464, 0.0025323691575120117), (3317, 0.0025320949871874485), (2697, 0.0025308765832695746), (1369, 0.0025302912891404924), (2526, 0.002529430940561929), (433, 0.002528818596999964), (3756, 0.0025287777631976278), (3254, 0.00252773895820694), (412, 0.002525665545955769), (1950, 0.0025251787763921245), (645, 0.002524947440111328), (3313, 0.002523967655462121), (1098, 0.0025209271507422807), (816, 0.0025161949883111116), (1624, 0.0025156912174570767), (1037, 0.00251481300312953), (942, 0.002513276473592505), (3875, 0.0025127761993158624), (4311, 0.002511667364722182), (156, 0.002511392000219621), (4744, 0.0025061280465873844), (1317, 0.0025048043645994624), (4626, 0.0024994428765334207), (691, 0.002498605883946025), (1377, 0.0024938089814066826), (1303, 0.0024925377195428463), (953, 0.0024891296745752946), (3410, 0.0024877466953236674), (2908, 0.0024843358076675017), (719, 0.0024836357307720046), (1989, 0.0024830425546680662), (4674, 0.0024829871984499282), (3431, 0.002482556675461102), (2925, 0.002482143778205788), (407, 0.0024805066840169164), (194, 0.0024803760204952815), (757, 0.002469434816842382), (3538, 0.0024650501481251366), (1144, 0.0024647411024442374), (2000, 0.0024635708305542816), (1871, 0.0024605641347100935), (63, 0.0024604125073423816), (309, 0.002458884335370002), (3471, 0.002458053760878868), (1886, 0.0024571818370502756), (706, 0.0024554630852702264), (3362, 0.0024480089702771345), (527, 0.002447422608461501), (2010, 0.002441392971884973), (2917, 0.002435033395916091), (1677, 0.002432193417008758), (3301, 0.002420893815419077), (2469, 0.002420447010222738), (159, 0.0024195537134657713), (1040, 0.002414585077959969), (1417, 0.0024131998551638295), (3152, 0.0024124446498869157), (2767, 0.002411894518987557), (1747, 0.002405877397192769), (3199, 0.0023940263950604835), (853, 0.002390267694528837), (571, 0.0023835855508128607), (607, 0.002382189733785304), (106, 0.0023797810668328115), (266, 0.0023786909578353763), (1403, 0.0023752346065792533), (2474, 0.002371842326232033), (3626, 0.0023718136421009414), (271, 0.002369252933925977), (224, 0.0023652943434184378), (453, 0.0023639598050970456), (4652, 0.0023629882101882083), (1005, 0.0023629709684561467), (351, 0.00235861478593184), (82, 0.002345986203768519), (4182, 0.002345460571410719), (562, 0.002345357500197992), (1861, 0.002343320437552436), (228, 0.002341350139348063), (3645, 0.002330189271702589), (452, 0.0023284114319565645), (3285, 0.0023241029882642757), (2636, 0.002320976060628548), (4445, 0.0023208098911647866), (296, 0.0023170044778829963), (3983, 0.0023160384306744933), (1277, 0.0023118305787037815), (2550, 0.0023117517864571775), (1648, 0.0023086872584324016), (4301, 0.0022936423569846517), (1471, 0.002292526721954273), (1351, 0.0022798862197822285), (2902, 0.00227370596779978), (684, 0.0022684912488789163), (283, 0.002262358055266104), (1306, 0.0022536492817775947), (929, 0.0022300904903447675), (7, 0.002220808473667497), (4752, 0.0022144538008017456), (641, 0.002213809007100239), (108, 0.002199502582611465), (293, 0.002198131474813089), (455, 0.002193726297878344), (4171, 0.0021848776728369615), (831, 0.0021824592521369024), (3365, 0.0021801291633634476), (243, 0.0021765020110360296), (940, 0.002163598612208544), (1919, 0.0021607633183370564), (129, 0.002158785287727369), (824, 0.0021528113169039425), (3421, 0.002138795941066822), (330, 0.002136093297524525), (3458, 0.00211799364572085), (1506, 0.002117091472359077), (1509, 0.002111946955371931), (858, 0.0020873657239666708), (740, 0.0020738964365498718), (3392, 0.002054139987969612), (3328, 0.002031992633561804), (2443, 0.0020303153768140617), (202, 0.0020285495452276397), (24, 0.0020191342150680733), (1780, 0.0020166921680429863), (3608, 0.002013639763646989), (787, 0.0018909734298475974), (3835, 0.0018619155113312985), (2538, 0.0018497322376510978), (2841, 0.0017267717278034941), (475, 0.0010807522652922156), (0, 0.0), (1, 0.0), (2, 0.0), (6, 0.0), (9, 0.0), (10, 0.0), (13, 0.0), (14, 0.0), (17, 0.0), (27, 0.0), (28, 0.0), (30, 0.0), (38, 0.0), (39, 0.0), (40, 0.0), (45, 0.0), (46, 0.0), (49, 0.0), (50, 0.0), (53, 0.0), (54, 0.0), (55, 0.0), (56, 0.0), (57, 0.0), (58, 0.0), (59, 0.0), (64, 0.0), (65, 0.0), (67, 0.0), (69, 0.0), (70, 0.0), (75, 0.0), (76, 0.0), (78, 0.0), (80, 0.0), (81, 0.0), (83, 0.0), (84, 0.0), (86, 0.0), (88, 0.0), (89, 0.0), (91, 0.0), (99, 0.0), (100, 0.0), (101, 0.0), (102, 0.0), (110, 0.0), (117, 0.0), (118, 0.0), (122, 0.0), (125, 0.0), (128, 0.0), (130, 0.0), (131, 0.0), (133, 0.0), (134, 0.0), (137, 0.0), (138, 0.0), (139, 0.0), (141, 0.0), (143, 0.0), (144, 0.0), (145, 0.0), (146, 0.0), (148, 0.0), (150, 0.0), (151, 0.0), (152, 0.0), (153, 0.0), (155, 0.0), (160, 0.0), (162, 0.0), (163, 0.0), (168, 0.0), (170, 0.0), (171, 0.0), (177, 0.0), (179, 0.0), (181, 0.0), (185, 0.0), (186, 0.0), (187, 0.0), (188, 0.0), (191, 0.0), (201, 0.0), (205, 0.0), (207, 0.0), (214, 0.0), (217, 0.0), (219, 0.0), (220, 0.0), (223, 0.0), (225, 0.0), (230, 0.0), (231, 0.0), (232, 0.0), (233, 0.0), (234, 0.0), (237, 0.0), (239, 0.0), (240, 0.0), (241, 0.0), (244, 0.0), (245, 0.0), (248, 0.0), (257, 0.0), (259, 0.0), (260, 0.0), (261, 0.0), (265, 0.0), (272, 0.0), (273, 0.0), (275, 0.0), (277, 0.0), (284, 0.0), (288, 0.0), (289, 0.0), (290, 0.0), (291, 0.0), (294, 0.0), (295, 0.0), (297, 0.0), (298, 0.0), (299, 0.0), (300, 0.0), (301, 0.0), (302, 0.0), (303, 0.0), (304, 0.0), (305, 0.0), (306, 0.0), (310, 0.0), (311, 0.0), (312, 0.0), (313, 0.0), (314, 0.0), (315, 0.0), (316, 0.0), (319, 0.0), (322, 0.0), (323, 0.0), (328, 0.0), (331, 0.0), (332, 0.0), (333, 0.0), (334, 0.0), (335, 0.0), (337, 0.0), (338, 0.0), (339, 0.0), (340, 0.0), (341, 0.0), (344, 0.0), (345, 0.0), (347, 0.0), (352, 0.0), (354, 0.0), (360, 0.0), (361, 0.0), (362, 0.0), (363, 0.0), (366, 0.0), (367, 0.0), (368, 0.0), (369, 0.0), (375, 0.0), (376, 0.0), (379, 0.0), (380, 0.0), (381, 0.0), (382, 0.0), (383, 0.0), (384, 0.0), (385, 0.0), (386, 0.0), (389, 0.0), (390, 0.0), (391, 0.0), (392, 0.0), (393, 0.0), (394, 0.0), (397, 0.0), (398, 0.0), (401, 0.0), (404, 0.0), (405, 0.0), (409, 0.0), (411, 0.0), (413, 0.0), (414, 0.0), (415, 0.0), (417, 0.0), (418, 0.0), (420, 0.0), (421, 0.0), (422, 0.0), (423, 0.0), (424, 0.0), (425, 0.0), (427, 0.0), (435, 0.0), (438, 0.0), (439, 0.0), (440, 0.0), (451, 0.0), (454, 0.0), (459, 0.0), (460, 0.0), (461, 0.0), (462, 0.0), (467, 0.0), (468, 0.0), (469, 0.0), (474, 0.0), (477, 0.0), (484, 0.0), (486, 0.0), (491, 0.0), (494, 0.0), (497, 0.0), (498, 0.0), (500, 0.0), (501, 0.0), (506, 0.0), (512, 0.0), (514, 0.0), (516, 0.0), (517, 0.0), (521, 0.0), (523, 0.0), (525, 0.0), (529, 0.0), (530, 0.0), (531, 0.0), (535, 0.0), (536, 0.0), (537, 0.0), (539, 0.0), (540, 0.0), (545, 0.0), (546, 0.0), (549, 0.0), (552, 0.0), (553, 0.0), (554, 0.0), (555, 0.0), (556, 0.0), (557, 0.0), (559, 0.0), (560, 0.0), (561, 0.0), (565, 0.0), (567, 0.0), (568, 0.0), (569, 0.0), (570, 0.0), (573, 0.0), (574, 0.0), (575, 0.0), (577, 0.0), (582, 0.0), (583, 0.0), (585, 0.0), (586, 0.0), (591, 0.0), (592, 0.0), (595, 0.0), (599, 0.0), (600, 0.0), (601, 0.0), (602, 0.0), (603, 0.0), (610, 0.0), (613, 0.0), (618, 0.0), (619, 0.0), (621, 0.0), (625, 0.0), (629, 0.0), (630, 0.0), (632, 0.0), (633, 0.0), (634, 0.0), (635, 0.0), (639, 0.0), (640, 0.0), (648, 0.0), (649, 0.0), (650, 0.0), (654, 0.0), (656, 0.0), (658, 0.0), (661, 0.0), (662, 0.0), (663, 0.0), (665, 0.0), (666, 0.0), (667, 0.0), (668, 0.0), (671, 0.0), (674, 0.0), (677, 0.0), (678, 0.0), (679, 0.0), (681, 0.0), (682, 0.0), (685, 0.0), (686, 0.0), (687, 0.0), (690, 0.0), (692, 0.0), (695, 0.0), (699, 0.0), (700, 0.0), (702, 0.0), (704, 0.0), (708, 0.0), (710, 0.0), (711, 0.0), (713, 0.0), (718, 0.0), (720, 0.0), (723, 0.0), (724, 0.0), (726, 0.0), (730, 0.0), (738, 0.0), (741, 0.0), (745, 0.0), (746, 0.0), (748, 0.0), (751, 0.0), (752, 0.0), (753, 0.0), (754, 0.0), (756, 0.0), (758, 0.0), (760, 0.0), (762, 0.0), (763, 0.0), (764, 0.0), (765, 0.0), (768, 0.0), (770, 0.0), (771, 0.0), (772, 0.0), (773, 0.0), (775, 0.0), (776, 0.0), (778, 0.0), (779, 0.0), (780, 0.0), (781, 0.0), (784, 0.0), (785, 0.0), (786, 0.0), (789, 0.0), (793, 0.0), (795, 0.0), (797, 0.0), (801, 0.0), (802, 0.0), (803, 0.0), (807, 0.0), (810, 0.0), (811, 0.0), (819, 0.0), (821, 0.0), (822, 0.0), (825, 0.0), (827, 0.0), (833, 0.0), (834, 0.0), (835, 0.0), (836, 0.0), (837, 0.0), (839, 0.0), (840, 0.0), (841, 0.0), (842, 0.0), (846, 0.0), (849, 0.0), (855, 0.0), (859, 0.0), (862, 0.0), (869, 0.0), (873, 0.0), (881, 0.0), (882, 0.0), (891, 0.0), (892, 0.0), (893, 0.0), (898, 0.0), (902, 0.0), (904, 0.0), (905, 0.0), (906, 0.0), (908, 0.0), (909, 0.0), (912, 0.0), (913, 0.0), (914, 0.0), (916, 0.0), (918, 0.0), (920, 0.0), (927, 0.0), (928, 0.0), (931, 0.0), (938, 0.0), (943, 0.0), (945, 0.0), (946, 0.0), (948, 0.0), (950, 0.0), (954, 0.0), (955, 0.0), (956, 0.0), (958, 0.0), (960, 0.0), (961, 0.0), (964, 0.0), (965, 0.0), (970, 0.0), (971, 0.0), (972, 0.0), (974, 0.0), (976, 0.0), (977, 0.0), (978, 0.0), (979, 0.0), (982, 0.0), (990, 0.0), (992, 0.0), (995, 0.0), (996, 0.0), (1003, 0.0), (1008, 0.0), (1010, 0.0), (1011, 0.0), (1012, 0.0), (1013, 0.0), (1014, 0.0), (1016, 0.0), (1018, 0.0), (1022, 0.0), (1024, 0.0), (1025, 0.0), (1028, 0.0), (1029, 0.0), (1031, 0.0), (1038, 0.0), (1039, 0.0), (1045, 0.0), (1046, 0.0), (1047, 0.0), (1051, 0.0), (1054, 0.0), (1055, 0.0), (1056, 0.0), (1058, 0.0), (1061, 0.0), (1062, 0.0), (1063, 0.0), (1067, 0.0), (1069, 0.0), (1070, 0.0), (1073, 0.0), (1074, 0.0), (1076, 0.0), (1081, 0.0), (1082, 0.0), (1085, 0.0), (1086, 0.0), (1089, 0.0), (1090, 0.0), (1091, 0.0), (1092, 0.0), (1093, 0.0), (1094, 0.0), (1095, 0.0), (1099, 0.0), (1101, 0.0), (1103, 0.0), (1104, 0.0), (1105, 0.0), (1106, 0.0), (1108, 0.0), (1111, 0.0), (1113, 0.0), (1115, 0.0), (1116, 0.0), (1118, 0.0), (1120, 0.0), (1126, 0.0), (1127, 0.0), (1128, 0.0), (1129, 0.0), (1130, 0.0), (1133, 0.0), (1134, 0.0), (1135, 0.0), (1139, 0.0), (1142, 0.0), (1143, 0.0), (1146, 0.0), (1147, 0.0), (1149, 0.0), (1150, 0.0), (1151, 0.0), (1152, 0.0), (1153, 0.0), (1154, 0.0), (1156, 0.0), (1157, 0.0), (1158, 0.0), (1159, 0.0), (1162, 0.0), (1164, 0.0), (1165, 0.0), (1166, 0.0), (1171, 0.0), (1172, 0.0), (1173, 0.0), (1178, 0.0), (1180, 0.0), (1181, 0.0), (1185, 0.0), (1189, 0.0), (1190, 0.0), (1193, 0.0), (1194, 0.0), (1196, 0.0), (1198, 0.0), (1200, 0.0), (1201, 0.0), (1205, 0.0), (1207, 0.0), (1210, 0.0), (1211, 0.0), (1212, 0.0), (1213, 0.0), (1214, 0.0), (1218, 0.0), (1221, 0.0), (1226, 0.0), (1227, 0.0), (1228, 0.0), (1230, 0.0), (1231, 0.0), (1233, 0.0), (1235, 0.0), (1236, 0.0), (1238, 0.0), (1239, 0.0), (1240, 0.0), (1244, 0.0), (1246, 0.0), (1249, 0.0), (1250, 0.0), (1253, 0.0), (1256, 0.0), (1258, 0.0), (1259, 0.0), (1260, 0.0), (1262, 0.0), (1265, 0.0), (1266, 0.0), (1268, 0.0), (1269, 0.0), (1270, 0.0), (1271, 0.0), (1272, 0.0), (1276, 0.0), (1278, 0.0), (1279, 0.0), (1280, 0.0), (1281, 0.0), (1282, 0.0), (1287, 0.0), (1288, 0.0), (1289, 0.0), (1291, 0.0), (1292, 0.0), (1293, 0.0), (1295, 0.0), (1296, 0.0), (1297, 0.0), (1299, 0.0), (1300, 0.0), (1302, 0.0), (1307, 0.0), (1309, 0.0), (1310, 0.0), (1311, 0.0), (1314, 0.0), (1315, 0.0), (1316, 0.0), (1320, 0.0), (1321, 0.0), (1322, 0.0), (1323, 0.0), (1326, 0.0), (1327, 0.0), (1328, 0.0), (1329, 0.0), (1330, 0.0), (1331, 0.0), (1332, 0.0), (1333, 0.0), (1336, 0.0), (1341, 0.0), (1342, 0.0), (1343, 0.0), (1344, 0.0), (1345, 0.0), (1346, 0.0), (1347, 0.0), (1348, 0.0), (1353, 0.0), (1354, 0.0), (1361, 0.0), (1362, 0.0), (1363, 0.0), (1368, 0.0), (1371, 0.0), (1373, 0.0), (1376, 0.0), (1379, 0.0), (1381, 0.0), (1384, 0.0), (1386, 0.0), (1388, 0.0), (1390, 0.0), (1393, 0.0), (1395, 0.0), (1396, 0.0), (1399, 0.0), (1401, 0.0), (1406, 0.0), (1412, 0.0), (1418, 0.0), (1419, 0.0), (1420, 0.0), (1424, 0.0), (1425, 0.0), (1426, 0.0), (1428, 0.0), (1430, 0.0), (1431, 0.0), (1432, 0.0), (1435, 0.0), (1436, 0.0), (1437, 0.0), (1441, 0.0), (1443, 0.0), (1444, 0.0), (1447, 0.0), (1449, 0.0), (1451, 0.0), (1452, 0.0), (1453, 0.0), (1455, 0.0), (1458, 0.0), (1459, 0.0), (1460, 0.0), (1461, 0.0), (1467, 0.0), (1468, 0.0), (1469, 0.0), (1473, 0.0), (1480, 0.0), (1482, 0.0), (1485, 0.0), (1486, 0.0), (1487, 0.0), (1490, 0.0), (1491, 0.0), (1492, 0.0), (1495, 0.0), (1496, 0.0), (1501, 0.0), (1502, 0.0), (1504, 0.0), (1505, 0.0), (1507, 0.0), (1508, 0.0), (1511, 0.0), (1512, 0.0), (1515, 0.0), (1517, 0.0), (1520, 0.0), (1521, 0.0), (1522, 0.0), (1523, 0.0), (1524, 0.0), (1525, 0.0), (1526, 0.0), (1530, 0.0), (1531, 0.0), (1532, 0.0), (1534, 0.0), (1535, 0.0), (1536, 0.0), (1540, 0.0), (1541, 0.0), (1544, 0.0), (1545, 0.0), (1546, 0.0), (1548, 0.0), (1549, 0.0), (1551, 0.0), (1552, 0.0), (1554, 0.0), (1556, 0.0), (1557, 0.0), (1559, 0.0), (1560, 0.0), (1561, 0.0), (1562, 0.0), (1563, 0.0), (1564, 0.0), (1566, 0.0), (1567, 0.0), (1568, 0.0), (1569, 0.0), (1573, 0.0), (1576, 0.0), (1577, 0.0), (1579, 0.0), (1581, 0.0), (1583, 0.0), (1584, 0.0), (1585, 0.0), (1586, 0.0), (1587, 0.0), (1588, 0.0), (1590, 0.0), (1591, 0.0), (1592, 0.0), (1596, 0.0), (1599, 0.0), (1600, 0.0), (1601, 0.0), (1602, 0.0), (1603, 0.0), (1604, 0.0), (1607, 0.0), (1610, 0.0), (1611, 0.0), (1613, 0.0), (1615, 0.0), (1623, 0.0), (1626, 0.0), (1630, 0.0), (1631, 0.0), (1632, 0.0), (1633, 0.0), (1635, 0.0), (1638, 0.0), (1639, 0.0), (1640, 0.0), (1644, 0.0), (1646, 0.0), (1649, 0.0), (1651, 0.0), (1652, 0.0), (1654, 0.0), (1657, 0.0), (1659, 0.0), (1661, 0.0), (1662, 0.0), (1664, 0.0), (1669, 0.0), (1673, 0.0), (1674, 0.0), (1676, 0.0), (1679, 0.0), (1681, 0.0), (1684, 0.0), (1686, 0.0), (1689, 0.0), (1692, 0.0), (1694, 0.0), (1695, 0.0), (1696, 0.0), (1697, 0.0), (1698, 0.0), (1699, 0.0), (1700, 0.0), (1701, 0.0), (1702, 0.0), (1704, 0.0), (1705, 0.0), (1709, 0.0), (1713, 0.0), (1714, 0.0), (1715, 0.0), (1718, 0.0), (1720, 0.0), (1721, 0.0), (1724, 0.0), (1725, 0.0), (1726, 0.0), (1728, 0.0), (1729, 0.0), (1731, 0.0), (1734, 0.0), (1735, 0.0), (1737, 0.0), (1738, 0.0), (1741, 0.0), (1745, 0.0), (1746, 0.0), (1751, 0.0), (1752, 0.0), (1753, 0.0), (1755, 0.0), (1756, 0.0), (1757, 0.0), (1758, 0.0), (1761, 0.0), (1766, 0.0), (1767, 0.0), (1769, 0.0), (1770, 0.0), (1771, 0.0), (1775, 0.0), (1778, 0.0), (1781, 0.0), (1783, 0.0), (1784, 0.0), (1785, 0.0), (1787, 0.0), (1788, 0.0), (1789, 0.0), (1790, 0.0), (1791, 0.0), (1794, 0.0), (1797, 0.0), (1799, 0.0), (1800, 0.0), (1802, 0.0), (1803, 0.0), (1804, 0.0), (1806, 0.0), (1809, 0.0), (1810, 0.0), (1812, 0.0), (1815, 0.0), (1816, 0.0), (1817, 0.0), (1818, 0.0), (1820, 0.0), (1823, 0.0), (1824, 0.0), (1825, 0.0), (1829, 0.0), (1832, 0.0), (1834, 0.0), (1835, 0.0), (1836, 0.0), (1837, 0.0), (1838, 0.0), (1839, 0.0), (1840, 0.0), (1841, 0.0), (1842, 0.0), (1846, 0.0), (1847, 0.0), (1849, 0.0), (1850, 0.0), (1852, 0.0), (1855, 0.0), (1856, 0.0), (1859, 0.0), (1863, 0.0), (1868, 0.0), (1870, 0.0), (1873, 0.0), (1879, 0.0), (1880, 0.0), (1881, 0.0), (1883, 0.0), (1888, 0.0), (1889, 0.0), (1894, 0.0), (1895, 0.0), (1898, 0.0), (1899, 0.0), (1900, 0.0), (1901, 0.0), (1903, 0.0), (1904, 0.0), (1906, 0.0), (1910, 0.0), (1911, 0.0), (1912, 0.0), (1914, 0.0), (1915, 0.0), (1917, 0.0), (1925, 0.0), (1926, 0.0), (1928, 0.0), (1930, 0.0), (1932, 0.0), (1933, 0.0), (1935, 0.0), (1937, 0.0), (1940, 0.0), (1941, 0.0), (1944, 0.0), (1945, 0.0), (1948, 0.0), (1949, 0.0), (1952, 0.0), (1953, 0.0), (1955, 0.0), (1956, 0.0), (1957, 0.0), (1958, 0.0), (1961, 0.0), (1962, 0.0), (1965, 0.0), (1966, 0.0), (1970, 0.0), (1972, 0.0), (1973, 0.0), (1975, 0.0), (1976, 0.0), (1978, 0.0), (1979, 0.0), (1981, 0.0), (1982, 0.0), (1984, 0.0), (1986, 0.0), (1987, 0.0), (1988, 0.0), (1990, 0.0), (1992, 0.0), (1993, 0.0), (1994, 0.0), (1996, 0.0), (1999, 0.0), (2001, 0.0), (2002, 0.0), (2003, 0.0), (2005, 0.0), (2006, 0.0), (2007, 0.0), (2009, 0.0), (2012, 0.0), (2013, 0.0), (2014, 0.0), (2015, 0.0), (2017, 0.0), (2018, 0.0), (2019, 0.0), (2020, 0.0), (2022, 0.0), (2025, 0.0), (2030, 0.0), (2032, 0.0), (2033, 0.0), (2036, 0.0), (2038, 0.0), (2041, 0.0), (2042, 0.0), (2043, 0.0), (2044, 0.0), (2046, 0.0), (2050, 0.0), (2052, 0.0), (2054, 0.0), (2056, 0.0), (2057, 0.0), (2058, 0.0), (2059, 0.0), (2062, 0.0), (2063, 0.0), (2064, 0.0), (2066, 0.0), (2071, 0.0), (2074, 0.0), (2077, 0.0), (2078, 0.0), (2079, 0.0), (2081, 0.0), (2082, 0.0), (2084, 0.0), (2085, 0.0), (2086, 0.0), (2090, 0.0), (2092, 0.0), (2093, 0.0), (2094, 0.0), (2095, 0.0), (2098, 0.0), (2100, 0.0), (2101, 0.0), (2106, 0.0), (2107, 0.0), (2110, 0.0), (2113, 0.0), (2114, 0.0), (2115, 0.0), (2118, 0.0), (2119, 0.0), (2120, 0.0), (2124, 0.0), (2125, 0.0), (2128, 0.0), (2130, 0.0), (2136, 0.0), (2138, 0.0), (2139, 0.0), (2140, 0.0), (2147, 0.0), (2150, 0.0), (2152, 0.0), (2153, 0.0), (2156, 0.0), (2158, 0.0), (2160, 0.0), (2161, 0.0), (2164, 0.0), (2165, 0.0), (2167, 0.0), (2168, 0.0), (2170, 0.0), (2171, 0.0), (2172, 0.0), (2175, 0.0), (2177, 0.0), (2178, 0.0), (2179, 0.0), (2181, 0.0), (2182, 0.0), (2183, 0.0), (2184, 0.0), (2185, 0.0), (2186, 0.0), (2194, 0.0), (2197, 0.0), (2198, 0.0), (2200, 0.0), (2202, 0.0), (2203, 0.0), (2204, 0.0), (2205, 0.0), (2206, 0.0), (2207, 0.0), (2208, 0.0), (2215, 0.0), (2217, 0.0), (2218, 0.0), (2219, 0.0), (2220, 0.0), (2222, 0.0), (2225, 0.0), (2227, 0.0), (2228, 0.0), (2232, 0.0), (2233, 0.0), (2234, 0.0), (2235, 0.0), (2238, 0.0), (2239, 0.0), (2243, 0.0), (2244, 0.0), (2245, 0.0), (2246, 0.0), (2247, 0.0), (2249, 0.0), (2252, 0.0), (2253, 0.0), (2256, 0.0), (2258, 0.0), (2259, 0.0), (2261, 0.0), (2262, 0.0), (2263, 0.0), (2267, 0.0), (2271, 0.0), (2272, 0.0), (2273, 0.0), (2274, 0.0), (2275, 0.0), (2276, 0.0), (2278, 0.0), (2281, 0.0), (2282, 0.0), (2283, 0.0), (2290, 0.0), (2291, 0.0), (2294, 0.0), (2296, 0.0), (2297, 0.0), (2298, 0.0), (2300, 0.0), (2304, 0.0), (2305, 0.0), (2307, 0.0), (2308, 0.0), (2312, 0.0), (2314, 0.0), (2315, 0.0), (2316, 0.0), (2318, 0.0), (2322, 0.0), (2325, 0.0), (2326, 0.0), (2328, 0.0), (2329, 0.0), (2330, 0.0), (2331, 0.0), (2332, 0.0), (2333, 0.0), (2335, 0.0), (2336, 0.0), (2337, 0.0), (2339, 0.0), (2341, 0.0), (2342, 0.0), (2343, 0.0), (2345, 0.0), (2351, 0.0), (2352, 0.0), (2353, 0.0), (2357, 0.0), (2358, 0.0), (2360, 0.0), (2363, 0.0), (2364, 0.0), (2368, 0.0), (2369, 0.0), (2371, 0.0), (2372, 0.0), (2373, 0.0), (2376, 0.0), (2377, 0.0), (2380, 0.0), (2381, 0.0), (2383, 0.0), (2384, 0.0), (2395, 0.0), (2398, 0.0), (2408, 0.0), (2413, 0.0), (2414, 0.0), (2420, 0.0), (2424, 0.0), (2426, 0.0), (2429, 0.0), (2431, 0.0), (2433, 0.0), (2435, 0.0), (2439, 0.0), (2442, 0.0), (2444, 0.0), (2445, 0.0), (2449, 0.0), (2450, 0.0), (2451, 0.0), (2452, 0.0), (2455, 0.0), (2456, 0.0), (2458, 0.0), (2460, 0.0), (2462, 0.0), (2465, 0.0), (2468, 0.0), (2470, 0.0), (2471, 0.0), (2472, 0.0), (2476, 0.0), (2479, 0.0), (2480, 0.0), (2483, 0.0), (2485, 0.0), (2486, 0.0), (2487, 0.0), (2491, 0.0), (2493, 0.0), (2497, 0.0), (2498, 0.0), (2499, 0.0), (2500, 0.0), (2501, 0.0), (2503, 0.0), (2504, 0.0), (2506, 0.0), (2508, 0.0), (2510, 0.0), (2511, 0.0), (2513, 0.0), (2514, 0.0), (2515, 0.0), (2516, 0.0), (2517, 0.0), (2519, 0.0), (2521, 0.0), (2523, 0.0), (2532, 0.0), (2536, 0.0), (2539, 0.0), (2541, 0.0), (2542, 0.0), (2543, 0.0), (2544, 0.0), (2547, 0.0), (2548, 0.0), (2549, 0.0), (2551, 0.0), (2564, 0.0), (2566, 0.0), (2567, 0.0), (2574, 0.0), (2575, 0.0), (2577, 0.0), (2578, 0.0), (2581, 0.0), (2582, 0.0), (2583, 0.0), (2584, 0.0), (2586, 0.0), (2588, 0.0), (2589, 0.0), (2590, 0.0), (2594, 0.0), (2596, 0.0), (2597, 0.0), (2599, 0.0), (2600, 0.0), (2604, 0.0), (2605, 0.0), (2608, 0.0), (2615, 0.0), (2616, 0.0), (2618, 0.0), (2622, 0.0), (2626, 0.0), (2627, 0.0), (2630, 0.0), (2631, 0.0), (2635, 0.0), (2637, 0.0), (2639, 0.0), (2641, 0.0), (2644, 0.0), (2646, 0.0), (2648, 0.0), (2656, 0.0), (2657, 0.0), (2658, 0.0), (2660, 0.0), (2662, 0.0), (2663, 0.0), (2665, 0.0), (2666, 0.0), (2667, 0.0), (2669, 0.0), (2670, 0.0), (2671, 0.0), (2672, 0.0), (2675, 0.0), (2676, 0.0), (2677, 0.0), (2680, 0.0), (2681, 0.0), (2682, 0.0), (2683, 0.0), (2685, 0.0), (2686, 0.0), (2688, 0.0), (2690, 0.0), (2691, 0.0), (2693, 0.0), (2699, 0.0), (2700, 0.0), (2703, 0.0), (2704, 0.0), (2708, 0.0), (2709, 0.0), (2710, 0.0), (2711, 0.0), (2713, 0.0), (2715, 0.0), (2717, 0.0), (2718, 0.0), (2719, 0.0), (2726, 0.0), (2727, 0.0), (2729, 0.0), (2730, 0.0), (2732, 0.0), (2733, 0.0), (2736, 0.0), (2742, 0.0), (2749, 0.0), (2750, 0.0), (2751, 0.0), (2754, 0.0), (2756, 0.0), (2759, 0.0), (2762, 0.0), (2763, 0.0), (2770, 0.0), (2773, 0.0), (2780, 0.0), (2781, 0.0), (2785, 0.0), (2787, 0.0), (2788, 0.0), (2789, 0.0), (2790, 0.0), (2791, 0.0), (2799, 0.0), (2801, 0.0), (2804, 0.0), (2805, 0.0), (2806, 0.0), (2810, 0.0), (2813, 0.0), (2814, 0.0), (2815, 0.0), (2817, 0.0), (2818, 0.0), (2819, 0.0), (2820, 0.0), (2822, 0.0), (2823, 0.0), (2824, 0.0), (2825, 0.0), (2827, 0.0), (2828, 0.0), (2829, 0.0), (2836, 0.0), (2837, 0.0), (2839, 0.0), (2843, 0.0), (2847, 0.0), (2850, 0.0), (2851, 0.0), (2852, 0.0), (2855, 0.0), (2856, 0.0), (2860, 0.0), (2865, 0.0), (2866, 0.0), (2867, 0.0), (2869, 0.0), (2871, 0.0), (2873, 0.0), (2874, 0.0), (2875, 0.0), (2877, 0.0), (2880, 0.0), (2885, 0.0), (2891, 0.0), (2896, 0.0), (2897, 0.0), (2898, 0.0), (2905, 0.0), (2906, 0.0), (2913, 0.0), (2921, 0.0), (2922, 0.0), (2927, 0.0), (2928, 0.0), (2929, 0.0), (2930, 0.0), (2935, 0.0), (2938, 0.0), (2939, 0.0), (2941, 0.0), (2944, 0.0), (2947, 0.0), (2948, 0.0), (2950, 0.0), (2951, 0.0), (2952, 0.0), (2955, 0.0), (2956, 0.0), (2958, 0.0), (2959, 0.0), (2960, 0.0), (2962, 0.0), (2963, 0.0), (2967, 0.0), (2968, 0.0), (2971, 0.0), (2973, 0.0), (2978, 0.0), (2982, 0.0), (2983, 0.0), (2984, 0.0), (2990, 0.0), (2991, 0.0), (2992, 0.0), (2994, 0.0), (3001, 0.0), (3002, 0.0), (3005, 0.0), (3008, 0.0), (3011, 0.0), (3017, 0.0), (3021, 0.0), (3022, 0.0), (3023, 0.0), (3025, 0.0), (3029, 0.0), (3033, 0.0), (3034, 0.0), (3038, 0.0), (3039, 0.0), (3041, 0.0), (3045, 0.0), (3047, 0.0), (3048, 0.0), (3049, 0.0), (3054, 0.0), (3058, 0.0), (3059, 0.0), (3060, 0.0), (3061, 0.0), (3063, 0.0), (3066, 0.0), (3068, 0.0), (3070, 0.0), (3073, 0.0), (3077, 0.0), (3078, 0.0), (3079, 0.0), (3080, 0.0), (3082, 0.0), (3083, 0.0), (3085, 0.0), (3087, 0.0), (3088, 0.0), (3089, 0.0), (3090, 0.0), (3092, 0.0), (3098, 0.0), (3099, 0.0), (3100, 0.0), (3102, 0.0), (3103, 0.0), (3104, 0.0), (3105, 0.0), (3106, 0.0), (3107, 0.0), (3109, 0.0), (3110, 0.0), (3114, 0.0), (3115, 0.0), (3117, 0.0), (3118, 0.0), (3124, 0.0), (3127, 0.0), (3129, 0.0), (3130, 0.0), (3131, 0.0), (3132, 0.0), (3133, 0.0), (3134, 0.0), (3135, 0.0), (3136, 0.0), (3138, 0.0), (3141, 0.0), (3142, 0.0), (3143, 0.0), (3144, 0.0), (3145, 0.0), (3149, 0.0), (3156, 0.0), (3158, 0.0), (3160, 0.0), (3161, 0.0), (3162, 0.0), (3163, 0.0), (3164, 0.0), (3168, 0.0), (3169, 0.0), (3172, 0.0), (3175, 0.0), (3176, 0.0), (3177, 0.0), (3179, 0.0), (3180, 0.0), (3181, 0.0), (3185, 0.0), (3188, 0.0), (3189, 0.0), (3190, 0.0), (3191, 0.0), (3192, 0.0), (3193, 0.0), (3197, 0.0), (3201, 0.0), (3203, 0.0), (3204, 0.0), (3205, 0.0), (3207, 0.0), (3209, 0.0), (3212, 0.0), (3213, 0.0), (3215, 0.0), (3217, 0.0), (3221, 0.0), (3222, 0.0), (3223, 0.0), (3229, 0.0), (3231, 0.0), (3232, 0.0), (3236, 0.0), (3244, 0.0), (3245, 0.0), (3247, 0.0), (3250, 0.0), (3251, 0.0), (3253, 0.0), (3255, 0.0), (3256, 0.0), (3259, 0.0), (3261, 0.0), (3263, 0.0), (3266, 0.0), (3272, 0.0), (3277, 0.0), (3279, 0.0), (3280, 0.0), (3281, 0.0), (3286, 0.0), (3287, 0.0), (3288, 0.0), (3294, 0.0), (3295, 0.0), (3305, 0.0), (3309, 0.0), (3312, 0.0), (3319, 0.0), (3320, 0.0), (3323, 0.0), (3324, 0.0), (3332, 0.0), (3333, 0.0), (3334, 0.0), (3338, 0.0), (3339, 0.0), (3340, 0.0), (3345, 0.0), (3361, 0.0), (3366, 0.0), (3367, 0.0), (3375, 0.0), (3377, 0.0), (3378, 0.0), (3383, 0.0), (3384, 0.0), (3387, 0.0), (3394, 0.0), (3395, 0.0), (3397, 0.0), (3398, 0.0), (3400, 0.0), (3401, 0.0), (3404, 0.0), (3405, 0.0), (3411, 0.0), (3415, 0.0), (3416, 0.0), (3420, 0.0), (3422, 0.0), (3424, 0.0), (3426, 0.0), (3428, 0.0), (3429, 0.0), (3438, 0.0), (3439, 0.0), (3440, 0.0), (3442, 0.0), (3443, 0.0), (3444, 0.0), (3446, 0.0), (3448, 0.0), (3453, 0.0), (3454, 0.0), (3456, 0.0), (3457, 0.0), (3459, 0.0), (3461, 0.0), (3462, 0.0), (3463, 0.0), (3464, 0.0), (3465, 0.0), (3466, 0.0), (3467, 0.0), (3468, 0.0), (3469, 0.0), (3470, 0.0), (3472, 0.0), (3476, 0.0), (3480, 0.0), (3481, 0.0), (3482, 0.0), (3484, 0.0), (3485, 0.0), (3486, 0.0), (3488, 0.0), (3489, 0.0), (3490, 0.0), (3494, 0.0), (3495, 0.0), (3502, 0.0), (3505, 0.0), (3507, 0.0), (3508, 0.0), (3509, 0.0), (3515, 0.0), (3518, 0.0), (3519, 0.0), (3520, 0.0), (3522, 0.0), (3525, 0.0), (3528, 0.0), (3529, 0.0), (3530, 0.0), (3531, 0.0), (3532, 0.0), (3533, 0.0), (3535, 0.0), (3539, 0.0), (3543, 0.0), (3545, 0.0), (3547, 0.0), (3549, 0.0), (3550, 0.0), (3559, 0.0), (3562, 0.0), (3566, 0.0), (3568, 0.0), (3572, 0.0), (3573, 0.0), (3574, 0.0), (3576, 0.0), (3578, 0.0), (3580, 0.0), (3581, 0.0), (3582, 0.0), (3583, 0.0), (3584, 0.0), (3585, 0.0), (3586, 0.0), (3589, 0.0), (3591, 0.0), (3592, 0.0), (3594, 0.0), (3595, 0.0), (3597, 0.0), (3598, 0.0), (3600, 0.0), (3602, 0.0), (3603, 0.0), (3604, 0.0), (3605, 0.0), (3607, 0.0), (3610, 0.0), (3617, 0.0), (3619, 0.0), (3622, 0.0), (3625, 0.0), (3628, 0.0), (3630, 0.0), (3631, 0.0), (3633, 0.0), (3644, 0.0), (3648, 0.0), (3650, 0.0), (3652, 0.0), (3658, 0.0), (3659, 0.0), (3662, 0.0), (3663, 0.0), (3664, 0.0), (3671, 0.0), (3674, 0.0), (3676, 0.0), (3679, 0.0), (3681, 0.0), (3682, 0.0), (3683, 0.0), (3684, 0.0), (3685, 0.0), (3686, 0.0), (3688, 0.0), (3690, 0.0), (3695, 0.0), (3698, 0.0), (3700, 0.0), (3702, 0.0), (3703, 0.0), (3708, 0.0), (3709, 0.0), (3710, 0.0), (3711, 0.0), (3712, 0.0), (3713, 0.0), (3715, 0.0), (3716, 0.0), (3717, 0.0), (3718, 0.0), (3720, 0.0), (3721, 0.0), (3722, 0.0), (3723, 0.0), (3724, 0.0), (3726, 0.0), (3730, 0.0), (3731, 0.0), (3732, 0.0), (3738, 0.0), (3740, 0.0), (3741, 0.0), (3743, 0.0), (3744, 0.0), (3746, 0.0), (3747, 0.0), (3748, 0.0), (3750, 0.0), (3752, 0.0), (3753, 0.0), (3758, 0.0), (3760, 0.0), (3761, 0.0), (3764, 0.0), (3768, 0.0), (3769, 0.0), (3773, 0.0), (3775, 0.0), (3776, 0.0), (3782, 0.0), (3783, 0.0), (3786, 0.0), (3787, 0.0), (3788, 0.0), (3789, 0.0), (3791, 0.0), (3793, 0.0), (3794, 0.0), (3796, 0.0), (3798, 0.0), (3800, 0.0), (3802, 0.0), (3803, 0.0), (3805, 0.0), (3806, 0.0), (3810, 0.0), (3814, 0.0), (3815, 0.0), (3816, 0.0), (3817, 0.0), (3818, 0.0), (3820, 0.0), (3823, 0.0), (3824, 0.0), (3825, 0.0), (3830, 0.0), (3831, 0.0), (3833, 0.0), (3836, 0.0), (3837, 0.0), (3840, 0.0), (3842, 0.0), (3843, 0.0), (3844, 0.0), (3846, 0.0), (3847, 0.0), (3849, 0.0), (3850, 0.0), (3851, 0.0), (3852, 0.0), (3853, 0.0), (3856, 0.0), (3858, 0.0), (3860, 0.0), (3861, 0.0), (3864, 0.0), (3865, 0.0), (3869, 0.0), (3870, 0.0), (3871, 0.0), (3872, 0.0), (3879, 0.0), (3881, 0.0), (3885, 0.0), (3886, 0.0), (3887, 0.0), (3891, 0.0), (3896, 0.0), (3897, 0.0), (3905, 0.0), (3907, 0.0), (3908, 0.0), (3909, 0.0), (3912, 0.0), (3914, 0.0), (3916, 0.0), (3918, 0.0), (3921, 0.0), (3926, 0.0), (3929, 0.0), (3930, 0.0), (3931, 0.0), (3933, 0.0), (3934, 0.0), (3936, 0.0), (3937, 0.0), (3938, 0.0), (3940, 0.0), (3942, 0.0), (3943, 0.0), (3946, 0.0), (3947, 0.0), (3948, 0.0), (3949, 0.0), (3950, 0.0), (3955, 0.0), (3958, 0.0), (3963, 0.0), (3966, 0.0), (3968, 0.0), (3969, 0.0), (3970, 0.0), (3971, 0.0), (3972, 0.0), (3975, 0.0), (3976, 0.0), (3977, 0.0), (3979, 0.0), (3980, 0.0), (3981, 0.0), (3982, 0.0), (3985, 0.0), (3988, 0.0), (3989, 0.0), (3991, 0.0), (3993, 0.0), (3994, 0.0), (3995, 0.0), (3998, 0.0), (4001, 0.0), (4003, 0.0), (4006, 0.0), (4007, 0.0), (4008, 0.0), (4010, 0.0), (4012, 0.0), (4018, 0.0), (4021, 0.0), (4022, 0.0), (4026, 0.0), (4027, 0.0), (4028, 0.0), (4029, 0.0), (4031, 0.0), (4034, 0.0), (4035, 0.0), (4037, 0.0), (4039, 0.0), (4040, 0.0), (4041, 0.0), (4043, 0.0), (4044, 0.0), (4045, 0.0), (4047, 0.0), (4050, 0.0), (4055, 0.0), (4057, 0.0), (4058, 0.0), (4061, 0.0), (4064, 0.0), (4065, 0.0), (4067, 0.0), (4070, 0.0), (4071, 0.0), (4072, 0.0), (4073, 0.0), (4076, 0.0), (4077, 0.0), (4078, 0.0), (4088, 0.0), (4090, 0.0), (4091, 0.0), (4093, 0.0), (4094, 0.0), (4096, 0.0), (4097, 0.0), (4099, 0.0), (4100, 0.0), (4103, 0.0), (4105, 0.0), (4108, 0.0), (4109, 0.0), (4110, 0.0), (4112, 0.0), (4114, 0.0), (4115, 0.0), (4118, 0.0), (4119, 0.0), (4120, 0.0), (4122, 0.0), (4125, 0.0), (4127, 0.0), (4128, 0.0), (4131, 0.0), (4134, 0.0), (4144, 0.0), (4146, 0.0), (4148, 0.0), (4149, 0.0), (4150, 0.0), (4153, 0.0), (4157, 0.0), (4158, 0.0), (4159, 0.0), (4162, 0.0), (4164, 0.0), (4166, 0.0), (4167, 0.0), (4170, 0.0), (4173, 0.0), (4177, 0.0), (4179, 0.0), (4180, 0.0), (4181, 0.0), (4184, 0.0), (4185, 0.0), (4186, 0.0), (4188, 0.0), (4190, 0.0), (4191, 0.0), (4193, 0.0), (4194, 0.0), (4195, 0.0), (4196, 0.0), (4198, 0.0), (4199, 0.0), (4201, 0.0), (4204, 0.0), (4207, 0.0), (4208, 0.0), (4210, 0.0), (4212, 0.0), (4214, 0.0), (4215, 0.0), (4216, 0.0), (4217, 0.0), (4218, 0.0), (4219, 0.0), (4223, 0.0), (4224, 0.0), (4226, 0.0), (4227, 0.0), (4229, 0.0), (4233, 0.0), (4234, 0.0), (4236, 0.0), (4237, 0.0), (4238, 0.0), (4240, 0.0), (4241, 0.0), (4248, 0.0), (4250, 0.0), (4252, 0.0), (4253, 0.0), (4256, 0.0), (4258, 0.0), (4260, 0.0), (4261, 0.0), (4264, 0.0), (4265, 0.0), (4270, 0.0), (4271, 0.0), (4272, 0.0), (4274, 0.0), (4275, 0.0), (4276, 0.0), (4278, 0.0), (4279, 0.0), (4285, 0.0), (4289, 0.0), (4290, 0.0), (4291, 0.0), (4292, 0.0), (4294, 0.0), (4297, 0.0), (4300, 0.0), (4302, 0.0), (4303, 0.0), (4305, 0.0), (4307, 0.0), (4310, 0.0), (4312, 0.0), (4313, 0.0), (4314, 0.0), (4315, 0.0), (4316, 0.0), (4317, 0.0), (4319, 0.0), (4322, 0.0), (4323, 0.0), (4324, 0.0), (4325, 0.0), (4327, 0.0), (4328, 0.0), (4329, 0.0), (4331, 0.0), (4332, 0.0), (4335, 0.0), (4337, 0.0), (4341, 0.0), (4342, 0.0), (4347, 0.0), (4351, 0.0), (4352, 0.0), (4353, 0.0), (4358, 0.0), (4360, 0.0), (4364, 0.0), (4365, 0.0), (4367, 0.0), (4370, 0.0), (4372, 0.0), (4373, 0.0), (4375, 0.0), (4376, 0.0), (4377, 0.0), (4378, 0.0), (4380, 0.0), (4383, 0.0), (4384, 0.0), (4385, 0.0), (4388, 0.0), (4389, 0.0), (4390, 0.0), (4392, 0.0), (4393, 0.0), (4404, 0.0), (4405, 0.0), (4406, 0.0), (4408, 0.0), (4410, 0.0), (4413, 0.0), (4414, 0.0), (4415, 0.0), (4417, 0.0), (4421, 0.0), (4424, 0.0), (4425, 0.0), (4426, 0.0), (4433, 0.0), (4434, 0.0), (4436, 0.0), (4437, 0.0), (4438, 0.0), (4439, 0.0), (4440, 0.0), (4441, 0.0), (4447, 0.0), (4449, 0.0), (4450, 0.0), (4451, 0.0), (4453, 0.0), (4454, 0.0), (4455, 0.0), (4456, 0.0), (4457, 0.0), (4459, 0.0), (4460, 0.0), (4462, 0.0), (4463, 0.0), (4464, 0.0), (4466, 0.0), (4467, 0.0), (4468, 0.0), (4478, 0.0), (4481, 0.0), (4482, 0.0), (4483, 0.0), (4485, 0.0), (4488, 0.0), (4491, 0.0), (4492, 0.0), (4493, 0.0), (4496, 0.0), (4498, 0.0), (4499, 0.0), (4500, 0.0), (4506, 0.0), (4508, 0.0), (4509, 0.0), (4510, 0.0), (4512, 0.0), (4513, 0.0), (4514, 0.0), (4515, 0.0), (4519, 0.0), (4524, 0.0), (4525, 0.0), (4526, 0.0), (4527, 0.0), (4532, 0.0), (4534, 0.0), (4537, 0.0), (4538, 0.0), (4539, 0.0), (4541, 0.0), (4542, 0.0), (4543, 0.0), (4547, 0.0), (4548, 0.0), (4549, 0.0), (4552, 0.0), (4553, 0.0), (4556, 0.0), (4557, 0.0), (4558, 0.0), (4559, 0.0), (4560, 0.0), (4561, 0.0), (4562, 0.0), (4564, 0.0), (4565, 0.0), (4568, 0.0), (4569, 0.0), (4570, 0.0), (4577, 0.0), (4578, 0.0), (4580, 0.0), (4581, 0.0), (4582, 0.0), (4583, 0.0), (4585, 0.0), (4586, 0.0), (4587, 0.0), (4588, 0.0), (4592, 0.0), (4595, 0.0), (4600, 0.0), (4609, 0.0), (4613, 0.0), (4615, 0.0), (4618, 0.0), (4621, 0.0), (4622, 0.0), (4628, 0.0), (4630, 0.0), (4631, 0.0), (4635, 0.0), (4639, 0.0), (4644, 0.0), (4645, 0.0), (4646, 0.0), (4647, 0.0), (4648, 0.0), (4651, 0.0), (4654, 0.0), (4655, 0.0), (4656, 0.0), (4659, 0.0), (4662, 0.0), (4663, 0.0), (4664, 0.0), (4665, 0.0), (4666, 0.0), (4667, 0.0), (4671, 0.0), (4672, 0.0), (4675, 0.0), (4676, 0.0), (4678, 0.0), (4681, 0.0), (4682, 0.0), (4683, 0.0), (4684, 0.0), (4688, 0.0), (4689, 0.0), (4690, 0.0), (4691, 0.0), (4695, 0.0), (4697, 0.0), (4698, 0.0), (4700, 0.0), (4702, 0.0), (4703, 0.0), (4707, 0.0), (4711, 0.0), (4714, 0.0), (4716, 0.0), (4720, 0.0), (4721, 0.0), (4726, 0.0), (4727, 0.0), (4728, 0.0), (4730, 0.0), (4737, 0.0), (4738, 0.0), (4740, 0.0), (4741, 0.0), (4742, 0.0), (4745, 0.0), (4746, 0.0), (4747, 0.0), (4750, 0.0), (4751, 0.0), (4754, 0.0), (4758, 0.0), (4759, 0.0)]\n"
          ]
        }
      ]
    },
    {
      "cell_type": "code",
      "source": [
        "#print the name of similar movies based on the index\n",
        "print('Top 30 movies suggested for you:\\n')\n",
        "i=1\n",
        "for movie in Sorted_similar_movies:\n",
        "  index=movie[0]\n",
        "  title_from_index=df[df.index==index]['Movie_Title'].values[0]\n",
        "  if(i<31):\n",
        "    print(i,'.',title_from_index)\n",
        "    i+=1"
      ],
      "metadata": {
        "colab": {
          "base_uri": "https://localhost:8080/"
        },
        "id": "Z22MJ6ScW7po",
        "outputId": "6057929d-c03f-470f-c3a9-ab8de035769c"
      },
      "execution_count": 32,
      "outputs": [
        {
          "output_type": "stream",
          "name": "stdout",
          "text": [
            "Top 30 movies suggested for you:\n",
            "\n",
            "1 . Stonewall\n",
            "2 . The Last Exorcism\n",
            "3 . Antiviral\n",
            "4 . Anonymous\n",
            "5 . Match Point\n",
            "6 . Alexander\n",
            "7 . The Railway Man\n",
            "8 . White House Down\n",
            "9 . The Children of Huang Shi\n",
            "10 . The I Inside\n",
            "11 . Fantasia 2000\n",
            "12 . Velvet Goldmine\n",
            "13 . Vanity Fair\n",
            "14 . From Paris with Love\n",
            "15 . August Rush\n",
            "16 . Mission: Impossible III\n",
            "17 . Saving Mr. Banks\n",
            "18 . Hellboy II: The Golden Army\n",
            "19 . Independence Day\n",
            "20 . Independence Day: Resurgence\n",
            "21 . The Patriot\n",
            "22 . House at the End of the Drive\n",
            "23 . Happy, Texas\n",
            "24 . A Fine Step\n",
            "25 . Bend It Like Beckham\n",
            "26 . Dark Blue\n",
            "27 . Now Is Good\n",
            "28 . Beyond Borders\n",
            "29 . Ride with the Devil\n",
            "30 . Exorcist: The Beginning\n"
          ]
        }
      ]
    },
    {
      "cell_type": "markdown",
      "source": [
        "# Top 10 movie recommendation System"
      ],
      "metadata": {
        "id": "T4BRHjHsYexL"
      }
    },
    {
      "cell_type": "code",
      "source": [
        "movie_name=input('Enter your favourite movie name')\n",
        "list_of_all_titles=df['Movie_Title'].tolist()\n",
        "Find_Close_Match=difflib.get_close_matches(movie_name,list_of_all_titles)\n",
        "close_match=Find_Close_Match[0]\n",
        "Index_of_movie=df[df.Movie_Title==Close_Match]['Movie_ID'].values[0]\n",
        "Recommendation_score=list(enumerate(similarity_score[Index_of_movie]))\n",
        "sorted_similar_movies=sorted(Recommendation_score,key=lambda x:x[1],reverse=True)\n",
        "print('Top 10 movies suggested for you:\\n')\n",
        "i=1\n",
        "for movie in Sorted_similar_movies:\n",
        "  index=movie[0]\n",
        "  title_from_index=df[df.index==index]['Movie_Title'].values[0]\n",
        "  if(i<11):\n",
        "    print(i,'.',title_from_index)\n",
        "    i+=1"
      ],
      "metadata": {
        "colab": {
          "base_uri": "https://localhost:8080/"
        },
        "id": "StH9uQ_6YGe5",
        "outputId": "027c0435-6f78-46f0-96fa-91b5c67c366c"
      },
      "execution_count": 33,
      "outputs": [
        {
          "output_type": "stream",
          "name": "stdout",
          "text": [
            "Enter your favourite movie nameCaptain America\n",
            "Top 10 movies suggested for you:\n",
            "\n",
            "1 . Stonewall\n",
            "2 . The Last Exorcism\n",
            "3 . Antiviral\n",
            "4 . Anonymous\n",
            "5 . Match Point\n",
            "6 . Alexander\n",
            "7 . The Railway Man\n",
            "8 . White House Down\n",
            "9 . The Children of Huang Shi\n",
            "10 . The I Inside\n"
          ]
        }
      ]
    }
  ]
}